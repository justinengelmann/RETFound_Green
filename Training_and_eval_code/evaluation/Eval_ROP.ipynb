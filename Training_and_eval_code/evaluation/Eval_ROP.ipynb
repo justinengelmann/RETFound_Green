{
 "cells": [
  {
   "cell_type": "code",
   "execution_count": 1,
   "id": "b4f20e5b-82cf-40da-bce1-e6456c73afb5",
   "metadata": {},
   "outputs": [],
   "source": [
    "import pandas as pd\n",
    "import numpy as np\n",
    "\n",
    "from sklearn.linear_model import LogisticRegression\n",
    "from sklearn.pipeline import make_pipeline\n",
    "from sklearn.preprocessing import StandardScaler\n",
    "from sklearn.metrics import roc_auc_score\n",
    "\n",
    "import joblib\n",
    "\n",
    "# optional, for progress bars\n",
    "from tqdm.notebook import tqdm\n",
    "import time\n",
    "\n",
    "import matplotlib.pyplot as plt\n",
    "import seaborn as sns\n",
    "\n",
    "from scipy.stats import wilcoxon\n",
    "\n",
    "\n",
    "def get_bootstrap_aucs(y_true, y_pred, bootstrap_iters=100):\n",
    "    rng = np.random.RandomState(seed=42)\n",
    "    idxs = list(range(y_pred.shape[0]))\n",
    "\n",
    "    bootstrap_aucs = []\n",
    "    for _ in range(bootstrap_iters):\n",
    "        curr_idxs = rng.choice(idxs, size=len(idxs), replace=True)\n",
    "        bootstrap_aucs.append(roc_auc_score(y_true[curr_idxs], y_pred[curr_idxs],\n",
    "                                            multi_class='ovr', average='macro'))\n",
    "\n",
    "    return np.median(bootstrap_aucs), bootstrap_aucs\n",
    "\n",
    "\n",
    "def get_p_values(all_aucs):\n",
    "    all_aucs = np.vstack(all_aucs)\n",
    "    median_aucs = np.median(all_aucs, -1)\n",
    "    second_best_idx, best_idx = median_aucs.argsort()[-2:]\n",
    "    p_val = wilcoxon(all_aucs[best_idx], all_aucs[second_best_idx])[1]\n",
    "    return p_val, (best_idx, second_best_idx)\n",
    "\n",
    "\n",
    "def pval_to_str(p_val):\n",
    "    if p_val < 0.0001:\n",
    "        p_val = 'p<0.0001'\n",
    "        p_val = '***'\n",
    "    else:\n",
    "        p_val = f'p={p_val:.4f}'\n",
    "    return p_val\n",
    "\n",
    "\n",
    "def darken_hex(hex_color, factor=0.5):\n",
    "    # Ensure the factor is between 0 and 1\n",
    "    factor = max(0, min(factor, 1))\n",
    "\n",
    "    # Remove the hash symbol if present\n",
    "    hex_color = hex_color.lstrip('#')\n",
    "\n",
    "    # Convert hex to RGB\n",
    "    rgb = tuple(int(hex_color[i:i + 2], 16) for i in (0, 2, 4))\n",
    "\n",
    "    # Darken the RGB values by multiplying by the factor\n",
    "    darkened_rgb = tuple(int(c * factor) for c in rgb)\n",
    "\n",
    "    # Convert the RGB values back to hex\n",
    "    darkened_hex = '#{:02x}{:02x}{:02x}'.format(*darkened_rgb)\n",
    "\n",
    "    return darkened_hex\n",
    "\n",
    "\n",
    "dftrain = pd.read_csv('/mnt/c/Users/Justin/Desktop/retina_imaging_datasets/ROP_dataset/dftrain.csv')\n",
    "dftest = pd.read_csv('/mnt/c/Users/Justin/Desktop/retina_imaging_datasets/ROP_dataset/dftest.csv')\n",
    "name_X_list = [\n",
    "    ('RETFound-MEH', \n",
    "     '/home/justin/RETFound_MAE/ROP_Train_RETFound_Feature_latent.npy',\n",
    "     '/home/justin/RETFound_MAE/ROP_Test_RETFound_Feature_latent.npy'),\n",
    "    ('DERETFound', \n",
    "     '/home/justin/RETFound_MAE/ROP_Train_DERETFound_Feature_latent.npy',\n",
    "     '/home/justin/RETFound_MAE/ROP_Test_DERETFound_Feature_latent.npy'),\n",
    "    ('RETFound-Green', \n",
    "     'ROP_Train_X_ours.npy',\n",
    "     'ROP_Test_X_ours.npy'),\n",
    "]\n",
    "models = ['RETFound-MEH', 'DERETFound', 'RETFound-Green']\n",
    "colors = ['#ff595e', '#ffca3a', '#8ac926']\n"
   ]
  },
  {
   "cell_type": "code",
   "execution_count": 2,
   "id": "a5b75a8e-255f-4db6-b28f-04c3a1cc12fe",
   "metadata": {},
   "outputs": [],
   "source": [
    "def run_rop_exp(name_X_list, models, colors,\n",
    "                figsize=(12, 4), dashed_line_offsets=(-2.75, 0.25), xtick_loc_scaling=1, title_size='large'):\n",
    "    targets = ['Normal', 'laser_scars', 'ROP',\n",
    "               'Stage_1_ROP', 'Stage_2_ROP', 'Stage_3_ROP',\n",
    "               'FINE_Stage_1_ROP', 'FINE_Stage_2_ROP', 'FINE_Stage_3_ROP',\n",
    "              ]\n",
    "\n",
    "    results_df = pd.DataFrame(columns=['Name'] + targets)\n",
    "    name_bootstrap_aucs_dict = {}\n",
    "    name_times_dict = {}\n",
    "    for name, X_train_fname, X_test_fname in tqdm(name_X_list):\n",
    "        np.random.seed(42)\n",
    "\n",
    "        name_times_dict[name] = []\n",
    "        median_aucs = []\n",
    "\n",
    "        X_train = np.load(X_train_fname)\n",
    "        X_test = np.load(X_test_fname)\n",
    "\n",
    "        perf_str = f'{name:>20}:'\n",
    "        for target_col in tqdm(targets, leave=True):\n",
    "            y_train = dftrain['class'].apply(lambda x: x.endswith(target_col.replace(\"FINE_\", \"\"))).values\n",
    "            y_test = dftest['class'].apply(lambda x: x.endswith(target_col.replace(\"FINE_\", \"\"))).values\n",
    "\n",
    "            if target_col.startswith('FINE_'):\n",
    "                # remove laser scars\n",
    "                train_rop_mask = dftrain['class'].apply(lambda x: not x.endswith('laser_scars'))\n",
    "                test_rop_mask = dftest['class'].apply(lambda x: not x.endswith('laser_scars'))\n",
    "\n",
    "                X_train_curr = X_train[train_rop_mask]\n",
    "                y_train = y_train[train_rop_mask]\n",
    "                \n",
    "                X_test_curr = X_test[test_rop_mask]\n",
    "                y_test = y_test[test_rop_mask]\n",
    "\n",
    "            else:\n",
    "                # no changes needed\n",
    "                X_train_curr = X_train\n",
    "                X_test_curr = X_test\n",
    "            \n",
    "\n",
    "            start = time.time()\n",
    "            clf = make_pipeline(StandardScaler(), LogisticRegression(max_iter=20_000, random_state=42))\n",
    "            clf.fit(X_train_curr, y_train)\n",
    "            preds = clf.predict_proba(X_test_curr)[:, 1]\n",
    "            stop = time.time()\n",
    "            delta = stop - start\n",
    "            name_times_dict[name].append(delta)\n",
    "\n",
    "            curr_median_auc, curr_bootstrap_aucs = get_bootstrap_aucs(y_test, preds)\n",
    "            name_bootstrap_aucs_dict[f'{name}-{target_col}'] = curr_bootstrap_aucs\n",
    "            median_aucs.append(curr_median_auc)\n",
    "\n",
    "        perf_str += '\\t'.join([f'{c}:{v:.4f}' for c, v in zip(targets, median_aucs)])\n",
    "        print(perf_str)\n",
    "        print(f'Total time: {sum(name_times_dict[name]):.4f}s / mean time: {np.mean(name_times_dict[name]):.4f}s')\n",
    "\n",
    "        results_df.loc[name] = [name] + median_aucs\n",
    "\n",
    "    display(results_df.round(4))\n",
    "\n",
    "    fig, axes = plt.subplots(1, 3, figsize=figsize)\n",
    "    axes = axes.flat\n",
    "\n",
    "    width = 0.25\n",
    "\n",
    "    target_groups = {\n",
    "        'Primary classification': ['Normal', 'laser_scars', 'ROP'],\n",
    "        'Specific ROP stage vs everything else': ['Stage_1_ROP', 'Stage_2_ROP', 'Stage_3_ROP'],\n",
    "        'Specific ROP stage - no laser scars': ['FINE_Stage_1_ROP', 'FINE_Stage_2_ROP', 'FINE_Stage_3_ROP'],\n",
    "    }\n",
    "\n",
    "    wins = {_: 0 for _ in models}\n",
    "    ties = {_: 0 for _ in models}\n",
    "\n",
    "    for target_group, ax in zip(target_groups, axes):\n",
    "        targets = target_groups[target_group]\n",
    "        x = np.arange(len(targets))\n",
    "\n",
    "        for i, model in enumerate(models):\n",
    "            values = [results_df.loc[model, target] for target in targets]\n",
    "            locs = x + i * width\n",
    "            ax.bar(locs, values, width, label=model, color=colors[i], edgecolor=darken_hex(colors[i]))\n",
    "            if model == 'RETFound-Green':\n",
    "                for _idx in range(len(values)):\n",
    "                    _left = locs[_idx] + dashed_line_offsets[0] * width\n",
    "                    _right = locs[_idx] + dashed_line_offsets[1] * width\n",
    "                    _val = values[_idx]\n",
    "                    ax.plot([_left, _right], [_val, _val], c=colors[i], linewidth=1.5, alpha=0.8, linestyle=':')\n",
    "\n",
    "        # plot stat significance\n",
    "        for t_idx, target in enumerate(targets):\n",
    "            target_str = target.replace(\" vs Rest\", \"\")\n",
    "            aucs = [name_bootstrap_aucs_dict[f'{name}-{target}'] for name in models]\n",
    "            p_val, (best_idx, second_best_idx) = get_p_values(aucs)\n",
    "            best_val = np.median(np.vstack(aucs), axis=-1).max()\n",
    "\n",
    "            if p_val < 0.05:\n",
    "                wins[models[best_idx]] += 1\n",
    "            else:\n",
    "                ties[models[best_idx]] += 1\n",
    "                ties[models[second_best_idx]] += 1\n",
    "\n",
    "            start_loc = t_idx + best_idx * width\n",
    "            end_loc = t_idx + second_best_idx * width\n",
    "\n",
    "            ax.plot([start_loc, start_loc, end_loc, end_loc],\n",
    "                    [best_val + 0.001, best_val + 0.012, best_val + 0.012, best_val + 0.001],\n",
    "                    c='black', lw=0.8)\n",
    "            text_loc_height_offset = 0.015 if not p_val < 0.0001 else 0.01\n",
    "            ax.text((start_loc + end_loc) / 2, best_val + text_loc_height_offset, pval_to_str(p_val), ha='center',\n",
    "                    fontsize='x-small',\n",
    "                    weight=None if not p_val < 0.05 else 'bold')\n",
    "\n",
    "            ax.set_xticks(x + width * xtick_loc_scaling)\n",
    "            targets_display = [_.replace('_', ' ').title() for _ in targets]\n",
    "            targets_display = [_.replace('Rop', \"ROP\").replace('Fine ', '').replace(' ROP', '')\n",
    "                               for _ in targets_display]\n",
    "            ax.set_xticklabels(targets_display, rotation=0, ha='center')\n",
    "            ax.set_ylim(0.5, 1.03)\n",
    "            ax.set_title(target_group, fontsize=title_size)\n",
    "\n",
    "    axes[0].set_ylabel('AUC on test set')\n",
    "    axes[1].set_yticklabels([])\n",
    "    axes[2].set_yticklabels([])\n",
    "    plt.tight_layout()\n",
    "    plt.show()\n",
    "\n",
    "    print('Statistically significant wins: ', wins)\n",
    "    print('Ties for first place: ', ties)\n",
    "\n"
   ]
  },
  {
   "cell_type": "code",
   "execution_count": 3,
   "id": "a6b46365-6212-43b8-9792-b5d2ede3171f",
   "metadata": {},
   "outputs": [
    {
     "data": {
      "application/vnd.jupyter.widget-view+json": {
       "model_id": "15e99a5d13d3451cb17cedfb5d6a6c78",
       "version_major": 2,
       "version_minor": 0
      },
      "text/plain": [
       "  0%|          | 0/3 [00:00<?, ?it/s]"
      ]
     },
     "metadata": {},
     "output_type": "display_data"
    },
    {
     "data": {
      "application/vnd.jupyter.widget-view+json": {
       "model_id": "d369e93f8cae4a178c960a9be4268bda",
       "version_major": 2,
       "version_minor": 0
      },
      "text/plain": [
       "  0%|          | 0/9 [00:00<?, ?it/s]"
      ]
     },
     "metadata": {},
     "output_type": "display_data"
    },
    {
     "name": "stdout",
     "output_type": "stream",
     "text": [
      "        RETFound-MEH:Normal:0.9952\tlaser_scars:0.9991\tROP:0.9818\tStage_1_ROP:0.8296\tStage_2_ROP:0.7886\tStage_3_ROP:0.8634\tFINE_Stage_1_ROP:0.8085\tFINE_Stage_2_ROP:0.7076\tFINE_Stage_3_ROP:0.7990\n",
      "Total time: 0.4424s / mean time: 0.0492s\n"
     ]
    },
    {
     "data": {
      "application/vnd.jupyter.widget-view+json": {
       "model_id": "0385975ad1be4cec90953dd89af2b975",
       "version_major": 2,
       "version_minor": 0
      },
      "text/plain": [
       "  0%|          | 0/9 [00:00<?, ?it/s]"
      ]
     },
     "metadata": {},
     "output_type": "display_data"
    },
    {
     "name": "stdout",
     "output_type": "stream",
     "text": [
      "          DERETFound:Normal:0.9949\tlaser_scars:0.9998\tROP:0.9920\tStage_1_ROP:0.8752\tStage_2_ROP:0.8879\tStage_3_ROP:0.9445\tFINE_Stage_1_ROP:0.8261\tFINE_Stage_2_ROP:0.8288\tFINE_Stage_3_ROP:0.9311\n",
      "Total time: 0.4433s / mean time: 0.0493s\n"
     ]
    },
    {
     "data": {
      "application/vnd.jupyter.widget-view+json": {
       "model_id": "e099a53cdf1a417a937a2dd753036938",
       "version_major": 2,
       "version_minor": 0
      },
      "text/plain": [
       "  0%|          | 0/9 [00:00<?, ?it/s]"
      ]
     },
     "metadata": {},
     "output_type": "display_data"
    },
    {
     "name": "stdout",
     "output_type": "stream",
     "text": [
      "      RETFound-Green:Normal:0.9978\tlaser_scars:1.0000\tROP:0.9942\tStage_1_ROP:0.8915\tStage_2_ROP:0.8920\tStage_3_ROP:0.9699\tFINE_Stage_1_ROP:0.8491\tFINE_Stage_2_ROP:0.8359\tFINE_Stage_3_ROP:0.9555\n",
      "Total time: 0.7377s / mean time: 0.0820s\n"
     ]
    },
    {
     "data": {
      "text/html": [
       "<div>\n",
       "<style scoped>\n",
       "    .dataframe tbody tr th:only-of-type {\n",
       "        vertical-align: middle;\n",
       "    }\n",
       "\n",
       "    .dataframe tbody tr th {\n",
       "        vertical-align: top;\n",
       "    }\n",
       "\n",
       "    .dataframe thead th {\n",
       "        text-align: right;\n",
       "    }\n",
       "</style>\n",
       "<table border=\"1\" class=\"dataframe\">\n",
       "  <thead>\n",
       "    <tr style=\"text-align: right;\">\n",
       "      <th></th>\n",
       "      <th>Name</th>\n",
       "      <th>Normal</th>\n",
       "      <th>laser_scars</th>\n",
       "      <th>ROP</th>\n",
       "      <th>Stage_1_ROP</th>\n",
       "      <th>Stage_2_ROP</th>\n",
       "      <th>Stage_3_ROP</th>\n",
       "      <th>FINE_Stage_1_ROP</th>\n",
       "      <th>FINE_Stage_2_ROP</th>\n",
       "      <th>FINE_Stage_3_ROP</th>\n",
       "    </tr>\n",
       "  </thead>\n",
       "  <tbody>\n",
       "    <tr>\n",
       "      <th>RETFound-MEH</th>\n",
       "      <td>RETFound-MEH</td>\n",
       "      <td>0.9952</td>\n",
       "      <td>0.9991</td>\n",
       "      <td>0.9818</td>\n",
       "      <td>0.8296</td>\n",
       "      <td>0.7886</td>\n",
       "      <td>0.8634</td>\n",
       "      <td>0.8085</td>\n",
       "      <td>0.7076</td>\n",
       "      <td>0.7990</td>\n",
       "    </tr>\n",
       "    <tr>\n",
       "      <th>DERETFound</th>\n",
       "      <td>DERETFound</td>\n",
       "      <td>0.9949</td>\n",
       "      <td>0.9998</td>\n",
       "      <td>0.9920</td>\n",
       "      <td>0.8752</td>\n",
       "      <td>0.8879</td>\n",
       "      <td>0.9445</td>\n",
       "      <td>0.8261</td>\n",
       "      <td>0.8288</td>\n",
       "      <td>0.9311</td>\n",
       "    </tr>\n",
       "    <tr>\n",
       "      <th>RETFound-Green</th>\n",
       "      <td>RETFound-Green</td>\n",
       "      <td>0.9978</td>\n",
       "      <td>1.0000</td>\n",
       "      <td>0.9942</td>\n",
       "      <td>0.8915</td>\n",
       "      <td>0.8920</td>\n",
       "      <td>0.9699</td>\n",
       "      <td>0.8491</td>\n",
       "      <td>0.8359</td>\n",
       "      <td>0.9555</td>\n",
       "    </tr>\n",
       "  </tbody>\n",
       "</table>\n",
       "</div>"
      ],
      "text/plain": [
       "                          Name  Normal  laser_scars     ROP  Stage_1_ROP  \\\n",
       "RETFound-MEH      RETFound-MEH  0.9952       0.9991  0.9818       0.8296   \n",
       "DERETFound          DERETFound  0.9949       0.9998  0.9920       0.8752   \n",
       "RETFound-Green  RETFound-Green  0.9978       1.0000  0.9942       0.8915   \n",
       "\n",
       "                Stage_2_ROP  Stage_3_ROP  FINE_Stage_1_ROP  FINE_Stage_2_ROP  \\\n",
       "RETFound-MEH         0.7886       0.8634            0.8085            0.7076   \n",
       "DERETFound           0.8879       0.9445            0.8261            0.8288   \n",
       "RETFound-Green       0.8920       0.9699            0.8491            0.8359   \n",
       "\n",
       "                FINE_Stage_3_ROP  \n",
       "RETFound-MEH              0.7990  \n",
       "DERETFound                0.9311  \n",
       "RETFound-Green            0.9555  "
      ]
     },
     "metadata": {},
     "output_type": "display_data"
    },
    {
     "data": {
      "image/png": "[encoded data removed]",
      "text/plain": [
       "<Figure size 1200x400 with 3 Axes>"
      ]
     },
     "metadata": {},
     "output_type": "display_data"
    },
    {
     "name": "stdout",
     "output_type": "stream",
     "text": [
      "Statistically significant wins:  {'RETFound-MEH': 0, 'DERETFound': 0, 'RETFound-Green': 8}\n",
      "Ties for first place:  {'RETFound-MEH': 0, 'DERETFound': 1, 'RETFound-Green': 1}\n"
     ]
    }
   ],
   "source": [
    "run_rop_exp(name_X_list, models, colors)"
   ]
  },
  {
   "cell_type": "code",
   "execution_count": 4,
   "id": "d263b656-6300-42f8-9771-3542ff6cec12",
   "metadata": {},
   "outputs": [
    {
     "data": {
      "application/vnd.jupyter.widget-view+json": {
       "model_id": "77b0d1c642074bd39a8e8e739ed78e3f",
       "version_major": 2,
       "version_minor": 0
      },
      "text/plain": [
       "  0%|          | 0/2 [00:00<?, ?it/s]"
      ]
     },
     "metadata": {},
     "output_type": "display_data"
    },
    {
     "data": {
      "application/vnd.jupyter.widget-view+json": {
       "model_id": "2231f8ae9be1463c9b3733c54ea3cb94",
       "version_major": 2,
       "version_minor": 0
      },
      "text/plain": [
       "  0%|          | 0/9 [00:00<?, ?it/s]"
      ]
     },
     "metadata": {},
     "output_type": "display_data"
    },
    {
     "name": "stdout",
     "output_type": "stream",
     "text": [
      "      RETFound-Green:Normal:0.9978\tlaser_scars:1.0000\tROP:0.9942\tStage_1_ROP:0.8915\tStage_2_ROP:0.8920\tStage_3_ROP:0.9699\tFINE_Stage_1_ROP:0.8491\tFINE_Stage_2_ROP:0.8359\tFINE_Stage_3_ROP:0.9555\n",
      "Total time: 0.4900s / mean time: 0.0544s\n"
     ]
    },
    {
     "data": {
      "application/vnd.jupyter.widget-view+json": {
       "model_id": "07f1e292ce644750a8a8d460743b77b1",
       "version_major": 2,
       "version_minor": 0
      },
      "text/plain": [
       "  0%|          | 0/9 [00:00<?, ?it/s]"
      ]
     },
     "metadata": {},
     "output_type": "display_data"
    },
    {
     "name": "stdout",
     "output_type": "stream",
     "text": [
      "              DinoV2:Normal:0.9957\tlaser_scars:0.9997\tROP:0.9914\tStage_1_ROP:0.8678\tStage_2_ROP:0.9001\tStage_3_ROP:0.9663\tFINE_Stage_1_ROP:0.8120\tFINE_Stage_2_ROP:0.8440\tFINE_Stage_3_ROP:0.9618\n",
      "Total time: 0.9440s / mean time: 0.1049s\n"
     ]
    },
    {
     "data": {
      "text/html": [
       "<div>\n",
       "<style scoped>\n",
       "    .dataframe tbody tr th:only-of-type {\n",
       "        vertical-align: middle;\n",
       "    }\n",
       "\n",
       "    .dataframe tbody tr th {\n",
       "        vertical-align: top;\n",
       "    }\n",
       "\n",
       "    .dataframe thead th {\n",
       "        text-align: right;\n",
       "    }\n",
       "</style>\n",
       "<table border=\"1\" class=\"dataframe\">\n",
       "  <thead>\n",
       "    <tr style=\"text-align: right;\">\n",
       "      <th></th>\n",
       "      <th>Name</th>\n",
       "      <th>Normal</th>\n",
       "      <th>laser_scars</th>\n",
       "      <th>ROP</th>\n",
       "      <th>Stage_1_ROP</th>\n",
       "      <th>Stage_2_ROP</th>\n",
       "      <th>Stage_3_ROP</th>\n",
       "      <th>FINE_Stage_1_ROP</th>\n",
       "      <th>FINE_Stage_2_ROP</th>\n",
       "      <th>FINE_Stage_3_ROP</th>\n",
       "    </tr>\n",
       "  </thead>\n",
       "  <tbody>\n",
       "    <tr>\n",
       "      <th>RETFound-Green</th>\n",
       "      <td>RETFound-Green</td>\n",
       "      <td>0.9978</td>\n",
       "      <td>1.0000</td>\n",
       "      <td>0.9942</td>\n",
       "      <td>0.8915</td>\n",
       "      <td>0.8920</td>\n",
       "      <td>0.9699</td>\n",
       "      <td>0.8491</td>\n",
       "      <td>0.8359</td>\n",
       "      <td>0.9555</td>\n",
       "    </tr>\n",
       "    <tr>\n",
       "      <th>DinoV2</th>\n",
       "      <td>DinoV2</td>\n",
       "      <td>0.9957</td>\n",
       "      <td>0.9997</td>\n",
       "      <td>0.9914</td>\n",
       "      <td>0.8678</td>\n",
       "      <td>0.9001</td>\n",
       "      <td>0.9663</td>\n",
       "      <td>0.8120</td>\n",
       "      <td>0.8440</td>\n",
       "      <td>0.9618</td>\n",
       "    </tr>\n",
       "  </tbody>\n",
       "</table>\n",
       "</div>"
      ],
      "text/plain": [
       "                          Name  Normal  laser_scars     ROP  Stage_1_ROP  \\\n",
       "RETFound-Green  RETFound-Green  0.9978       1.0000  0.9942       0.8915   \n",
       "DinoV2                  DinoV2  0.9957       0.9997  0.9914       0.8678   \n",
       "\n",
       "                Stage_2_ROP  Stage_3_ROP  FINE_Stage_1_ROP  FINE_Stage_2_ROP  \\\n",
       "RETFound-Green       0.8920       0.9699            0.8491            0.8359   \n",
       "DinoV2               0.9001       0.9663            0.8120            0.8440   \n",
       "\n",
       "                FINE_Stage_3_ROP  \n",
       "RETFound-Green            0.9555  \n",
       "DinoV2                    0.9618  "
      ]
     },
     "metadata": {},
     "output_type": "display_data"
    },
    {
     "data": {
      "image/png": "[encoded data removed]",
      "text/plain": [
       "<Figure size 850x400 with 3 Axes>"
      ]
     },
     "metadata": {},
     "output_type": "display_data"
    },
    {
     "name": "stdout",
     "output_type": "stream",
     "text": [
      "Statistically significant wins:  {'RETFound-Green': 6, 'DinoV2': 3}\n",
      "Ties for first place:  {'RETFound-Green': 0, 'DinoV2': 0}\n"
     ]
    }
   ],
   "source": [
    "name_X_list = [\n",
    "    ('RETFound-Green', \n",
    "     'ROP_Train_X_ours.npy',\n",
    "     'ROP_Test_X_ours.npy'),\n",
    "    ('DinoV2', \n",
    "     'ROP_Train_X_dino392.npy',\n",
    "     'ROP_Test_X_dino392.npy'),\n",
    "]\n",
    "\n",
    "models = ['RETFound-Green', 'DinoV2']\n",
    "colors = ['#8ac926', '#4d759a']\n",
    "\n",
    "run_rop_exp(name_X_list, models, colors,\n",
    "            figsize=(8.5, 4), dashed_line_offsets=(-0.25, 1.5), xtick_loc_scaling=0.5, title_size='medium')"
   ]
  },
  {
   "cell_type": "code",
   "execution_count": 5,
   "id": "72fce7c0-5012-4f96-8938-c405c126754a",
   "metadata": {},
   "outputs": [
    {
     "data": {
      "application/vnd.jupyter.widget-view+json": {
       "model_id": "65a73233a11842779a668f0d67a5ac9a",
       "version_major": 2,
       "version_minor": 0
      },
      "text/plain": [
       "  0%|          | 0/3 [00:00<?, ?it/s]"
      ]
     },
     "metadata": {},
     "output_type": "display_data"
    },
    {
     "data": {
      "application/vnd.jupyter.widget-view+json": {
       "model_id": "5203479f9545468d803bda7f23563442",
       "version_major": 2,
       "version_minor": 0
      },
      "text/plain": [
       "  0%|          | 0/9 [00:00<?, ?it/s]"
      ]
     },
     "metadata": {},
     "output_type": "display_data"
    },
    {
     "name": "stdout",
     "output_type": "stream",
     "text": [
      "        RETFound-MEH:Normal:0.9952\tlaser_scars:0.9991\tROP:0.9818\tStage_1_ROP:0.8296\tStage_2_ROP:0.7886\tStage_3_ROP:0.8634\tFINE_Stage_1_ROP:0.8085\tFINE_Stage_2_ROP:0.7076\tFINE_Stage_3_ROP:0.7990\n",
      "Total time: 0.4725s / mean time: 0.0525s\n"
     ]
    },
    {
     "data": {
      "application/vnd.jupyter.widget-view+json": {
       "model_id": "5d23122c4493452d928b2d0f9fc8cc44",
       "version_major": 2,
       "version_minor": 0
      },
      "text/plain": [
       "  0%|          | 0/9 [00:00<?, ?it/s]"
      ]
     },
     "metadata": {},
     "output_type": "display_data"
    },
    {
     "name": "stdout",
     "output_type": "stream",
     "text": [
      "          DERETFound:Normal:0.9949\tlaser_scars:0.9998\tROP:0.9920\tStage_1_ROP:0.8752\tStage_2_ROP:0.8879\tStage_3_ROP:0.9445\tFINE_Stage_1_ROP:0.8261\tFINE_Stage_2_ROP:0.8288\tFINE_Stage_3_ROP:0.9311\n",
      "Total time: 0.6789s / mean time: 0.0754s\n"
     ]
    },
    {
     "data": {
      "application/vnd.jupyter.widget-view+json": {
       "model_id": "4ddd4e6f68a642e09ad6cd507d7101b3",
       "version_major": 2,
       "version_minor": 0
      },
      "text/plain": [
       "  0%|          | 0/9 [00:00<?, ?it/s]"
      ]
     },
     "metadata": {},
     "output_type": "display_data"
    },
    {
     "name": "stdout",
     "output_type": "stream",
     "text": [
      "  RETFound-Green@224:Normal:0.9977\tlaser_scars:0.9998\tROP:0.9906\tStage_1_ROP:0.9072\tStage_2_ROP:0.9245\tStage_3_ROP:0.9713\tFINE_Stage_1_ROP:0.8639\tFINE_Stage_2_ROP:0.8858\tFINE_Stage_3_ROP:0.9670\n",
      "Total time: 0.2830s / mean time: 0.0314s\n"
     ]
    },
    {
     "data": {
      "text/html": [
       "<div>\n",
       "<style scoped>\n",
       "    .dataframe tbody tr th:only-of-type {\n",
       "        vertical-align: middle;\n",
       "    }\n",
       "\n",
       "    .dataframe tbody tr th {\n",
       "        vertical-align: top;\n",
       "    }\n",
       "\n",
       "    .dataframe thead th {\n",
       "        text-align: right;\n",
       "    }\n",
       "</style>\n",
       "<table border=\"1\" class=\"dataframe\">\n",
       "  <thead>\n",
       "    <tr style=\"text-align: right;\">\n",
       "      <th></th>\n",
       "      <th>Name</th>\n",
       "      <th>Normal</th>\n",
       "      <th>laser_scars</th>\n",
       "      <th>ROP</th>\n",
       "      <th>Stage_1_ROP</th>\n",
       "      <th>Stage_2_ROP</th>\n",
       "      <th>Stage_3_ROP</th>\n",
       "      <th>FINE_Stage_1_ROP</th>\n",
       "      <th>FINE_Stage_2_ROP</th>\n",
       "      <th>FINE_Stage_3_ROP</th>\n",
       "    </tr>\n",
       "  </thead>\n",
       "  <tbody>\n",
       "    <tr>\n",
       "      <th>RETFound-MEH</th>\n",
       "      <td>RETFound-MEH</td>\n",
       "      <td>0.9952</td>\n",
       "      <td>0.9991</td>\n",
       "      <td>0.9818</td>\n",
       "      <td>0.8296</td>\n",
       "      <td>0.7886</td>\n",
       "      <td>0.8634</td>\n",
       "      <td>0.8085</td>\n",
       "      <td>0.7076</td>\n",
       "      <td>0.7990</td>\n",
       "    </tr>\n",
       "    <tr>\n",
       "      <th>DERETFound</th>\n",
       "      <td>DERETFound</td>\n",
       "      <td>0.9949</td>\n",
       "      <td>0.9998</td>\n",
       "      <td>0.9920</td>\n",
       "      <td>0.8752</td>\n",
       "      <td>0.8879</td>\n",
       "      <td>0.9445</td>\n",
       "      <td>0.8261</td>\n",
       "      <td>0.8288</td>\n",
       "      <td>0.9311</td>\n",
       "    </tr>\n",
       "    <tr>\n",
       "      <th>RETFound-Green@224</th>\n",
       "      <td>RETFound-Green@224</td>\n",
       "      <td>0.9977</td>\n",
       "      <td>0.9998</td>\n",
       "      <td>0.9906</td>\n",
       "      <td>0.9072</td>\n",
       "      <td>0.9245</td>\n",
       "      <td>0.9713</td>\n",
       "      <td>0.8639</td>\n",
       "      <td>0.8858</td>\n",
       "      <td>0.9670</td>\n",
       "    </tr>\n",
       "  </tbody>\n",
       "</table>\n",
       "</div>"
      ],
      "text/plain": [
       "                                  Name  Normal  laser_scars     ROP  \\\n",
       "RETFound-MEH              RETFound-MEH  0.9952       0.9991  0.9818   \n",
       "DERETFound                  DERETFound  0.9949       0.9998  0.9920   \n",
       "RETFound-Green@224  RETFound-Green@224  0.9977       0.9998  0.9906   \n",
       "\n",
       "                    Stage_1_ROP  Stage_2_ROP  Stage_3_ROP  FINE_Stage_1_ROP  \\\n",
       "RETFound-MEH             0.8296       0.7886       0.8634            0.8085   \n",
       "DERETFound               0.8752       0.8879       0.9445            0.8261   \n",
       "RETFound-Green@224       0.9072       0.9245       0.9713            0.8639   \n",
       "\n",
       "                    FINE_Stage_2_ROP  FINE_Stage_3_ROP  \n",
       "RETFound-MEH                  0.7076            0.7990  \n",
       "DERETFound                    0.8288            0.9311  \n",
       "RETFound-Green@224            0.8858            0.9670  "
      ]
     },
     "metadata": {},
     "output_type": "display_data"
    },
    {
     "data": {
      "image/png": "[encoded data removed]",
      "text/plain": [
       "<Figure size 1200x400 with 3 Axes>"
      ]
     },
     "metadata": {},
     "output_type": "display_data"
    },
    {
     "name": "stdout",
     "output_type": "stream",
     "text": [
      "Statistically significant wins:  {'RETFound-MEH': 0, 'DERETFound': 1, 'RETFound-Green@224': 7}\n",
      "Ties for first place:  {'RETFound-MEH': 0, 'DERETFound': 1, 'RETFound-Green@224': 1}\n"
     ]
    }
   ],
   "source": [
    "name_X_list = [\n",
    "    ('RETFound-MEH', \n",
    "     '/home/justin/RETFound_MAE/ROP_Train_RETFound_Feature_latent.npy',\n",
    "     '/home/justin/RETFound_MAE/ROP_Test_RETFound_Feature_latent.npy'),\n",
    "    ('DERETFound', \n",
    "     '/home/justin/RETFound_MAE/ROP_Train_DERETFound_Feature_latent.npy',\n",
    "     '/home/justin/RETFound_MAE/ROP_Test_DERETFound_Feature_latent.npy'),\n",
    "    ('RETFound-Green@224', \n",
    "     'ROP_Train_X_ours224.npy',\n",
    "     'ROP_Test_X_ours224.npy'),\n",
    "]\n",
    "models = ['RETFound-MEH', 'DERETFound', 'RETFound-Green@224']\n",
    "colors = ['#ff595e', '#ffca3a', '#B8FF3D']\n",
    "\n",
    "run_rop_exp(name_X_list, models, colors)"
   ]
  },
  {
   "cell_type": "code",
   "execution_count": 6,
   "id": "62ad294d-7074-4308-833e-a5e235b99caa",
   "metadata": {},
   "outputs": [
    {
     "data": {
      "application/vnd.jupyter.widget-view+json": {
       "model_id": "6543cfe4782e4728a37bf486bace1b0c",
       "version_major": 2,
       "version_minor": 0
      },
      "text/plain": [
       "  0%|          | 0/2 [00:00<?, ?it/s]"
      ]
     },
     "metadata": {},
     "output_type": "display_data"
    },
    {
     "data": {
      "application/vnd.jupyter.widget-view+json": {
       "model_id": "ba2053d955fb4328b616b0cc4d66455d",
       "version_major": 2,
       "version_minor": 0
      },
      "text/plain": [
       "  0%|          | 0/9 [00:00<?, ?it/s]"
      ]
     },
     "metadata": {},
     "output_type": "display_data"
    },
    {
     "name": "stdout",
     "output_type": "stream",
     "text": [
      "  RETFound-Green@224:Normal:0.9977\tlaser_scars:0.9998\tROP:0.9906\tStage_1_ROP:0.9072\tStage_2_ROP:0.9245\tStage_3_ROP:0.9713\tFINE_Stage_1_ROP:0.8639\tFINE_Stage_2_ROP:0.8858\tFINE_Stage_3_ROP:0.9670\n",
      "Total time: 0.3062s / mean time: 0.0340s\n"
     ]
    },
    {
     "data": {
      "application/vnd.jupyter.widget-view+json": {
       "model_id": "2d798b96ea1f444d810c2a491d394083",
       "version_major": 2,
       "version_minor": 0
      },
      "text/plain": [
       "  0%|          | 0/9 [00:00<?, ?it/s]"
      ]
     },
     "metadata": {},
     "output_type": "display_data"
    },
    {
     "name": "stdout",
     "output_type": "stream",
     "text": [
      "          DinoV2@224:Normal:0.9952\tlaser_scars:0.9995\tROP:0.9942\tStage_1_ROP:0.8740\tStage_2_ROP:0.9021\tStage_3_ROP:0.9801\tFINE_Stage_1_ROP:0.8266\tFINE_Stage_2_ROP:0.8605\tFINE_Stage_3_ROP:0.9645\n",
      "Total time: 0.4624s / mean time: 0.0514s\n"
     ]
    },
    {
     "data": {
      "text/html": [
       "<div>\n",
       "<style scoped>\n",
       "    .dataframe tbody tr th:only-of-type {\n",
       "        vertical-align: middle;\n",
       "    }\n",
       "\n",
       "    .dataframe tbody tr th {\n",
       "        vertical-align: top;\n",
       "    }\n",
       "\n",
       "    .dataframe thead th {\n",
       "        text-align: right;\n",
       "    }\n",
       "</style>\n",
       "<table border=\"1\" class=\"dataframe\">\n",
       "  <thead>\n",
       "    <tr style=\"text-align: right;\">\n",
       "      <th></th>\n",
       "      <th>Name</th>\n",
       "      <th>Normal</th>\n",
       "      <th>laser_scars</th>\n",
       "      <th>ROP</th>\n",
       "      <th>Stage_1_ROP</th>\n",
       "      <th>Stage_2_ROP</th>\n",
       "      <th>Stage_3_ROP</th>\n",
       "      <th>FINE_Stage_1_ROP</th>\n",
       "      <th>FINE_Stage_2_ROP</th>\n",
       "      <th>FINE_Stage_3_ROP</th>\n",
       "    </tr>\n",
       "  </thead>\n",
       "  <tbody>\n",
       "    <tr>\n",
       "      <th>RETFound-Green@224</th>\n",
       "      <td>RETFound-Green@224</td>\n",
       "      <td>0.9977</td>\n",
       "      <td>0.9998</td>\n",
       "      <td>0.9906</td>\n",
       "      <td>0.9072</td>\n",
       "      <td>0.9245</td>\n",
       "      <td>0.9713</td>\n",
       "      <td>0.8639</td>\n",
       "      <td>0.8858</td>\n",
       "      <td>0.9670</td>\n",
       "    </tr>\n",
       "    <tr>\n",
       "      <th>DinoV2@224</th>\n",
       "      <td>DinoV2@224</td>\n",
       "      <td>0.9952</td>\n",
       "      <td>0.9995</td>\n",
       "      <td>0.9942</td>\n",
       "      <td>0.8740</td>\n",
       "      <td>0.9021</td>\n",
       "      <td>0.9801</td>\n",
       "      <td>0.8266</td>\n",
       "      <td>0.8605</td>\n",
       "      <td>0.9645</td>\n",
       "    </tr>\n",
       "  </tbody>\n",
       "</table>\n",
       "</div>"
      ],
      "text/plain": [
       "                                  Name  Normal  laser_scars     ROP  \\\n",
       "RETFound-Green@224  RETFound-Green@224  0.9977       0.9998  0.9906   \n",
       "DinoV2@224                  DinoV2@224  0.9952       0.9995  0.9942   \n",
       "\n",
       "                    Stage_1_ROP  Stage_2_ROP  Stage_3_ROP  FINE_Stage_1_ROP  \\\n",
       "RETFound-Green@224       0.9072       0.9245       0.9713            0.8639   \n",
       "DinoV2@224               0.8740       0.9021       0.9801            0.8266   \n",
       "\n",
       "                    FINE_Stage_2_ROP  FINE_Stage_3_ROP  \n",
       "RETFound-Green@224            0.8858            0.9670  \n",
       "DinoV2@224                    0.8605            0.9645  "
      ]
     },
     "metadata": {},
     "output_type": "display_data"
    },
    {
     "data": {
      "image/png": "[encoded data removed]",
      "text/plain": [
       "<Figure size 850x400 with 3 Axes>"
      ]
     },
     "metadata": {},
     "output_type": "display_data"
    },
    {
     "name": "stdout",
     "output_type": "stream",
     "text": [
      "Statistically significant wins:  {'RETFound-Green@224': 7, 'DinoV2@224': 2}\n",
      "Ties for first place:  {'RETFound-Green@224': 0, 'DinoV2@224': 0}\n"
     ]
    }
   ],
   "source": [
    "name_X_list = [\n",
    "    ('RETFound-Green@224', \n",
    "     'ROP_Train_X_ours224.npy',\n",
    "     'ROP_Test_X_ours224.npy'),\n",
    "    ('DinoV2@224', \n",
    "     'ROP_Train_X_dino224.npy',\n",
    "     'ROP_Test_X_dino224.npy'),\n",
    "]\n",
    "\n",
    "models = ['RETFound-Green@224', 'DinoV2@224']\n",
    "colors = ['#B8FF3D', '#6EA6D1']\n",
    "\n",
    "run_rop_exp(name_X_list, models, colors,\n",
    "            figsize=(8.5, 4), dashed_line_offsets=(-0.25, 1.5), xtick_loc_scaling=0.5, title_size='medium')"
   ]
  },
  {
   "cell_type": "code",
   "execution_count": 7,
   "id": "a59ec00c-0e8e-4089-b481-1bb10637a01d",
   "metadata": {},
   "outputs": [
    {
     "data": {
      "image/png": "[encoded data removed]",
      "text/plain": [
       "<Figure size 600x20 with 1 Axes>"
      ]
     },
     "metadata": {},
     "output_type": "display_data"
    }
   ],
   "source": [
    "fig, ax = plt.subplots(figsize=(6, 0.2))\n",
    "ax.axis('off')\n",
    "models = ['RETFound-Green', 'DinoV2'] + ['RETFound-Green@224', 'DinoV2@224']\n",
    "colors = ['#8ac926', '#4d759a'] + ['#B8FF3D', '#6EA6D1']\n",
    "for model, color in zip(models, colors):\n",
    "    ax.bar(0, 0, color=color, label=model)\n",
    "\n",
    "legend = ax.legend(loc='center', ncol=4, frameon=False, fontsize=12,borderpad =0)\n",
    "\n",
    "plt.show()"
   ]
  }
 ],
 "metadata": {
  "kernelspec": {
   "display_name": "Python 3 (ipykernel)",
   "language": "python",
   "name": "python3"
  },
  "language_info": {
   "codemirror_mode": {
    "name": "ipython",
    "version": 3
   },
   "file_extension": ".py",
   "mimetype": "text/x-python",
   "name": "python",
   "nbconvert_exporter": "python",
   "pygments_lexer": "ipython3",
   "version": "3.10.13"
  }
 },
 "nbformat": 4,
 "nbformat_minor": 5
}
