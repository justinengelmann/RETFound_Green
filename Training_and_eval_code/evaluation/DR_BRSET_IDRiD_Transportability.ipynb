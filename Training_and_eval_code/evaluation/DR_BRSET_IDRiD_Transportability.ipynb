{
 "cells": [
  {
   "cell_type": "code",
   "execution_count": 1,
   "id": "244cb943-139a-4702-915d-ced95d8a0aa4",
   "metadata": {},
   "outputs": [
    {
     "data": {
      "application/vnd.jupyter.widget-view+json": {
       "model_id": "4e642f87735a47828daf3debc58e0380",
       "version_major": 2,
       "version_minor": 0
      },
      "text/plain": [
       "  0%|          | 0/3 [00:00<?, ?it/s]"
      ]
     },
     "metadata": {},
     "output_type": "display_data"
    },
    {
     "data": {
      "application/vnd.jupyter.widget-view+json": {
       "model_id": "f2de2cfa441d45afa27a5db2036cd84e",
       "version_major": 2,
       "version_minor": 0
      },
      "text/plain": [
       "  0%|          | 0/3 [00:00<?, ?it/s]"
      ]
     },
     "metadata": {},
     "output_type": "display_data"
    },
    {
     "name": "stdout",
     "output_type": "stream",
     "text": [
      "        RETFound-MEH:DR Grade:0.8809\tNo/Mild vs rest:0.7132\tAnyDR:0.6449\n",
      "Total time: 1.4246s / mean time: 0.4749s\n"
     ]
    },
    {
     "data": {
      "application/vnd.jupyter.widget-view+json": {
       "model_id": "58a9ce7f3e1142ccb953b5bb69425f83",
       "version_major": 2,
       "version_minor": 0
      },
      "text/plain": [
       "  0%|          | 0/3 [00:00<?, ?it/s]"
      ]
     },
     "metadata": {},
     "output_type": "display_data"
    },
    {
     "name": "stdout",
     "output_type": "stream",
     "text": [
      "          DERETFound:DR Grade:0.9027\tNo/Mild vs rest:0.6737\tAnyDR:0.6973\n",
      "Total time: 1.3262s / mean time: 0.4421s\n"
     ]
    },
    {
     "data": {
      "application/vnd.jupyter.widget-view+json": {
       "model_id": "84faa20cb306413ab1021743ea3d6cce",
       "version_major": 2,
       "version_minor": 0
      },
      "text/plain": [
       "  0%|          | 0/3 [00:00<?, ?it/s]"
      ]
     },
     "metadata": {},
     "output_type": "display_data"
    },
    {
     "name": "stdout",
     "output_type": "stream",
     "text": [
      "      RETFound-Green:DR Grade:0.9035\tNo/Mild vs rest:0.6705\tAnyDR:0.7091\n",
      "Total time: 0.4306s / mean time: 0.1435s\n"
     ]
    },
    {
     "data": {
      "text/html": [
       "<div>\n",
       "<style scoped>\n",
       "    .dataframe tbody tr th:only-of-type {\n",
       "        vertical-align: middle;\n",
       "    }\n",
       "\n",
       "    .dataframe tbody tr th {\n",
       "        vertical-align: top;\n",
       "    }\n",
       "\n",
       "    .dataframe thead th {\n",
       "        text-align: right;\n",
       "    }\n",
       "</style>\n",
       "<table border=\"1\" class=\"dataframe\">\n",
       "  <thead>\n",
       "    <tr style=\"text-align: right;\">\n",
       "      <th></th>\n",
       "      <th>Name</th>\n",
       "      <th>DR Grade 0</th>\n",
       "      <th>DR Grade 1</th>\n",
       "      <th>DR Grade 2</th>\n",
       "      <th>DR Grade 3</th>\n",
       "      <th>DR Grade 4</th>\n",
       "      <th>No/Mild vs rest</th>\n",
       "      <th>AnyDR</th>\n",
       "    </tr>\n",
       "  </thead>\n",
       "  <tbody>\n",
       "    <tr>\n",
       "      <th>RETFound-MEH</th>\n",
       "      <td>RETFound-MEH</td>\n",
       "      <td>0.8809</td>\n",
       "      <td>0.7132</td>\n",
       "      <td>0.6449</td>\n",
       "      <td>0.7099</td>\n",
       "      <td>0.7708</td>\n",
       "      <td>0.9302</td>\n",
       "      <td>0.9001</td>\n",
       "    </tr>\n",
       "    <tr>\n",
       "      <th>DERETFound</th>\n",
       "      <td>DERETFound</td>\n",
       "      <td>0.9027</td>\n",
       "      <td>0.6737</td>\n",
       "      <td>0.6973</td>\n",
       "      <td>0.7509</td>\n",
       "      <td>0.7484</td>\n",
       "      <td>0.9301</td>\n",
       "      <td>0.8948</td>\n",
       "    </tr>\n",
       "    <tr>\n",
       "      <th>RETFound-Green</th>\n",
       "      <td>RETFound-Green</td>\n",
       "      <td>0.9035</td>\n",
       "      <td>0.6705</td>\n",
       "      <td>0.7091</td>\n",
       "      <td>0.6503</td>\n",
       "      <td>0.8277</td>\n",
       "      <td>0.9090</td>\n",
       "      <td>0.8969</td>\n",
       "    </tr>\n",
       "  </tbody>\n",
       "</table>\n",
       "</div>"
      ],
      "text/plain": [
       "                          Name  DR Grade 0  DR Grade 1  DR Grade 2  \\\n",
       "RETFound-MEH      RETFound-MEH      0.8809      0.7132      0.6449   \n",
       "DERETFound          DERETFound      0.9027      0.6737      0.6973   \n",
       "RETFound-Green  RETFound-Green      0.9035      0.6705      0.7091   \n",
       "\n",
       "                DR Grade 3  DR Grade 4  No/Mild vs rest   AnyDR  \n",
       "RETFound-MEH        0.7099      0.7708           0.9302  0.9001  \n",
       "DERETFound          0.7509      0.7484           0.9301  0.8948  \n",
       "RETFound-Green      0.6503      0.8277           0.9090  0.8969  "
      ]
     },
     "metadata": {},
     "output_type": "display_data"
    },
    {
     "data": {
      "image/png": "[encoded data removed]",
      "text/plain": [
       "<Figure size 550x400 with 2 Axes>"
      ]
     },
     "metadata": {},
     "output_type": "display_data"
    },
    {
     "name": "stdout",
     "output_type": "stream",
     "text": [
      "Statistically significant wins:  {'RETFound-MEH': 1, 'DERETFound': 1, 'RETFound-Green': 2}\n",
      "Ties for first place:  {'RETFound-MEH': 2, 'DERETFound': 2, 'RETFound-Green': 2}\n"
     ]
    }
   ],
   "source": [
    "import pandas as pd\n",
    "import numpy as np\n",
    "\n",
    "from sklearn.linear_model import LogisticRegression\n",
    "from sklearn.pipeline import make_pipeline\n",
    "from sklearn.preprocessing import StandardScaler\n",
    "from sklearn.metrics import roc_auc_score\n",
    "\n",
    "import joblib\n",
    "\n",
    "# optional, for progress bars\n",
    "from tqdm.notebook import tqdm\n",
    "import time\n",
    "\n",
    "import matplotlib.pyplot as plt\n",
    "import seaborn as sns\n",
    "\n",
    "from scipy.stats import wilcoxon\n",
    "\n",
    "\n",
    "def get_bootstrap_aucs(y_true, y_pred, bootstrap_iters=100):\n",
    "    rng = np.random.RandomState(seed=42)\n",
    "    idxs = list(range(y_pred.shape[0]))\n",
    "\n",
    "    bootstrap_aucs = []\n",
    "    for _ in range(bootstrap_iters):\n",
    "        curr_idxs = rng.choice(idxs, size=len(idxs), replace=True)\n",
    "        bootstrap_aucs.append(roc_auc_score(y_true[curr_idxs], y_pred[curr_idxs],\n",
    "                                            multi_class='ovr', average='macro'))\n",
    "\n",
    "    return np.median(bootstrap_aucs), bootstrap_aucs\n",
    "\n",
    "\n",
    "def get_p_values(all_aucs):\n",
    "    all_aucs = np.vstack(all_aucs)\n",
    "    median_aucs = np.median(all_aucs, -1)\n",
    "    second_best_idx, best_idx = median_aucs.argsort()[-2:]\n",
    "    p_val = wilcoxon(all_aucs[best_idx], all_aucs[second_best_idx])[1]\n",
    "    return p_val, (best_idx, second_best_idx)\n",
    "\n",
    "\n",
    "def pval_to_str(p_val):\n",
    "    if p_val < 0.0001:\n",
    "        p_val = 'p<0.0001'\n",
    "        p_val = '***'\n",
    "    else:\n",
    "        p_val = f'p={p_val:.4f}'\n",
    "    return p_val\n",
    "\n",
    "\n",
    "def darken_hex(hex_color, factor=0.5):\n",
    "    # Ensure the factor is between 0 and 1\n",
    "    factor = max(0, min(factor, 1))\n",
    "\n",
    "    # Remove the hash symbol if present\n",
    "    hex_color = hex_color.lstrip('#')\n",
    "\n",
    "    # Convert hex to RGB\n",
    "    rgb = tuple(int(hex_color[i:i + 2], 16) for i in (0, 2, 4))\n",
    "\n",
    "    # Darken the RGB values by multiplying by the factor\n",
    "    darkened_rgb = tuple(int(c * factor) for c in rgb)\n",
    "\n",
    "    # Convert the RGB values back to hex\n",
    "    darkened_hex = '#{:02x}{:02x}{:02x}'.format(*darkened_rgb)\n",
    "\n",
    "    return darkened_hex\n",
    "\n",
    "\n",
    "target_col = 'Retinopathy grade'\n",
    "target_cols = list(range(5)) + [-1]\n",
    "\n",
    "target_int_to_name = {_: f\"Grade {_}\" for _ in target_cols}\n",
    "target_int_to_name[0] = 'Normal'\n",
    "target_int_to_name[-1] = 'No/Mild'\n",
    "\n",
    "dfbr = pd.read_csv('/mnt/c/Users/Justin/Desktop/labels.csv')\n",
    "dfbr['Retinopathy grade'] = dfbr['DR_ICDR']\n",
    "br_diab_mask = dfbr.diabetes=='yes'\n",
    "# dfbr = dfbr[br_diab_mask].copy().reset_index()\n",
    "\n",
    "dfidridtrain = pd.read_csv('/mnt/e/IDRiD_B_DiseaseGrading/B. Disease Grading/2. Groundtruths/a. IDRiD_Disease Grading_Training Labels.csv')\n",
    "dfidridtest = pd.read_csv('/mnt/e/IDRiD_B_DiseaseGrading/B. Disease Grading/2. Groundtruths/b. IDRiD_Disease Grading_Testing Labels.csv')\n",
    "\n",
    "name_X_list = [\n",
    "    ('RETFound-MEH', \n",
    "     '/home/justin/RETFound_MAE/BRSET_RETFound_Feature_latent.npy',\n",
    "     '/home/justin/RETFound_MAE/IRID_Train_RETFound_Feature_latent.npy',\n",
    "     '/home/justin/RETFound_MAE/IRID_Test_RETFound_Feature_latent.npy'),\n",
    "    ('DERETFound', \n",
    "     '/home/justin/RETFound_MAE/BRSET_DERETFound_Feature_latent.npy',\n",
    "     '/home/justin/RETFound_MAE/IRID_Train_DERETFound_Feature_latent.npy',\n",
    "     '/home/justin/RETFound_MAE/IRID_Test_DERETFound_Feature_latent.npy'),\n",
    "    ('RETFound-Green', \n",
    "     'X_ours_brset.npy',\n",
    "     'IRID_Train_X_ours.npy',\n",
    "     'IRID_Test_X_ours.npy'),\n",
    "]\n",
    "\n",
    "\n",
    "models = ['RETFound-MEH', 'DERETFound', 'RETFound-Green']\n",
    "colors = ['#ff595e', '#ffca3a', '#8ac926']\n",
    "\n",
    "def run_brset_to_idrid_exp(name_X_list,\n",
    "                           models, colors, diab_only=False,\n",
    "                           figsize=(5.5, 4), dashed_line_offsets=(-2.75, 0.25), xtick_loc_scaling=1, title_size='large'):\n",
    "    targets = ['DR Grade', 'No/Mild vs rest', 'AnyDR', ]\n",
    "\n",
    "    results_df = pd.DataFrame(columns=['Name'] + [f'DR Grade {_}' for _ in range(5)] \n",
    "                + ['No/Mild vs rest', 'AnyDR', ])\n",
    "\n",
    "    name_bootstrap_aucs_dict = {}\n",
    "    name_times_dict = {}\n",
    "    for name, Xfname_br, Xfname_idrid_train, Xfname_idrid_test  in tqdm(name_X_list):\n",
    "        np.random.seed(42)\n",
    "        \n",
    "        name_times_dict[name] = []\n",
    "        median_aucs = []\n",
    "\n",
    "        X_train = np.load(Xfname_br)\n",
    "        X_test = np.load(Xfname_idrid_train)\n",
    "\n",
    "        if diab_only:\n",
    "            dfbr_curr = dfbr[dfbr['diabetes'].apply(lambda x: x=='yes').values].copy()\n",
    "            X_train = X_train[dfbr['diabetes'].apply(lambda x: x=='yes').values]\n",
    "\n",
    "        else:\n",
    "            dfbr_curr = dfbr.copy()\n",
    "\n",
    "        perf_str = f'{name:>20}:'\n",
    "        for target_col in tqdm(targets, leave=True):\n",
    "\n",
    "            if target_col.startswith('DR Grade'):\n",
    "                y_train = dfbr_curr['Retinopathy grade'].values\n",
    "                y_test = dfidridtrain['Retinopathy grade'].values\n",
    "\n",
    "                start = time.time()\n",
    "                clf = make_pipeline(StandardScaler(), LogisticRegression(max_iter=20_000, random_state=42))\n",
    "                clf.fit(X_train, y_train)\n",
    "                preds = clf.predict_proba(X_test)\n",
    "                stop = time.time()\n",
    "                delta = stop - start\n",
    "                name_times_dict[name].append(delta)\n",
    "\n",
    "                for grade in range(5):\n",
    "                    curr_median_auc, curr_bootstrap_aucs = get_bootstrap_aucs(y_test == grade, preds[:, grade])\n",
    "                    name_bootstrap_aucs_dict[f'{name}-DR Grade {grade}'] = curr_bootstrap_aucs\n",
    "                    median_aucs.append(curr_median_auc)\n",
    "\n",
    "            elif target_col.startswith('No/Mild vs rest'):\n",
    "                y_train = dfbr_curr['Retinopathy grade'].apply(lambda x: x > 1).values\n",
    "                y_test = dfidridtrain['Retinopathy grade'].apply(lambda x: x > 1).values\n",
    "\n",
    "                start = time.time()\n",
    "                clf = make_pipeline(StandardScaler(), LogisticRegression(max_iter=20_000, random_state=42))\n",
    "                clf.fit(X_train, y_train)\n",
    "                preds = clf.predict_proba(X_test)[:,1]\n",
    "                stop = time.time()\n",
    "                delta = stop - start\n",
    "                name_times_dict[name].append(delta)\n",
    "\n",
    "                curr_median_auc, curr_bootstrap_aucs = get_bootstrap_aucs(y_test, preds)\n",
    "                name_bootstrap_aucs_dict[f'{name}-{target_col}'] = curr_bootstrap_aucs\n",
    "                median_aucs.append(curr_median_auc)\n",
    "                \n",
    "            elif target_col.startswith('AnyDR'):\n",
    "                y_train = dfbr_curr['Retinopathy grade'].apply(lambda x: x > 0).values\n",
    "                y_test = dfidridtrain['Retinopathy grade'].apply(lambda x: x > 0).values\n",
    "\n",
    "                start = time.time()\n",
    "                clf =make_pipeline(StandardScaler(), LogisticRegression(max_iter=20_000, random_state=42))\n",
    "                clf.fit(X_train, y_train)\n",
    "                preds = clf.predict_proba(X_test)[:,1]\n",
    "                stop = time.time()\n",
    "                delta = stop - start\n",
    "                name_times_dict[name].append(delta)\n",
    "\n",
    "                curr_median_auc, curr_bootstrap_aucs = get_bootstrap_aucs(y_test, preds)\n",
    "                name_bootstrap_aucs_dict[f'{name}-{target_col}'] = curr_bootstrap_aucs\n",
    "                median_aucs.append(curr_median_auc)\n",
    "\n",
    "            else:\n",
    "                raise ValueError\n",
    "\n",
    "        perf_str += '\\t'.join([f'{c}:{v:.4f}' for c, v in zip(targets, median_aucs)])\n",
    "        print(perf_str)\n",
    "        print(f'Total time: {sum(name_times_dict[name]):.4f}s / mean time: {np.mean(name_times_dict[name]):.4f}s')\n",
    "\n",
    "        results_df.loc[name] = [name] + median_aucs\n",
    "\n",
    "    display(results_df.round(4))\n",
    "\n",
    "    fig, axes = plt.subplots(1, 2, figsize=figsize, gridspec_kw={'width_ratios': [2, 5]})\n",
    "    axes = axes.flat\n",
    "\n",
    "    width = 0.25\n",
    "\n",
    "    target_groups = {\n",
    "        'Primary classifications': ['No/Mild vs rest', 'AnyDR'],\n",
    "        'Diabetic Retinopathy Grading': [f'DR Grade {_}' for _ in range(5)],\n",
    "    }\n",
    "    wins = {_: 0 for _ in models}\n",
    "    ties = {_: 0 for _ in models}\n",
    "\n",
    "    for target_group, ax in zip(target_groups, axes):\n",
    "        targets = target_groups[target_group]\n",
    "        x = np.arange(len(targets))\n",
    "\n",
    "        for i, model in enumerate(models):\n",
    "            values = [results_df.loc[model, target] for target in targets]\n",
    "            locs = x + i * width\n",
    "            ax.bar(locs, values, width, label=model, color=colors[i], edgecolor=darken_hex(colors[i]))\n",
    "            if model == 'RETFound-Green':\n",
    "                for _idx in range(len(values)):\n",
    "                    _left = locs[_idx] + dashed_line_offsets[0] * width\n",
    "                    _right = locs[_idx] + dashed_line_offsets[1] * width\n",
    "                    _val = values[_idx]\n",
    "                    ax.plot([_left, _right], [_val, _val], c=colors[i], linewidth=1.5, alpha=0.8, linestyle=':')\n",
    "\n",
    "        # plot stat significance\n",
    "        for t_idx, target in enumerate(targets):\n",
    "            target_str = target.replace(\" vs Rest\", \"\")\n",
    "            aucs = [name_bootstrap_aucs_dict[f'{name}-{target}'] for name in models]\n",
    "            p_val, (best_idx, second_best_idx) = get_p_values(aucs)\n",
    "            best_val = np.median(np.vstack(aucs), axis=-1).max()\n",
    "\n",
    "            if p_val < 0.05:\n",
    "                wins[models[best_idx]] += 1\n",
    "            else:\n",
    "                ties[models[best_idx]] += 1\n",
    "                ties[models[second_best_idx]] += 1\n",
    "\n",
    "            start_loc = t_idx + best_idx * width\n",
    "            end_loc = t_idx + second_best_idx * width\n",
    "\n",
    "            ax.plot([start_loc, start_loc, end_loc, end_loc],\n",
    "                    [best_val + 0.001, best_val + 0.012, best_val + 0.012, best_val + 0.001],\n",
    "                    c='black', lw=0.8)\n",
    "            text_loc_height_offset = 0.015 if not p_val < 0.0001 else 0.01\n",
    "            ax.text((start_loc + end_loc) / 2, best_val + text_loc_height_offset, pval_to_str(p_val), ha='center',\n",
    "                    fontsize='x-small',\n",
    "                    weight=None if not p_val < 0.05 else 'bold')\n",
    "\n",
    "            ax.set_xticks(x + width * xtick_loc_scaling)\n",
    "            targets_display = [_.replace('_', ' ').title() for _ in targets]\n",
    "            targets_display = [_.replace('Dr', \" \")\n",
    "                               for _ in targets_display]\n",
    "            targets_display = [_.replace('Anydr', \"Any DR\").replace('Vs Rest', 'DR')\n",
    "                               for _ in targets_display]\n",
    "            if title_size!='large':\n",
    "                targets_display = [_.replace(' DR', \" \").replace('Grade', 'G')\n",
    "                                   for _ in targets_display]\n",
    "            ax.set_xticklabels(targets_display, rotation=0, ha='center', fontsize='medium' if title_size=='large' else 10)\n",
    "            ax.set_ylim(0.5, 1.03)\n",
    "            ax.set_title(target_group, fontsize=title_size)\n",
    "\n",
    "    axes[0].set_ylabel('AUC on test set')\n",
    "    axes[1].set_yticklabels([])\n",
    "    plt.tight_layout()\n",
    "    plt.show()\n",
    "\n",
    "    print('Statistically significant wins: ', wins)\n",
    "    print('Ties for first place: ', ties)\n",
    "\n",
    "run_brset_to_idrid_exp(name_X_list, models, colors, diab_only=True, title_size='medium')"
   ]
  },
  {
   "cell_type": "code",
   "execution_count": 2,
   "id": "25b95ca6-8808-49f1-ada6-4b9eff79a687",
   "metadata": {},
   "outputs": [
    {
     "data": {
      "application/vnd.jupyter.widget-view+json": {
       "model_id": "f72768dafca449e3883ecc5ad81e6f98",
       "version_major": 2,
       "version_minor": 0
      },
      "text/plain": [
       "  0%|          | 0/3 [00:00<?, ?it/s]"
      ]
     },
     "metadata": {},
     "output_type": "display_data"
    },
    {
     "data": {
      "application/vnd.jupyter.widget-view+json": {
       "model_id": "6d34030ba0a94b1a8d3b1c3f09bdb59d",
       "version_major": 2,
       "version_minor": 0
      },
      "text/plain": [
       "  0%|          | 0/3 [00:00<?, ?it/s]"
      ]
     },
     "metadata": {},
     "output_type": "display_data"
    },
    {
     "name": "stdout",
     "output_type": "stream",
     "text": [
      "        RETFound-MEH:DR Grade:0.8893\tNo/Mild vs rest:0.7208\tAnyDR:0.6470\n",
      "Total time: 11.9787s / mean time: 3.9929s\n"
     ]
    },
    {
     "data": {
      "application/vnd.jupyter.widget-view+json": {
       "model_id": "b12b8afa7c1f4b9fac5114c9d1d106ee",
       "version_major": 2,
       "version_minor": 0
      },
      "text/plain": [
       "  0%|          | 0/3 [00:00<?, ?it/s]"
      ]
     },
     "metadata": {},
     "output_type": "display_data"
    },
    {
     "name": "stdout",
     "output_type": "stream",
     "text": [
      "          DERETFound:DR Grade:0.8990\tNo/Mild vs rest:0.5157\tAnyDR:0.7238\n",
      "Total time: 11.0603s / mean time: 3.6868s\n"
     ]
    },
    {
     "data": {
      "application/vnd.jupyter.widget-view+json": {
       "model_id": "d149d758d8c949b1bde90f0a721ad361",
       "version_major": 2,
       "version_minor": 0
      },
      "text/plain": [
       "  0%|          | 0/3 [00:00<?, ?it/s]"
      ]
     },
     "metadata": {},
     "output_type": "display_data"
    },
    {
     "name": "stdout",
     "output_type": "stream",
     "text": [
      "      RETFound-Green:DR Grade:0.9282\tNo/Mild vs rest:0.6906\tAnyDR:0.7326\n",
      "Total time: 4.8784s / mean time: 1.6261s\n"
     ]
    },
    {
     "data": {
      "text/html": [
       "<div>\n",
       "<style scoped>\n",
       "    .dataframe tbody tr th:only-of-type {\n",
       "        vertical-align: middle;\n",
       "    }\n",
       "\n",
       "    .dataframe tbody tr th {\n",
       "        vertical-align: top;\n",
       "    }\n",
       "\n",
       "    .dataframe thead th {\n",
       "        text-align: right;\n",
       "    }\n",
       "</style>\n",
       "<table border=\"1\" class=\"dataframe\">\n",
       "  <thead>\n",
       "    <tr style=\"text-align: right;\">\n",
       "      <th></th>\n",
       "      <th>Name</th>\n",
       "      <th>DR Grade 0</th>\n",
       "      <th>DR Grade 1</th>\n",
       "      <th>DR Grade 2</th>\n",
       "      <th>DR Grade 3</th>\n",
       "      <th>DR Grade 4</th>\n",
       "      <th>No/Mild vs rest</th>\n",
       "      <th>AnyDR</th>\n",
       "    </tr>\n",
       "  </thead>\n",
       "  <tbody>\n",
       "    <tr>\n",
       "      <th>RETFound-MEH</th>\n",
       "      <td>RETFound-MEH</td>\n",
       "      <td>0.8893</td>\n",
       "      <td>0.7208</td>\n",
       "      <td>0.6470</td>\n",
       "      <td>0.7084</td>\n",
       "      <td>0.7889</td>\n",
       "      <td>0.9159</td>\n",
       "      <td>0.8962</td>\n",
       "    </tr>\n",
       "    <tr>\n",
       "      <th>DERETFound</th>\n",
       "      <td>DERETFound</td>\n",
       "      <td>0.8990</td>\n",
       "      <td>0.5157</td>\n",
       "      <td>0.7238</td>\n",
       "      <td>0.7398</td>\n",
       "      <td>0.7545</td>\n",
       "      <td>0.9492</td>\n",
       "      <td>0.9194</td>\n",
       "    </tr>\n",
       "    <tr>\n",
       "      <th>RETFound-Green</th>\n",
       "      <td>RETFound-Green</td>\n",
       "      <td>0.9282</td>\n",
       "      <td>0.6906</td>\n",
       "      <td>0.7326</td>\n",
       "      <td>0.6638</td>\n",
       "      <td>0.8445</td>\n",
       "      <td>0.9418</td>\n",
       "      <td>0.9198</td>\n",
       "    </tr>\n",
       "  </tbody>\n",
       "</table>\n",
       "</div>"
      ],
      "text/plain": [
       "                          Name  DR Grade 0  DR Grade 1  DR Grade 2  \\\n",
       "RETFound-MEH      RETFound-MEH      0.8893      0.7208      0.6470   \n",
       "DERETFound          DERETFound      0.8990      0.5157      0.7238   \n",
       "RETFound-Green  RETFound-Green      0.9282      0.6906      0.7326   \n",
       "\n",
       "                DR Grade 3  DR Grade 4  No/Mild vs rest   AnyDR  \n",
       "RETFound-MEH        0.7084      0.7889           0.9159  0.8962  \n",
       "DERETFound          0.7398      0.7545           0.9492  0.9194  \n",
       "RETFound-Green      0.6638      0.8445           0.9418  0.9198  "
      ]
     },
     "metadata": {},
     "output_type": "display_data"
    },
    {
     "data": {
      "image/png": "[encoded data removed]",
      "text/plain": [
       "<Figure size 550x400 with 2 Axes>"
      ]
     },
     "metadata": {},
     "output_type": "display_data"
    },
    {
     "name": "stdout",
     "output_type": "stream",
     "text": [
      "Statistically significant wins:  {'RETFound-MEH': 1, 'DERETFound': 2, 'RETFound-Green': 3}\n",
      "Ties for first place:  {'RETFound-MEH': 0, 'DERETFound': 1, 'RETFound-Green': 1}\n"
     ]
    }
   ],
   "source": [
    "run_brset_to_idrid_exp(name_X_list, models, colors, diab_only=False, title_size='medium')"
   ]
  },
  {
   "cell_type": "code",
   "execution_count": 3,
   "id": "382209a7-e19e-4d9b-954d-064ac562ffa9",
   "metadata": {},
   "outputs": [
    {
     "data": {
      "application/vnd.jupyter.widget-view+json": {
       "model_id": "b08525c46a8d42bcbc9f351a355de7fd",
       "version_major": 2,
       "version_minor": 0
      },
      "text/plain": [
       "  0%|          | 0/3 [00:00<?, ?it/s]"
      ]
     },
     "metadata": {},
     "output_type": "display_data"
    },
    {
     "data": {
      "application/vnd.jupyter.widget-view+json": {
       "model_id": "cce415536f8e4fe5af92a0c79f3d49c3",
       "version_major": 2,
       "version_minor": 0
      },
      "text/plain": [
       "  0%|          | 0/3 [00:00<?, ?it/s]"
      ]
     },
     "metadata": {},
     "output_type": "display_data"
    },
    {
     "name": "stdout",
     "output_type": "stream",
     "text": [
      "        RETFound-MEH:DR Grade:0.6879\tNo/Mild vs rest:0.3894\tAnyDR:0.6229\n",
      "Total time: 0.4294s / mean time: 0.1431s\n"
     ]
    },
    {
     "data": {
      "application/vnd.jupyter.widget-view+json": {
       "model_id": "e0d5d2dfbd2942068d091dde4ad7d0e2",
       "version_major": 2,
       "version_minor": 0
      },
      "text/plain": [
       "  0%|          | 0/3 [00:00<?, ?it/s]"
      ]
     },
     "metadata": {},
     "output_type": "display_data"
    },
    {
     "name": "stdout",
     "output_type": "stream",
     "text": [
      "          DERETFound:DR Grade:0.8253\tNo/Mild vs rest:0.4044\tAnyDR:0.6041\n",
      "Total time: 0.2908s / mean time: 0.0969s\n"
     ]
    },
    {
     "data": {
      "application/vnd.jupyter.widget-view+json": {
       "model_id": "47f11822aa3a47fba0f728d90eebb601",
       "version_major": 2,
       "version_minor": 0
      },
      "text/plain": [
       "  0%|          | 0/3 [00:00<?, ?it/s]"
      ]
     },
     "metadata": {},
     "output_type": "display_data"
    },
    {
     "name": "stdout",
     "output_type": "stream",
     "text": [
      "      RETFound-Green:DR Grade:0.7841\tNo/Mild vs rest:0.5138\tAnyDR:0.6030\n",
      "Total time: 0.1935s / mean time: 0.0645s\n"
     ]
    },
    {
     "data": {
      "text/html": [
       "<div>\n",
       "<style scoped>\n",
       "    .dataframe tbody tr th:only-of-type {\n",
       "        vertical-align: middle;\n",
       "    }\n",
       "\n",
       "    .dataframe tbody tr th {\n",
       "        vertical-align: top;\n",
       "    }\n",
       "\n",
       "    .dataframe thead th {\n",
       "        text-align: right;\n",
       "    }\n",
       "</style>\n",
       "<table border=\"1\" class=\"dataframe\">\n",
       "  <thead>\n",
       "    <tr style=\"text-align: right;\">\n",
       "      <th></th>\n",
       "      <th>Name</th>\n",
       "      <th>DR Grade 0</th>\n",
       "      <th>DR Grade 1</th>\n",
       "      <th>DR Grade 2</th>\n",
       "      <th>DR Grade 3</th>\n",
       "      <th>DR Grade 4</th>\n",
       "      <th>No/Mild vs rest</th>\n",
       "      <th>AnyDR</th>\n",
       "    </tr>\n",
       "  </thead>\n",
       "  <tbody>\n",
       "    <tr>\n",
       "      <th>RETFound-MEH</th>\n",
       "      <td>RETFound-MEH</td>\n",
       "      <td>0.6879</td>\n",
       "      <td>0.3894</td>\n",
       "      <td>0.6229</td>\n",
       "      <td>0.7132</td>\n",
       "      <td>0.7760</td>\n",
       "      <td>0.8027</td>\n",
       "      <td>0.7412</td>\n",
       "    </tr>\n",
       "    <tr>\n",
       "      <th>DERETFound</th>\n",
       "      <td>DERETFound</td>\n",
       "      <td>0.8253</td>\n",
       "      <td>0.4044</td>\n",
       "      <td>0.6041</td>\n",
       "      <td>0.7419</td>\n",
       "      <td>0.8462</td>\n",
       "      <td>0.8495</td>\n",
       "      <td>0.8147</td>\n",
       "    </tr>\n",
       "    <tr>\n",
       "      <th>RETFound-Green</th>\n",
       "      <td>RETFound-Green</td>\n",
       "      <td>0.7841</td>\n",
       "      <td>0.5138</td>\n",
       "      <td>0.6030</td>\n",
       "      <td>0.7838</td>\n",
       "      <td>0.6927</td>\n",
       "      <td>0.8644</td>\n",
       "      <td>0.7940</td>\n",
       "    </tr>\n",
       "  </tbody>\n",
       "</table>\n",
       "</div>"
      ],
      "text/plain": [
       "                          Name  DR Grade 0  DR Grade 1  DR Grade 2  \\\n",
       "RETFound-MEH      RETFound-MEH      0.6879      0.3894      0.6229   \n",
       "DERETFound          DERETFound      0.8253      0.4044      0.6041   \n",
       "RETFound-Green  RETFound-Green      0.7841      0.5138      0.6030   \n",
       "\n",
       "                DR Grade 3  DR Grade 4  No/Mild vs rest   AnyDR  \n",
       "RETFound-MEH        0.7132      0.7760           0.8027  0.7412  \n",
       "DERETFound          0.7419      0.8462           0.8495  0.8147  \n",
       "RETFound-Green      0.7838      0.6927           0.8644  0.7940  "
      ]
     },
     "metadata": {},
     "output_type": "display_data"
    },
    {
     "data": {
      "image/png": "[encoded data removed]",
      "text/plain": [
       "<Figure size 550x400 with 2 Axes>"
      ]
     },
     "metadata": {},
     "output_type": "display_data"
    },
    {
     "name": "stdout",
     "output_type": "stream",
     "text": [
      "Statistically significant wins:  {'RETFound-MEH': 1, 'DERETFound': 3, 'RETFound-Green': 3}\n",
      "Ties for first place:  {'RETFound-MEH': 0, 'DERETFound': 0, 'RETFound-Green': 0}\n"
     ]
    }
   ],
   "source": [
    "def run_idrid_to_brset_exp(name_X_list,\n",
    "                           models, colors, diab_only=False,\n",
    "                           figsize=(5.5, 4), dashed_line_offsets=(-2.75, 0.25), xtick_loc_scaling=1, title_size='large'):\n",
    "    targets = ['DR Grade', 'No/Mild vs rest', 'AnyDR', ]\n",
    "\n",
    "    results_df = pd.DataFrame(columns=['Name'] + [f'DR Grade {_}' for _ in range(5)] \n",
    "                + ['No/Mild vs rest', 'AnyDR', ])\n",
    "\n",
    "    name_bootstrap_aucs_dict = {}\n",
    "    name_times_dict = {}\n",
    "    for name, Xfname_br, Xfname_idrid_train, Xfname_idrid_test  in tqdm(name_X_list):\n",
    "        np.random.seed(42)\n",
    "        \n",
    "        name_times_dict[name] = []\n",
    "        median_aucs = []\n",
    "\n",
    "        X_train = np.load(Xfname_idrid_train)\n",
    "        X_test = np.load(Xfname_br)\n",
    "\n",
    "        if diab_only:\n",
    "            dfbr_curr = dfbr[dfbr['diabetes'].apply(lambda x: x=='yes').values].copy()\n",
    "            X_test = X_test[dfbr['diabetes'].apply(lambda x: x=='yes').values]\n",
    "        else:\n",
    "            dfbr_curr = dfbr.copy()\n",
    "\n",
    "        perf_str = f'{name:>20}:'\n",
    "        for target_col in tqdm(targets, leave=True):\n",
    "\n",
    "            if target_col.startswith('DR Grade'):\n",
    "                y_train = dfidridtrain['Retinopathy grade'].values\n",
    "                y_test = dfbr_curr['Retinopathy grade'].values\n",
    "\n",
    "                start = time.time()\n",
    "                clf = make_pipeline(StandardScaler(), LogisticRegression(max_iter=20_000, random_state=42))\n",
    "                clf.fit(X_train, y_train)\n",
    "                preds = clf.predict_proba(X_test)\n",
    "                stop = time.time()\n",
    "                delta = stop - start\n",
    "                name_times_dict[name].append(delta)\n",
    "\n",
    "                for grade in range(5):\n",
    "                    curr_median_auc, curr_bootstrap_aucs = get_bootstrap_aucs(y_test == grade, preds[:, grade])\n",
    "                    name_bootstrap_aucs_dict[f'{name}-DR Grade {grade}'] = curr_bootstrap_aucs\n",
    "                    median_aucs.append(curr_median_auc)\n",
    "\n",
    "            elif target_col.startswith('No/Mild vs rest'):\n",
    "                y_train = dfidridtrain['Retinopathy grade'].apply(lambda x: x > 1).values\n",
    "                y_test = dfbr_curr['Retinopathy grade'].apply(lambda x: x > 1).values\n",
    "\n",
    "                start = time.time()\n",
    "                clf = make_pipeline(StandardScaler(), LogisticRegression(max_iter=20_000, random_state=42))\n",
    "                clf.fit(X_train, y_train)\n",
    "                preds = clf.predict_proba(X_test)[:,1]\n",
    "                stop = time.time()\n",
    "                delta = stop - start\n",
    "                name_times_dict[name].append(delta)\n",
    "\n",
    "                curr_median_auc, curr_bootstrap_aucs = get_bootstrap_aucs(y_test, preds)\n",
    "                name_bootstrap_aucs_dict[f'{name}-{target_col}'] = curr_bootstrap_aucs\n",
    "                median_aucs.append(curr_median_auc)\n",
    "                \n",
    "            elif target_col.startswith('AnyDR'):\n",
    "                y_train = dfidridtrain['Retinopathy grade'].apply(lambda x: x > 0).values\n",
    "                y_test = dfbr_curr['Retinopathy grade'].apply(lambda x: x > 0).values\n",
    "\n",
    "                start = time.time()\n",
    "                clf = make_pipeline(StandardScaler(), LogisticRegression(max_iter=20_000, random_state=42))\n",
    "                clf.fit(X_train, y_train)\n",
    "                preds = clf.predict_proba(X_test)[:,1]\n",
    "                stop = time.time()\n",
    "                delta = stop - start\n",
    "                name_times_dict[name].append(delta)\n",
    "\n",
    "                curr_median_auc, curr_bootstrap_aucs = get_bootstrap_aucs(y_test, preds)\n",
    "                name_bootstrap_aucs_dict[f'{name}-{target_col}'] = curr_bootstrap_aucs\n",
    "                median_aucs.append(curr_median_auc)\n",
    "\n",
    "            else:\n",
    "                raise ValueError\n",
    "\n",
    "        perf_str += '\\t'.join([f'{c}:{v:.4f}' for c, v in zip(targets, median_aucs)])\n",
    "        print(perf_str)\n",
    "        print(f'Total time: {sum(name_times_dict[name]):.4f}s / mean time: {np.mean(name_times_dict[name]):.4f}s')\n",
    "\n",
    "        results_df.loc[name] = [name] + median_aucs\n",
    "\n",
    "    display(results_df.round(4))\n",
    "\n",
    "    fig, axes = plt.subplots(1, 2, figsize=figsize, gridspec_kw={'width_ratios': [2, 5]})\n",
    "    axes = axes.flat\n",
    "\n",
    "    width = 0.25\n",
    "\n",
    "    target_groups = {\n",
    "        'Primary classifications': ['No/Mild vs rest', 'AnyDR'],\n",
    "        'Diabetic Retinopathy Grading': [f'DR Grade {_}' for _ in range(5)],\n",
    "    }\n",
    "    wins = {_: 0 for _ in models}\n",
    "    ties = {_: 0 for _ in models}\n",
    "\n",
    "    for target_group, ax in zip(target_groups, axes):\n",
    "        targets = target_groups[target_group]\n",
    "        x = np.arange(len(targets))\n",
    "\n",
    "        for i, model in enumerate(models):\n",
    "            values = [results_df.loc[model, target] for target in targets]\n",
    "            locs = x + i * width\n",
    "            ax.bar(locs, values, width, label=model, color=colors[i], edgecolor=darken_hex(colors[i]))\n",
    "            if model == 'RETFound-Green':\n",
    "                for _idx in range(len(values)):\n",
    "                    _left = locs[_idx] + dashed_line_offsets[0] * width\n",
    "                    _right = locs[_idx] + dashed_line_offsets[1] * width\n",
    "                    _val = values[_idx]\n",
    "                    ax.plot([_left, _right], [_val, _val], c=colors[i], linewidth=1.5, alpha=0.8, linestyle=':')\n",
    "\n",
    "        # plot stat significance\n",
    "        for t_idx, target in enumerate(targets):\n",
    "            target_str = target.replace(\" vs Rest\", \"\")\n",
    "            aucs = [name_bootstrap_aucs_dict[f'{name}-{target}'] for name in models]\n",
    "            p_val, (best_idx, second_best_idx) = get_p_values(aucs)\n",
    "            best_val = np.median(np.vstack(aucs), axis=-1).max()\n",
    "\n",
    "            if p_val < 0.05:\n",
    "                wins[models[best_idx]] += 1\n",
    "            else:\n",
    "                ties[models[best_idx]] += 1\n",
    "                ties[models[second_best_idx]] += 1\n",
    "\n",
    "            start_loc = t_idx + best_idx * width\n",
    "            end_loc = t_idx + second_best_idx * width\n",
    "\n",
    "            ax.plot([start_loc, start_loc, end_loc, end_loc],\n",
    "                    [best_val + 0.001, best_val + 0.012, best_val + 0.012, best_val + 0.001],\n",
    "                    c='black', lw=0.8)\n",
    "            text_loc_height_offset = 0.015 if not p_val < 0.0001 else 0.01\n",
    "            if best_val>0.5:\n",
    "                ax.text((start_loc + end_loc) / 2, best_val + text_loc_height_offset, pval_to_str(p_val), ha='center',\n",
    "                        fontsize='x-small',\n",
    "                        weight=None if not p_val < 0.05 else 'bold')\n",
    "\n",
    "            ax.set_xticks(x + width * xtick_loc_scaling)\n",
    "            targets_display = [_.replace('_', ' ').title() for _ in targets]\n",
    "            targets_display = [_.replace('Dr', \" \")\n",
    "                               for _ in targets_display]\n",
    "            targets_display = [_.replace('Anydr', \"Any DR\").replace('Vs Rest', 'DR')\n",
    "                               for _ in targets_display]\n",
    "            if title_size!='large':\n",
    "                targets_display = [_.replace(' DR', \" \").replace('Grade', 'G')\n",
    "                                   for _ in targets_display]\n",
    "            ax.set_xticklabels(targets_display, rotation=0, ha='center', fontsize='medium' if title_size=='large' else 10)\n",
    "            ax.set_ylim(0.5, 1.03)\n",
    "            ax.set_title(target_group, fontsize=title_size)\n",
    "\n",
    "    axes[0].set_ylabel('AUC on test set')\n",
    "    axes[1].set_yticklabels([])\n",
    "    plt.tight_layout()\n",
    "    plt.show()\n",
    "\n",
    "    print('Statistically significant wins: ', wins)\n",
    "    print('Ties for first place: ', ties)\n",
    "\n",
    "run_idrid_to_brset_exp(name_X_list, models, colors, diab_only=True, title_size='medium')"
   ]
  },
  {
   "cell_type": "code",
   "execution_count": 4,
   "id": "60d46e31-1451-4a3c-8eec-f9968e9dc351",
   "metadata": {},
   "outputs": [
    {
     "data": {
      "application/vnd.jupyter.widget-view+json": {
       "model_id": "711847d07a1346b8a0777d4097bbf462",
       "version_major": 2,
       "version_minor": 0
      },
      "text/plain": [
       "  0%|          | 0/3 [00:00<?, ?it/s]"
      ]
     },
     "metadata": {},
     "output_type": "display_data"
    },
    {
     "data": {
      "application/vnd.jupyter.widget-view+json": {
       "model_id": "a8264c76e02b41919f975b9632925c6a",
       "version_major": 2,
       "version_minor": 0
      },
      "text/plain": [
       "  0%|          | 0/3 [00:00<?, ?it/s]"
      ]
     },
     "metadata": {},
     "output_type": "display_data"
    },
    {
     "name": "stdout",
     "output_type": "stream",
     "text": [
      "        RETFound-MEH:DR Grade:0.7068\tNo/Mild vs rest:0.4017\tAnyDR:0.6619\n",
      "Total time: 0.6703s / mean time: 0.2234s\n"
     ]
    },
    {
     "data": {
      "application/vnd.jupyter.widget-view+json": {
       "model_id": "bd25b5b95d0e4988b73e1e1f699f8083",
       "version_major": 2,
       "version_minor": 0
      },
      "text/plain": [
       "  0%|          | 0/3 [00:00<?, ?it/s]"
      ]
     },
     "metadata": {},
     "output_type": "display_data"
    },
    {
     "name": "stdout",
     "output_type": "stream",
     "text": [
      "          DERETFound:DR Grade:0.8652\tNo/Mild vs rest:0.4283\tAnyDR:0.6702\n",
      "Total time: 0.9949s / mean time: 0.3316s\n"
     ]
    },
    {
     "data": {
      "application/vnd.jupyter.widget-view+json": {
       "model_id": "396b630d087642e79ddff1f1d9736533",
       "version_major": 2,
       "version_minor": 0
      },
      "text/plain": [
       "  0%|          | 0/3 [00:00<?, ?it/s]"
      ]
     },
     "metadata": {},
     "output_type": "display_data"
    },
    {
     "name": "stdout",
     "output_type": "stream",
     "text": [
      "      RETFound-Green:DR Grade:0.8251\tNo/Mild vs rest:0.3965\tAnyDR:0.5642\n",
      "Total time: 0.6446s / mean time: 0.2149s\n"
     ]
    },
    {
     "data": {
      "text/html": [
       "<div>\n",
       "<style scoped>\n",
       "    .dataframe tbody tr th:only-of-type {\n",
       "        vertical-align: middle;\n",
       "    }\n",
       "\n",
       "    .dataframe tbody tr th {\n",
       "        vertical-align: top;\n",
       "    }\n",
       "\n",
       "    .dataframe thead th {\n",
       "        text-align: right;\n",
       "    }\n",
       "</style>\n",
       "<table border=\"1\" class=\"dataframe\">\n",
       "  <thead>\n",
       "    <tr style=\"text-align: right;\">\n",
       "      <th></th>\n",
       "      <th>Name</th>\n",
       "      <th>DR Grade 0</th>\n",
       "      <th>DR Grade 1</th>\n",
       "      <th>DR Grade 2</th>\n",
       "      <th>DR Grade 3</th>\n",
       "      <th>DR Grade 4</th>\n",
       "      <th>No/Mild vs rest</th>\n",
       "      <th>AnyDR</th>\n",
       "    </tr>\n",
       "  </thead>\n",
       "  <tbody>\n",
       "    <tr>\n",
       "      <th>RETFound-MEH</th>\n",
       "      <td>RETFound-MEH</td>\n",
       "      <td>0.7068</td>\n",
       "      <td>0.4017</td>\n",
       "      <td>0.6619</td>\n",
       "      <td>0.7832</td>\n",
       "      <td>0.7961</td>\n",
       "      <td>0.8347</td>\n",
       "      <td>0.7536</td>\n",
       "    </tr>\n",
       "    <tr>\n",
       "      <th>DERETFound</th>\n",
       "      <td>DERETFound</td>\n",
       "      <td>0.8652</td>\n",
       "      <td>0.4283</td>\n",
       "      <td>0.6702</td>\n",
       "      <td>0.8201</td>\n",
       "      <td>0.9042</td>\n",
       "      <td>0.8669</td>\n",
       "      <td>0.8530</td>\n",
       "    </tr>\n",
       "    <tr>\n",
       "      <th>RETFound-Green</th>\n",
       "      <td>RETFound-Green</td>\n",
       "      <td>0.8251</td>\n",
       "      <td>0.3965</td>\n",
       "      <td>0.5642</td>\n",
       "      <td>0.8434</td>\n",
       "      <td>0.7610</td>\n",
       "      <td>0.8887</td>\n",
       "      <td>0.8315</td>\n",
       "    </tr>\n",
       "  </tbody>\n",
       "</table>\n",
       "</div>"
      ],
      "text/plain": [
       "                          Name  DR Grade 0  DR Grade 1  DR Grade 2  \\\n",
       "RETFound-MEH      RETFound-MEH      0.7068      0.4017      0.6619   \n",
       "DERETFound          DERETFound      0.8652      0.4283      0.6702   \n",
       "RETFound-Green  RETFound-Green      0.8251      0.3965      0.5642   \n",
       "\n",
       "                DR Grade 3  DR Grade 4  No/Mild vs rest   AnyDR  \n",
       "RETFound-MEH        0.7832      0.7961           0.8347  0.7536  \n",
       "DERETFound          0.8201      0.9042           0.8669  0.8530  \n",
       "RETFound-Green      0.8434      0.7610           0.8887  0.8315  "
      ]
     },
     "metadata": {},
     "output_type": "display_data"
    },
    {
     "data": {
      "image/png": "[encoded data removed]",
      "text/plain": [
       "<Figure size 550x400 with 2 Axes>"
      ]
     },
     "metadata": {},
     "output_type": "display_data"
    },
    {
     "name": "stdout",
     "output_type": "stream",
     "text": [
      "Statistically significant wins:  {'RETFound-MEH': 0, 'DERETFound': 5, 'RETFound-Green': 2}\n",
      "Ties for first place:  {'RETFound-MEH': 0, 'DERETFound': 0, 'RETFound-Green': 0}\n"
     ]
    }
   ],
   "source": [
    "run_idrid_to_brset_exp(name_X_list, models, colors, diab_only=False, title_size='medium')"
   ]
  }
 ],
 "metadata": {
  "kernelspec": {
   "display_name": "Python 3 (ipykernel)",
   "language": "python",
   "name": "python3"
  },
  "language_info": {
   "codemirror_mode": {
    "name": "ipython",
    "version": 3
   },
   "file_extension": ".py",
   "mimetype": "text/x-python",
   "name": "python",
   "nbconvert_exporter": "python",
   "pygments_lexer": "ipython3",
   "version": "3.10.13"
  }
 },
 "nbformat": 4,
 "nbformat_minor": 5
}
