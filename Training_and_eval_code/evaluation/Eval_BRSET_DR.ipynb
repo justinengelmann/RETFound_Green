{
 "cells": [
  {
   "cell_type": "code",
   "execution_count": 1,
   "id": "b4f20e5b-82cf-40da-bce1-e6456c73afb5",
   "metadata": {},
   "outputs": [],
   "source": [
    "import pandas as pd\n",
    "import numpy as np\n",
    "\n",
    "from sklearn.linear_model import LogisticRegression\n",
    "from sklearn.pipeline import make_pipeline\n",
    "from sklearn.preprocessing import StandardScaler\n",
    "from sklearn.metrics import roc_auc_score\n",
    "\n",
    "import joblib\n",
    "\n",
    "# optional, for progress bars\n",
    "from tqdm.notebook import tqdm\n",
    "import time\n",
    "\n",
    "import matplotlib.pyplot as plt\n",
    "import seaborn as sns\n",
    "\n",
    "from scipy.stats import wilcoxon\n",
    "\n",
    "\n",
    "def get_bootstrap_aucs(y_true, y_pred, bootstrap_iters=100):\n",
    "    rng = np.random.RandomState(seed=42)\n",
    "    idxs = list(range(y_pred.shape[0]))\n",
    "\n",
    "    bootstrap_aucs = []\n",
    "    for _ in range(bootstrap_iters):\n",
    "        curr_idxs = rng.choice(idxs, size=len(idxs), replace=True)\n",
    "        bootstrap_aucs.append(roc_auc_score(y_true[curr_idxs], y_pred[curr_idxs],\n",
    "                                            multi_class='ovr', average='macro'))\n",
    "\n",
    "    return np.median(bootstrap_aucs), bootstrap_aucs\n",
    "\n",
    "\n",
    "def get_p_values(all_aucs):\n",
    "    all_aucs = np.vstack(all_aucs)\n",
    "    median_aucs = np.median(all_aucs, -1)\n",
    "    second_best_idx, best_idx = median_aucs.argsort()[-2:]\n",
    "    p_val = wilcoxon(all_aucs[best_idx], all_aucs[second_best_idx])[1]\n",
    "    return p_val, (best_idx, second_best_idx)\n",
    "\n",
    "\n",
    "def pval_to_str(p_val):\n",
    "    if p_val < 0.0001:\n",
    "        p_val = 'p<0.0001'\n",
    "        p_val = '***'\n",
    "    else:\n",
    "        p_val = f'p={p_val:.4f}'\n",
    "    return p_val\n",
    "\n",
    "\n",
    "def darken_hex(hex_color, factor=0.5):\n",
    "    # Ensure the factor is between 0 and 1\n",
    "    factor = max(0, min(factor, 1))\n",
    "\n",
    "    # Remove the hash symbol if present\n",
    "    hex_color = hex_color.lstrip('#')\n",
    "\n",
    "    # Convert hex to RGB\n",
    "    rgb = tuple(int(hex_color[i:i + 2], 16) for i in (0, 2, 4))\n",
    "\n",
    "    # Darken the RGB values by multiplying by the factor\n",
    "    darkened_rgb = tuple(int(c * factor) for c in rgb)\n",
    "\n",
    "    # Convert the RGB values back to hex\n",
    "    darkened_hex = '#{:02x}{:02x}{:02x}'.format(*darkened_rgb)\n",
    "\n",
    "    return darkened_hex\n",
    "\n",
    "\n",
    "targets = ['macula', 'optic_disc', 'vessels',  # abnormalities\n",
    "           'diabetic_retinopathy', 'amd', 'macular_edema',  # retinal disease\n",
    "           'quality',  # technical\n",
    "           'insuline', 'diabetes']  # systemic\n",
    "\n",
    "df = pd.read_csv('/mnt/c/Users/Justin/Desktop/labels.csv')\n",
    "df['Retinopathy grade']  = df['DR_ICDR']\n",
    "train_ids, test_ids = joblib.load('brset_train_test_split.pkl')\n",
    "train_mask = df.patient_id.isin(train_ids).values\n",
    "dftrain = df[train_mask]\n",
    "dftest = df[~train_mask]\n",
    "\n",
    "name_X_list = [\n",
    "    ('RETFound-MEH', '/home/justin/RETFound_MAE/BRSET_RETFound_Feature_latent.npy'),\n",
    "    ('DERETFound', '/home/justin/RETFound_MAE/BRSET_DERETFound_Feature_latent.npy'),\n",
    "    ('RETFound-Green', 'X_ours_brset.npy'),\n",
    "]\n",
    "models = ['RETFound-MEH', 'DERETFound', 'RETFound-Green']\n",
    "colors = ['#ff595e', '#ffca3a', '#8ac926']\n"
   ]
  },
  {
   "cell_type": "code",
   "execution_count": 2,
   "id": "df379ce6-0821-4e31-8508-0736984988c6",
   "metadata": {},
   "outputs": [],
   "source": [
    "def run_brset_exp(name_X_list, models, colors, diab_only=False,\n",
    "                  figsize=(5.5, 4), dashed_line_offsets=(-2.75, 0.25), xtick_loc_scaling=1, title_size='large'):\n",
    "    targets = ['DR Grade', 'No/Mild vs rest', 'AnyDR', ]\n",
    "\n",
    "    results_df = pd.DataFrame(\n",
    "        columns=['Name'] + [f'DR Grade {_}' for _ in range(5)] \n",
    "                + ['No/Mild vs rest', 'AnyDR', ])\n",
    "\n",
    "    name_bootstrap_aucs_dict = {}\n",
    "    name_times_dict = {}\n",
    "    for name, Xfname in tqdm(name_X_list):\n",
    "        np.random.seed(42)\n",
    "\n",
    "        if diab_only:\n",
    "            diab_mask_train = dftrain['diabetes'].apply(lambda x: x=='yes').values\n",
    "            diab_mask_test = dftest['diabetes'].apply(lambda x: x=='yes').values\n",
    "        else:\n",
    "            # all True\n",
    "            diab_mask_train = dftrain['diabetes'].apply(lambda x: x is not None).values\n",
    "            diab_mask_test = dftest['diabetes'].apply(lambda x: x is not None).values\n",
    "        \n",
    "        name_times_dict[name] = []\n",
    "        median_aucs = []\n",
    "\n",
    "        X = np.load(Xfname)\n",
    "        X_train = X[train_mask]\n",
    "        X_test = X[~train_mask]\n",
    "\n",
    "        perf_str = f'{name:>20}:'\n",
    "        for target_col in tqdm(targets, leave=True):\n",
    "\n",
    "            if target_col.startswith('DR Grade'):\n",
    "                y_train = dftrain['Retinopathy grade'].values\n",
    "                y_test = dftest['Retinopathy grade'].values\n",
    "\n",
    "                start = time.time()\n",
    "                clf = make_pipeline(StandardScaler(), LogisticRegression(max_iter=20_000, random_state=42))\n",
    "                clf.fit(X_train[diab_mask_train], y_train[diab_mask_train])\n",
    "                preds = clf.predict_proba(X_test[diab_mask_test])\n",
    "                stop = time.time()\n",
    "                delta = stop - start\n",
    "                name_times_dict[name].append(delta)\n",
    "\n",
    "                for grade in range(5):\n",
    "                    curr_median_auc, curr_bootstrap_aucs = get_bootstrap_aucs(y_test[diab_mask_test] == grade, preds[:, grade])\n",
    "                    name_bootstrap_aucs_dict[f'{name}-DR Grade {grade}'] = curr_bootstrap_aucs\n",
    "                    median_aucs.append(curr_median_auc)\n",
    "\n",
    "            elif target_col.startswith('No/Mild vs rest'):\n",
    "                y_train = dftrain['Retinopathy grade'].apply(lambda x: x > 1).values\n",
    "                y_test = dftest['Retinopathy grade'].apply(lambda x: x > 1).values\n",
    "\n",
    "                start = time.time()\n",
    "                clf = make_pipeline(StandardScaler(), LogisticRegression(max_iter=20_000, random_state=42))\n",
    "                clf.fit(X_train[diab_mask_train], y_train[diab_mask_train])\n",
    "                preds = clf.predict_proba(X_test[diab_mask_test])[:,1]\n",
    "                stop = time.time()\n",
    "                delta = stop - start\n",
    "                name_times_dict[name].append(delta)\n",
    "\n",
    "                curr_median_auc, curr_bootstrap_aucs = get_bootstrap_aucs(y_test[diab_mask_test], preds)\n",
    "                name_bootstrap_aucs_dict[f'{name}-{target_col}'] = curr_bootstrap_aucs\n",
    "                median_aucs.append(curr_median_auc)\n",
    "                \n",
    "            elif target_col.startswith('AnyDR'):\n",
    "                y_train = dftrain['Retinopathy grade'].apply(lambda x: x > 0).values\n",
    "                y_test = dftest['Retinopathy grade'].apply(lambda x: x > 0).values\n",
    "\n",
    "                start = time.time()\n",
    "                clf = make_pipeline(StandardScaler(), LogisticRegression(max_iter=20_000, random_state=42))\n",
    "                clf.fit(X_train[diab_mask_train], y_train[diab_mask_train])\n",
    "                preds = clf.predict_proba(X_test[diab_mask_test])[:,1]\n",
    "                stop = time.time()\n",
    "                delta = stop - start\n",
    "                name_times_dict[name].append(delta)\n",
    "\n",
    "                curr_median_auc, curr_bootstrap_aucs = get_bootstrap_aucs(y_test[diab_mask_test], preds)\n",
    "                name_bootstrap_aucs_dict[f'{name}-{target_col}'] = curr_bootstrap_aucs\n",
    "                median_aucs.append(curr_median_auc)\n",
    "\n",
    "            else:\n",
    "                raise ValueError\n",
    "\n",
    "        perf_str += '\\t'.join([f'{c}:{v:.4f}' for c, v in zip(targets, median_aucs)])\n",
    "        print(perf_str)\n",
    "        print(f'Total time: {sum(name_times_dict[name]):.4f}s / mean time: {np.mean(name_times_dict[name]):.4f}s')\n",
    "\n",
    "        results_df.loc[name] = [name] + median_aucs\n",
    "\n",
    "    display(results_df.round(4))\n",
    "\n",
    "    fig, axes = plt.subplots(1, 2, figsize=figsize, gridspec_kw={'width_ratios': [2, 5]})\n",
    "    axes = axes.flat\n",
    "\n",
    "    width = 0.25\n",
    "\n",
    "    target_groups = {\n",
    "        'Primary classifications': ['No/Mild vs rest', 'AnyDR'],\n",
    "        'Diabetic Retinopathy Grading': [f'DR Grade {_}' for _ in range(5)],\n",
    "    }\n",
    "    wins = {_: 0 for _ in models}\n",
    "    ties = {_: 0 for _ in models}\n",
    "\n",
    "    for target_group, ax in zip(target_groups, axes):\n",
    "        targets = target_groups[target_group]\n",
    "        x = np.arange(len(targets))\n",
    "\n",
    "        for i, model in enumerate(models):\n",
    "            values = [results_df.loc[model, target] for target in targets]\n",
    "            locs = x + i * width\n",
    "            ax.bar(locs, values, width, label=model, color=colors[i], edgecolor=darken_hex(colors[i]))\n",
    "            if model == 'RETFound-Green':\n",
    "                for _idx in range(len(values)):\n",
    "                    _left = locs[_idx] + dashed_line_offsets[0] * width\n",
    "                    _right = locs[_idx] + dashed_line_offsets[1] * width\n",
    "                    _val = values[_idx]\n",
    "                    ax.plot([_left, _right], [_val, _val], c=colors[i], linewidth=1.5, alpha=0.8, linestyle=':')\n",
    "\n",
    "        # plot stat significance\n",
    "        for t_idx, target in enumerate(targets):\n",
    "            target_str = target.replace(\" vs Rest\", \"\")\n",
    "            aucs = [name_bootstrap_aucs_dict[f'{name}-{target}'] for name in models]\n",
    "            p_val, (best_idx, second_best_idx) = get_p_values(aucs)\n",
    "            best_val = np.median(np.vstack(aucs), axis=-1).max()\n",
    "\n",
    "            if p_val < 0.05:\n",
    "                wins[models[best_idx]] += 1\n",
    "            else:\n",
    "                ties[models[best_idx]] += 1\n",
    "                ties[models[second_best_idx]] += 1\n",
    "\n",
    "            start_loc = t_idx + best_idx * width\n",
    "            end_loc = t_idx + second_best_idx * width\n",
    "\n",
    "            ax.plot([start_loc, start_loc, end_loc, end_loc],\n",
    "                    [best_val + 0.001, best_val + 0.012, best_val + 0.012, best_val + 0.001],\n",
    "                    c='black', lw=0.8)\n",
    "            text_loc_height_offset = 0.015 if not p_val < 0.0001 else 0.01\n",
    "            ax.text((start_loc + end_loc) / 2, best_val + text_loc_height_offset, pval_to_str(p_val), ha='center',\n",
    "                    fontsize='x-small',\n",
    "                    weight=None if not p_val < 0.05 else 'bold')\n",
    "\n",
    "            ax.set_xticks(x + width * xtick_loc_scaling)\n",
    "            targets_display = [_.replace('_', ' ').title() for _ in targets]\n",
    "            targets_display = [_.replace('Dr', \" \")\n",
    "                               for _ in targets_display]\n",
    "            targets_display = [_.replace('Anydr', \"Any DR\").replace('Vs Rest', 'DR')\n",
    "                               for _ in targets_display]\n",
    "            if title_size!='large':\n",
    "                targets_display = [_.replace(' DR', \" \").replace('Grade', 'G')\n",
    "                                   for _ in targets_display]\n",
    "            ax.set_xticklabels(targets_display, rotation=0, ha='center', fontsize='medium' if title_size=='large' else 10)\n",
    "            ax.set_ylim(0.5, 1.03)\n",
    "            ax.set_title(target_group, fontsize=title_size)\n",
    "\n",
    "    axes[0].set_ylabel('AUC on test set')\n",
    "    axes[1].set_yticklabels([])\n",
    "    plt.tight_layout()\n",
    "    plt.show()\n",
    "\n",
    "    print('Statistically significant wins: ', wins)\n",
    "    print('Ties for first place: ', ties)\n",
    "\n"
   ]
  },
  {
   "cell_type": "code",
   "execution_count": 3,
   "id": "db963a26-9a32-418d-950b-ae27fb73a864",
   "metadata": {},
   "outputs": [
    {
     "data": {
      "application/vnd.jupyter.widget-view+json": {
       "model_id": "457eb83043c0442d89fbb2f777a1864b",
       "version_major": 2,
       "version_minor": 0
      },
      "text/plain": [
       "  0%|          | 0/3 [00:00<?, ?it/s]"
      ]
     },
     "metadata": {},
     "output_type": "display_data"
    },
    {
     "data": {
      "application/vnd.jupyter.widget-view+json": {
       "model_id": "e0915606a5f94486a743b9e117f153dc",
       "version_major": 2,
       "version_minor": 0
      },
      "text/plain": [
       "  0%|          | 0/3 [00:00<?, ?it/s]"
      ]
     },
     "metadata": {},
     "output_type": "display_data"
    },
    {
     "name": "stdout",
     "output_type": "stream",
     "text": [
      "        RETFound-MEH:DR Grade:0.9128\tNo/Mild vs rest:0.7933\tAnyDR:0.8276\n",
      "Total time: 15.9256s / mean time: 5.3085s\n"
     ]
    },
    {
     "data": {
      "application/vnd.jupyter.widget-view+json": {
       "model_id": "a434315a631b4ebebd20427f3a561e26",
       "version_major": 2,
       "version_minor": 0
      },
      "text/plain": [
       "  0%|          | 0/3 [00:00<?, ?it/s]"
      ]
     },
     "metadata": {},
     "output_type": "display_data"
    },
    {
     "name": "stdout",
     "output_type": "stream",
     "text": [
      "          DERETFound:DR Grade:0.9270\tNo/Mild vs rest:0.8053\tAnyDR:0.8620\n",
      "Total time: 9.1688s / mean time: 3.0563s\n"
     ]
    },
    {
     "data": {
      "application/vnd.jupyter.widget-view+json": {
       "model_id": "fbb91131dc904bba966b87b713ed7462",
       "version_major": 2,
       "version_minor": 0
      },
      "text/plain": [
       "  0%|          | 0/3 [00:00<?, ?it/s]"
      ]
     },
     "metadata": {},
     "output_type": "display_data"
    },
    {
     "name": "stdout",
     "output_type": "stream",
     "text": [
      "      RETFound-Green:DR Grade:0.9491\tNo/Mild vs rest:0.8644\tAnyDR:0.8903\n",
      "Total time: 3.0823s / mean time: 1.0274s\n"
     ]
    },
    {
     "data": {
      "text/html": [
       "<div>\n",
       "<style scoped>\n",
       "    .dataframe tbody tr th:only-of-type {\n",
       "        vertical-align: middle;\n",
       "    }\n",
       "\n",
       "    .dataframe tbody tr th {\n",
       "        vertical-align: top;\n",
       "    }\n",
       "\n",
       "    .dataframe thead th {\n",
       "        text-align: right;\n",
       "    }\n",
       "</style>\n",
       "<table border=\"1\" class=\"dataframe\">\n",
       "  <thead>\n",
       "    <tr style=\"text-align: right;\">\n",
       "      <th></th>\n",
       "      <th>Name</th>\n",
       "      <th>DR Grade 0</th>\n",
       "      <th>DR Grade 1</th>\n",
       "      <th>DR Grade 2</th>\n",
       "      <th>DR Grade 3</th>\n",
       "      <th>DR Grade 4</th>\n",
       "      <th>No/Mild vs rest</th>\n",
       "      <th>AnyDR</th>\n",
       "    </tr>\n",
       "  </thead>\n",
       "  <tbody>\n",
       "    <tr>\n",
       "      <th>RETFound-MEH</th>\n",
       "      <td>RETFound-MEH</td>\n",
       "      <td>0.9128</td>\n",
       "      <td>0.7933</td>\n",
       "      <td>0.8276</td>\n",
       "      <td>0.9067</td>\n",
       "      <td>0.9854</td>\n",
       "      <td>0.9409</td>\n",
       "      <td>0.9178</td>\n",
       "    </tr>\n",
       "    <tr>\n",
       "      <th>DERETFound</th>\n",
       "      <td>DERETFound</td>\n",
       "      <td>0.9270</td>\n",
       "      <td>0.8053</td>\n",
       "      <td>0.8620</td>\n",
       "      <td>0.9172</td>\n",
       "      <td>0.9785</td>\n",
       "      <td>0.9494</td>\n",
       "      <td>0.9409</td>\n",
       "    </tr>\n",
       "    <tr>\n",
       "      <th>RETFound-Green</th>\n",
       "      <td>RETFound-Green</td>\n",
       "      <td>0.9491</td>\n",
       "      <td>0.8644</td>\n",
       "      <td>0.8903</td>\n",
       "      <td>0.9189</td>\n",
       "      <td>0.9773</td>\n",
       "      <td>0.9635</td>\n",
       "      <td>0.9617</td>\n",
       "    </tr>\n",
       "  </tbody>\n",
       "</table>\n",
       "</div>"
      ],
      "text/plain": [
       "                          Name  DR Grade 0  DR Grade 1  DR Grade 2  \\\n",
       "RETFound-MEH      RETFound-MEH      0.9128      0.7933      0.8276   \n",
       "DERETFound          DERETFound      0.9270      0.8053      0.8620   \n",
       "RETFound-Green  RETFound-Green      0.9491      0.8644      0.8903   \n",
       "\n",
       "                DR Grade 3  DR Grade 4  No/Mild vs rest   AnyDR  \n",
       "RETFound-MEH        0.9067      0.9854           0.9409  0.9178  \n",
       "DERETFound          0.9172      0.9785           0.9494  0.9409  \n",
       "RETFound-Green      0.9189      0.9773           0.9635  0.9617  "
      ]
     },
     "metadata": {},
     "output_type": "display_data"
    },
    {
     "data": {
      "image/png": "[encoded data removed]",
      "text/plain": [
       "<Figure size 550x400 with 2 Axes>"
      ]
     },
     "metadata": {},
     "output_type": "display_data"
    },
    {
     "name": "stdout",
     "output_type": "stream",
     "text": [
      "Statistically significant wins:  {'RETFound-MEH': 1, 'DERETFound': 0, 'RETFound-Green': 5}\n",
      "Ties for first place:  {'RETFound-MEH': 0, 'DERETFound': 1, 'RETFound-Green': 1}\n"
     ]
    }
   ],
   "source": [
    "run_brset_exp(name_X_list, models, colors)"
   ]
  },
  {
   "cell_type": "code",
   "execution_count": 4,
   "id": "f0abfe10-4cec-4bab-8134-ae4faf4389a1",
   "metadata": {},
   "outputs": [
    {
     "data": {
      "application/vnd.jupyter.widget-view+json": {
       "model_id": "fc2b1965ec1c45988edd1f0cf0194830",
       "version_major": 2,
       "version_minor": 0
      },
      "text/plain": [
       "  0%|          | 0/3 [00:00<?, ?it/s]"
      ]
     },
     "metadata": {},
     "output_type": "display_data"
    },
    {
     "data": {
      "application/vnd.jupyter.widget-view+json": {
       "model_id": "9b6d109041e64070ade14b3262df78eb",
       "version_major": 2,
       "version_minor": 0
      },
      "text/plain": [
       "  0%|          | 0/3 [00:00<?, ?it/s]"
      ]
     },
     "metadata": {},
     "output_type": "display_data"
    },
    {
     "name": "stdout",
     "output_type": "stream",
     "text": [
      "        RETFound-MEH:DR Grade:0.8551\tNo/Mild vs rest:0.7053\tAnyDR:0.6617\n",
      "Total time: 1.4723s / mean time: 0.4908s\n"
     ]
    },
    {
     "data": {
      "application/vnd.jupyter.widget-view+json": {
       "model_id": "e7a06bae7b144a38a1eafcb5f3906017",
       "version_major": 2,
       "version_minor": 0
      },
      "text/plain": [
       "  0%|          | 0/3 [00:00<?, ?it/s]"
      ]
     },
     "metadata": {},
     "output_type": "display_data"
    },
    {
     "name": "stdout",
     "output_type": "stream",
     "text": [
      "          DERETFound:DR Grade:0.8756\tNo/Mild vs rest:0.7723\tAnyDR:0.7662\n",
      "Total time: 0.6887s / mean time: 0.2296s\n"
     ]
    },
    {
     "data": {
      "application/vnd.jupyter.widget-view+json": {
       "model_id": "35be3b46e95b493b9245f5acb1a0e591",
       "version_major": 2,
       "version_minor": 0
      },
      "text/plain": [
       "  0%|          | 0/3 [00:00<?, ?it/s]"
      ]
     },
     "metadata": {},
     "output_type": "display_data"
    },
    {
     "name": "stdout",
     "output_type": "stream",
     "text": [
      "      RETFound-Green:DR Grade:0.9095\tNo/Mild vs rest:0.7187\tAnyDR:0.7780\n",
      "Total time: 0.3265s / mean time: 0.1088s\n"
     ]
    },
    {
     "data": {
      "text/html": [
       "<div>\n",
       "<style scoped>\n",
       "    .dataframe tbody tr th:only-of-type {\n",
       "        vertical-align: middle;\n",
       "    }\n",
       "\n",
       "    .dataframe tbody tr th {\n",
       "        vertical-align: top;\n",
       "    }\n",
       "\n",
       "    .dataframe thead th {\n",
       "        text-align: right;\n",
       "    }\n",
       "</style>\n",
       "<table border=\"1\" class=\"dataframe\">\n",
       "  <thead>\n",
       "    <tr style=\"text-align: right;\">\n",
       "      <th></th>\n",
       "      <th>Name</th>\n",
       "      <th>DR Grade 0</th>\n",
       "      <th>DR Grade 1</th>\n",
       "      <th>DR Grade 2</th>\n",
       "      <th>DR Grade 3</th>\n",
       "      <th>DR Grade 4</th>\n",
       "      <th>No/Mild vs rest</th>\n",
       "      <th>AnyDR</th>\n",
       "    </tr>\n",
       "  </thead>\n",
       "  <tbody>\n",
       "    <tr>\n",
       "      <th>RETFound-MEH</th>\n",
       "      <td>RETFound-MEH</td>\n",
       "      <td>0.8551</td>\n",
       "      <td>0.7053</td>\n",
       "      <td>0.6617</td>\n",
       "      <td>0.8723</td>\n",
       "      <td>0.9834</td>\n",
       "      <td>0.8797</td>\n",
       "      <td>0.8607</td>\n",
       "    </tr>\n",
       "    <tr>\n",
       "      <th>DERETFound</th>\n",
       "      <td>DERETFound</td>\n",
       "      <td>0.8756</td>\n",
       "      <td>0.7723</td>\n",
       "      <td>0.7662</td>\n",
       "      <td>0.8508</td>\n",
       "      <td>0.9614</td>\n",
       "      <td>0.9060</td>\n",
       "      <td>0.8910</td>\n",
       "    </tr>\n",
       "    <tr>\n",
       "      <th>RETFound-Green</th>\n",
       "      <td>RETFound-Green</td>\n",
       "      <td>0.9095</td>\n",
       "      <td>0.7187</td>\n",
       "      <td>0.7780</td>\n",
       "      <td>0.8346</td>\n",
       "      <td>0.9491</td>\n",
       "      <td>0.9182</td>\n",
       "      <td>0.9100</td>\n",
       "    </tr>\n",
       "  </tbody>\n",
       "</table>\n",
       "</div>"
      ],
      "text/plain": [
       "                          Name  DR Grade 0  DR Grade 1  DR Grade 2  \\\n",
       "RETFound-MEH      RETFound-MEH      0.8551      0.7053      0.6617   \n",
       "DERETFound          DERETFound      0.8756      0.7723      0.7662   \n",
       "RETFound-Green  RETFound-Green      0.9095      0.7187      0.7780   \n",
       "\n",
       "                DR Grade 3  DR Grade 4  No/Mild vs rest   AnyDR  \n",
       "RETFound-MEH        0.8723      0.9834           0.8797  0.8607  \n",
       "DERETFound          0.8508      0.9614           0.9060  0.8910  \n",
       "RETFound-Green      0.8346      0.9491           0.9182  0.9100  "
      ]
     },
     "metadata": {},
     "output_type": "display_data"
    },
    {
     "data": {
      "image/png": "[encoded data removed]",
      "text/plain": [
       "<Figure size 550x400 with 2 Axes>"
      ]
     },
     "metadata": {},
     "output_type": "display_data"
    },
    {
     "name": "stdout",
     "output_type": "stream",
     "text": [
      "Statistically significant wins:  {'RETFound-MEH': 2, 'DERETFound': 1, 'RETFound-Green': 3}\n",
      "Ties for first place:  {'RETFound-MEH': 0, 'DERETFound': 1, 'RETFound-Green': 1}\n"
     ]
    }
   ],
   "source": [
    "run_brset_exp(name_X_list, models, colors, diab_only=True)"
   ]
  },
  {
   "cell_type": "code",
   "execution_count": 5,
   "id": "351b82a5-b602-44d9-aa02-d01622485b0b",
   "metadata": {},
   "outputs": [
    {
     "data": {
      "application/vnd.jupyter.widget-view+json": {
       "model_id": "adbff3f038604ec1a3877c3043e880e2",
       "version_major": 2,
       "version_minor": 0
      },
      "text/plain": [
       "  0%|          | 0/3 [00:00<?, ?it/s]"
      ]
     },
     "metadata": {},
     "output_type": "display_data"
    },
    {
     "data": {
      "application/vnd.jupyter.widget-view+json": {
       "model_id": "38404517eb2f422688dff484d7bda3a6",
       "version_major": 2,
       "version_minor": 0
      },
      "text/plain": [
       "  0%|          | 0/3 [00:00<?, ?it/s]"
      ]
     },
     "metadata": {},
     "output_type": "display_data"
    },
    {
     "name": "stdout",
     "output_type": "stream",
     "text": [
      "        RETFound-MEH:DR Grade:0.9128\tNo/Mild vs rest:0.7933\tAnyDR:0.8276\n",
      "Total time: 12.7213s / mean time: 4.2404s\n"
     ]
    },
    {
     "data": {
      "application/vnd.jupyter.widget-view+json": {
       "model_id": "74bf78161be84fe6bd1c436c6f75bb9f",
       "version_major": 2,
       "version_minor": 0
      },
      "text/plain": [
       "  0%|          | 0/3 [00:00<?, ?it/s]"
      ]
     },
     "metadata": {},
     "output_type": "display_data"
    },
    {
     "name": "stdout",
     "output_type": "stream",
     "text": [
      "          DERETFound:DR Grade:0.9270\tNo/Mild vs rest:0.8053\tAnyDR:0.8620\n",
      "Total time: 8.7054s / mean time: 2.9018s\n"
     ]
    },
    {
     "data": {
      "application/vnd.jupyter.widget-view+json": {
       "model_id": "840a815276a64e3d88e60b8f675a65c8",
       "version_major": 2,
       "version_minor": 0
      },
      "text/plain": [
       "  0%|          | 0/3 [00:00<?, ?it/s]"
      ]
     },
     "metadata": {},
     "output_type": "display_data"
    },
    {
     "name": "stdout",
     "output_type": "stream",
     "text": [
      "  RETFound-Green@224:DR Grade:0.9227\tNo/Mild vs rest:0.7967\tAnyDR:0.8890\n",
      "Total time: 4.0860s / mean time: 1.3620s\n"
     ]
    },
    {
     "data": {
      "text/html": [
       "<div>\n",
       "<style scoped>\n",
       "    .dataframe tbody tr th:only-of-type {\n",
       "        vertical-align: middle;\n",
       "    }\n",
       "\n",
       "    .dataframe tbody tr th {\n",
       "        vertical-align: top;\n",
       "    }\n",
       "\n",
       "    .dataframe thead th {\n",
       "        text-align: right;\n",
       "    }\n",
       "</style>\n",
       "<table border=\"1\" class=\"dataframe\">\n",
       "  <thead>\n",
       "    <tr style=\"text-align: right;\">\n",
       "      <th></th>\n",
       "      <th>Name</th>\n",
       "      <th>DR Grade 0</th>\n",
       "      <th>DR Grade 1</th>\n",
       "      <th>DR Grade 2</th>\n",
       "      <th>DR Grade 3</th>\n",
       "      <th>DR Grade 4</th>\n",
       "      <th>No/Mild vs rest</th>\n",
       "      <th>AnyDR</th>\n",
       "    </tr>\n",
       "  </thead>\n",
       "  <tbody>\n",
       "    <tr>\n",
       "      <th>RETFound-MEH</th>\n",
       "      <td>RETFound-MEH</td>\n",
       "      <td>0.9128</td>\n",
       "      <td>0.7933</td>\n",
       "      <td>0.8276</td>\n",
       "      <td>0.9067</td>\n",
       "      <td>0.9854</td>\n",
       "      <td>0.9409</td>\n",
       "      <td>0.9178</td>\n",
       "    </tr>\n",
       "    <tr>\n",
       "      <th>DERETFound</th>\n",
       "      <td>DERETFound</td>\n",
       "      <td>0.9270</td>\n",
       "      <td>0.8053</td>\n",
       "      <td>0.8620</td>\n",
       "      <td>0.9172</td>\n",
       "      <td>0.9785</td>\n",
       "      <td>0.9494</td>\n",
       "      <td>0.9409</td>\n",
       "    </tr>\n",
       "    <tr>\n",
       "      <th>RETFound-Green@224</th>\n",
       "      <td>RETFound-Green@224</td>\n",
       "      <td>0.9227</td>\n",
       "      <td>0.7967</td>\n",
       "      <td>0.8890</td>\n",
       "      <td>0.9023</td>\n",
       "      <td>0.9694</td>\n",
       "      <td>0.9499</td>\n",
       "      <td>0.9308</td>\n",
       "    </tr>\n",
       "  </tbody>\n",
       "</table>\n",
       "</div>"
      ],
      "text/plain": [
       "                                  Name  DR Grade 0  DR Grade 1  DR Grade 2  \\\n",
       "RETFound-MEH              RETFound-MEH      0.9128      0.7933      0.8276   \n",
       "DERETFound                  DERETFound      0.9270      0.8053      0.8620   \n",
       "RETFound-Green@224  RETFound-Green@224      0.9227      0.7967      0.8890   \n",
       "\n",
       "                    DR Grade 3  DR Grade 4  No/Mild vs rest   AnyDR  \n",
       "RETFound-MEH            0.9067      0.9854           0.9409  0.9178  \n",
       "DERETFound              0.9172      0.9785           0.9494  0.9409  \n",
       "RETFound-Green@224      0.9023      0.9694           0.9499  0.9308  "
      ]
     },
     "metadata": {},
     "output_type": "display_data"
    },
    {
     "data": {
      "image/png": "[encoded data removed]",
      "text/plain": [
       "<Figure size 550x400 with 2 Axes>"
      ]
     },
     "metadata": {},
     "output_type": "display_data"
    },
    {
     "name": "stdout",
     "output_type": "stream",
     "text": [
      "Statistically significant wins:  {'RETFound-MEH': 1, 'DERETFound': 2, 'RETFound-Green@224': 1}\n",
      "Ties for first place:  {'RETFound-MEH': 0, 'DERETFound': 3, 'RETFound-Green@224': 3}\n"
     ]
    }
   ],
   "source": [
    "name_X_list = [\n",
    "    ('RETFound-MEH', '/home/justin/RETFound_MAE/BRSET_RETFound_Feature_latent.npy'),\n",
    "    ('DERETFound', '/home/justin/RETFound_MAE/BRSET_DERETFound_Feature_latent.npy'),\n",
    "    ('RETFound-Green@224', 'X_ours_brset_224.npy'),\n",
    "]\n",
    "models = ['RETFound-MEH', 'DERETFound', 'RETFound-Green@224']\n",
    "colors = ['#ff595e', '#ffca3a', '#B8FF3D']\n",
    "\n",
    "run_brset_exp(name_X_list, models, colors)"
   ]
  },
  {
   "cell_type": "code",
   "execution_count": 6,
   "id": "06fc3168-1c29-4116-b80d-82f1f82abbc4",
   "metadata": {},
   "outputs": [
    {
     "data": {
      "application/vnd.jupyter.widget-view+json": {
       "model_id": "75b93ceef9354aa0840ec4d9524c6fb7",
       "version_major": 2,
       "version_minor": 0
      },
      "text/plain": [
       "  0%|          | 0/3 [00:00<?, ?it/s]"
      ]
     },
     "metadata": {},
     "output_type": "display_data"
    },
    {
     "data": {
      "application/vnd.jupyter.widget-view+json": {
       "model_id": "797e4e915c7e4b9485d89b4cb8359114",
       "version_major": 2,
       "version_minor": 0
      },
      "text/plain": [
       "  0%|          | 0/3 [00:00<?, ?it/s]"
      ]
     },
     "metadata": {},
     "output_type": "display_data"
    },
    {
     "name": "stdout",
     "output_type": "stream",
     "text": [
      "        RETFound-MEH:DR Grade:0.8551\tNo/Mild vs rest:0.7053\tAnyDR:0.6617\n",
      "Total time: 1.1146s / mean time: 0.3715s\n"
     ]
    },
    {
     "data": {
      "application/vnd.jupyter.widget-view+json": {
       "model_id": "6562c21277c4473fb9fa00c9add96fba",
       "version_major": 2,
       "version_minor": 0
      },
      "text/plain": [
       "  0%|          | 0/3 [00:00<?, ?it/s]"
      ]
     },
     "metadata": {},
     "output_type": "display_data"
    },
    {
     "name": "stdout",
     "output_type": "stream",
     "text": [
      "          DERETFound:DR Grade:0.8756\tNo/Mild vs rest:0.7723\tAnyDR:0.7662\n",
      "Total time: 1.7645s / mean time: 0.5882s\n"
     ]
    },
    {
     "data": {
      "application/vnd.jupyter.widget-view+json": {
       "model_id": "43c37038d765459ba9de8cbe61567461",
       "version_major": 2,
       "version_minor": 0
      },
      "text/plain": [
       "  0%|          | 0/3 [00:00<?, ?it/s]"
      ]
     },
     "metadata": {},
     "output_type": "display_data"
    },
    {
     "name": "stdout",
     "output_type": "stream",
     "text": [
      "  RETFound-Green@224:DR Grade:0.8889\tNo/Mild vs rest:0.6757\tAnyDR:0.8110\n",
      "Total time: 0.4907s / mean time: 0.1636s\n"
     ]
    },
    {
     "data": {
      "text/html": [
       "<div>\n",
       "<style scoped>\n",
       "    .dataframe tbody tr th:only-of-type {\n",
       "        vertical-align: middle;\n",
       "    }\n",
       "\n",
       "    .dataframe tbody tr th {\n",
       "        vertical-align: top;\n",
       "    }\n",
       "\n",
       "    .dataframe thead th {\n",
       "        text-align: right;\n",
       "    }\n",
       "</style>\n",
       "<table border=\"1\" class=\"dataframe\">\n",
       "  <thead>\n",
       "    <tr style=\"text-align: right;\">\n",
       "      <th></th>\n",
       "      <th>Name</th>\n",
       "      <th>DR Grade 0</th>\n",
       "      <th>DR Grade 1</th>\n",
       "      <th>DR Grade 2</th>\n",
       "      <th>DR Grade 3</th>\n",
       "      <th>DR Grade 4</th>\n",
       "      <th>No/Mild vs rest</th>\n",
       "      <th>AnyDR</th>\n",
       "    </tr>\n",
       "  </thead>\n",
       "  <tbody>\n",
       "    <tr>\n",
       "      <th>RETFound-MEH</th>\n",
       "      <td>RETFound-MEH</td>\n",
       "      <td>0.8551</td>\n",
       "      <td>0.7053</td>\n",
       "      <td>0.6617</td>\n",
       "      <td>0.8723</td>\n",
       "      <td>0.9834</td>\n",
       "      <td>0.8797</td>\n",
       "      <td>0.8607</td>\n",
       "    </tr>\n",
       "    <tr>\n",
       "      <th>DERETFound</th>\n",
       "      <td>DERETFound</td>\n",
       "      <td>0.8756</td>\n",
       "      <td>0.7723</td>\n",
       "      <td>0.7662</td>\n",
       "      <td>0.8508</td>\n",
       "      <td>0.9614</td>\n",
       "      <td>0.9060</td>\n",
       "      <td>0.8910</td>\n",
       "    </tr>\n",
       "    <tr>\n",
       "      <th>RETFound-Green@224</th>\n",
       "      <td>RETFound-Green@224</td>\n",
       "      <td>0.8889</td>\n",
       "      <td>0.6757</td>\n",
       "      <td>0.8110</td>\n",
       "      <td>0.8072</td>\n",
       "      <td>0.9675</td>\n",
       "      <td>0.9161</td>\n",
       "      <td>0.8862</td>\n",
       "    </tr>\n",
       "  </tbody>\n",
       "</table>\n",
       "</div>"
      ],
      "text/plain": [
       "                                  Name  DR Grade 0  DR Grade 1  DR Grade 2  \\\n",
       "RETFound-MEH              RETFound-MEH      0.8551      0.7053      0.6617   \n",
       "DERETFound                  DERETFound      0.8756      0.7723      0.7662   \n",
       "RETFound-Green@224  RETFound-Green@224      0.8889      0.6757      0.8110   \n",
       "\n",
       "                    DR Grade 3  DR Grade 4  No/Mild vs rest   AnyDR  \n",
       "RETFound-MEH            0.8723      0.9834           0.8797  0.8607  \n",
       "DERETFound              0.8508      0.9614           0.9060  0.8910  \n",
       "RETFound-Green@224      0.8072      0.9675           0.9161  0.8862  "
      ]
     },
     "metadata": {},
     "output_type": "display_data"
    },
    {
     "data": {
      "image/png": "[encoded data removed]",
      "text/plain": [
       "<Figure size 550x400 with 2 Axes>"
      ]
     },
     "metadata": {},
     "output_type": "display_data"
    },
    {
     "name": "stdout",
     "output_type": "stream",
     "text": [
      "Statistically significant wins:  {'RETFound-MEH': 2, 'DERETFound': 1, 'RETFound-Green@224': 3}\n",
      "Ties for first place:  {'RETFound-MEH': 0, 'DERETFound': 1, 'RETFound-Green@224': 1}\n"
     ]
    }
   ],
   "source": [
    "run_brset_exp(name_X_list, models, colors, diab_only=True)"
   ]
  },
  {
   "cell_type": "code",
   "execution_count": 7,
   "id": "5071c3b5-4419-4d7b-b5c7-e3744c08b75a",
   "metadata": {},
   "outputs": [
    {
     "data": {
      "application/vnd.jupyter.widget-view+json": {
       "model_id": "12538294bee54a97af30260ede34e8b0",
       "version_major": 2,
       "version_minor": 0
      },
      "text/plain": [
       "  0%|          | 0/2 [00:00<?, ?it/s]"
      ]
     },
     "metadata": {},
     "output_type": "display_data"
    },
    {
     "data": {
      "application/vnd.jupyter.widget-view+json": {
       "model_id": "7b2aa55a52ca4860bc65a33a1c322488",
       "version_major": 2,
       "version_minor": 0
      },
      "text/plain": [
       "  0%|          | 0/3 [00:00<?, ?it/s]"
      ]
     },
     "metadata": {},
     "output_type": "display_data"
    },
    {
     "name": "stdout",
     "output_type": "stream",
     "text": [
      "      RETFound-Green:DR Grade:0.9095\tNo/Mild vs rest:0.7187\tAnyDR:0.7780\n",
      "Total time: 0.5730s / mean time: 0.1910s\n"
     ]
    },
    {
     "data": {
      "application/vnd.jupyter.widget-view+json": {
       "model_id": "c1719d72bc0241b7a4219de5cbed9b45",
       "version_major": 2,
       "version_minor": 0
      },
      "text/plain": [
       "  0%|          | 0/3 [00:00<?, ?it/s]"
      ]
     },
     "metadata": {},
     "output_type": "display_data"
    },
    {
     "name": "stdout",
     "output_type": "stream",
     "text": [
      "              DinoV2:DR Grade:0.8775\tNo/Mild vs rest:0.7069\tAnyDR:0.7519\n",
      "Total time: 0.3259s / mean time: 0.1086s\n"
     ]
    },
    {
     "data": {
      "text/html": [
       "<div>\n",
       "<style scoped>\n",
       "    .dataframe tbody tr th:only-of-type {\n",
       "        vertical-align: middle;\n",
       "    }\n",
       "\n",
       "    .dataframe tbody tr th {\n",
       "        vertical-align: top;\n",
       "    }\n",
       "\n",
       "    .dataframe thead th {\n",
       "        text-align: right;\n",
       "    }\n",
       "</style>\n",
       "<table border=\"1\" class=\"dataframe\">\n",
       "  <thead>\n",
       "    <tr style=\"text-align: right;\">\n",
       "      <th></th>\n",
       "      <th>Name</th>\n",
       "      <th>DR Grade 0</th>\n",
       "      <th>DR Grade 1</th>\n",
       "      <th>DR Grade 2</th>\n",
       "      <th>DR Grade 3</th>\n",
       "      <th>DR Grade 4</th>\n",
       "      <th>No/Mild vs rest</th>\n",
       "      <th>AnyDR</th>\n",
       "    </tr>\n",
       "  </thead>\n",
       "  <tbody>\n",
       "    <tr>\n",
       "      <th>RETFound-Green</th>\n",
       "      <td>RETFound-Green</td>\n",
       "      <td>0.9095</td>\n",
       "      <td>0.7187</td>\n",
       "      <td>0.7780</td>\n",
       "      <td>0.8346</td>\n",
       "      <td>0.9491</td>\n",
       "      <td>0.9182</td>\n",
       "      <td>0.9100</td>\n",
       "    </tr>\n",
       "    <tr>\n",
       "      <th>DinoV2</th>\n",
       "      <td>DinoV2</td>\n",
       "      <td>0.8775</td>\n",
       "      <td>0.7069</td>\n",
       "      <td>0.7519</td>\n",
       "      <td>0.8136</td>\n",
       "      <td>0.9131</td>\n",
       "      <td>0.8957</td>\n",
       "      <td>0.8762</td>\n",
       "    </tr>\n",
       "  </tbody>\n",
       "</table>\n",
       "</div>"
      ],
      "text/plain": [
       "                          Name  DR Grade 0  DR Grade 1  DR Grade 2  \\\n",
       "RETFound-Green  RETFound-Green      0.9095      0.7187      0.7780   \n",
       "DinoV2                  DinoV2      0.8775      0.7069      0.7519   \n",
       "\n",
       "                DR Grade 3  DR Grade 4  No/Mild vs rest   AnyDR  \n",
       "RETFound-Green      0.8346      0.9491           0.9182  0.9100  \n",
       "DinoV2              0.8136      0.9131           0.8957  0.8762  "
      ]
     },
     "metadata": {},
     "output_type": "display_data"
    },
    {
     "data": {
      "image/png": "[encoded data removed]",
      "text/plain": [
       "<Figure size 450x400 with 2 Axes>"
      ]
     },
     "metadata": {},
     "output_type": "display_data"
    },
    {
     "name": "stdout",
     "output_type": "stream",
     "text": [
      "Statistically significant wins:  {'RETFound-Green': 7, 'DinoV2': 0}\n",
      "Ties for first place:  {'RETFound-Green': 0, 'DinoV2': 0}\n"
     ]
    }
   ],
   "source": [
    "name_X_list = [\n",
    "    ('RETFound-Green', 'X_ours_brset.npy'),\n",
    "    ('DinoV2', 'X_ViTSDinov2_brset.npy'),\n",
    "]\n",
    "\n",
    "models = ['RETFound-Green', 'DinoV2']\n",
    "colors = ['#8ac926', '#4d759a']\n",
    "\n",
    "run_brset_exp(name_X_list, models, colors, diab_only=True,\n",
    "              figsize=(4.5, 4), dashed_line_offsets=(-0.25, 1.1), xtick_loc_scaling=0.5, title_size='medium')"
   ]
  },
  {
   "cell_type": "code",
   "execution_count": 8,
   "id": "a56b87bb-ffc3-4134-8b92-91ab021bd25e",
   "metadata": {},
   "outputs": [
    {
     "data": {
      "application/vnd.jupyter.widget-view+json": {
       "model_id": "efb112235f584364b7bd8381ebbaeffc",
       "version_major": 2,
       "version_minor": 0
      },
      "text/plain": [
       "  0%|          | 0/2 [00:00<?, ?it/s]"
      ]
     },
     "metadata": {},
     "output_type": "display_data"
    },
    {
     "data": {
      "application/vnd.jupyter.widget-view+json": {
       "model_id": "7c00b3df18d44947986847be2da55591",
       "version_major": 2,
       "version_minor": 0
      },
      "text/plain": [
       "  0%|          | 0/3 [00:00<?, ?it/s]"
      ]
     },
     "metadata": {},
     "output_type": "display_data"
    },
    {
     "name": "stdout",
     "output_type": "stream",
     "text": [
      "      RETFound-Green:DR Grade:0.9491\tNo/Mild vs rest:0.8644\tAnyDR:0.8903\n",
      "Total time: 3.2258s / mean time: 1.0753s\n"
     ]
    },
    {
     "data": {
      "application/vnd.jupyter.widget-view+json": {
       "model_id": "8f61bfe2387b4dbf8305fb062798a1ee",
       "version_major": 2,
       "version_minor": 0
      },
      "text/plain": [
       "  0%|          | 0/3 [00:00<?, ?it/s]"
      ]
     },
     "metadata": {},
     "output_type": "display_data"
    },
    {
     "name": "stdout",
     "output_type": "stream",
     "text": [
      "              DinoV2:DR Grade:0.9353\tNo/Mild vs rest:0.7987\tAnyDR:0.8730\n",
      "Total time: 3.5303s / mean time: 1.1768s\n"
     ]
    },
    {
     "data": {
      "text/html": [
       "<div>\n",
       "<style scoped>\n",
       "    .dataframe tbody tr th:only-of-type {\n",
       "        vertical-align: middle;\n",
       "    }\n",
       "\n",
       "    .dataframe tbody tr th {\n",
       "        vertical-align: top;\n",
       "    }\n",
       "\n",
       "    .dataframe thead th {\n",
       "        text-align: right;\n",
       "    }\n",
       "</style>\n",
       "<table border=\"1\" class=\"dataframe\">\n",
       "  <thead>\n",
       "    <tr style=\"text-align: right;\">\n",
       "      <th></th>\n",
       "      <th>Name</th>\n",
       "      <th>DR Grade 0</th>\n",
       "      <th>DR Grade 1</th>\n",
       "      <th>DR Grade 2</th>\n",
       "      <th>DR Grade 3</th>\n",
       "      <th>DR Grade 4</th>\n",
       "      <th>No/Mild vs rest</th>\n",
       "      <th>AnyDR</th>\n",
       "    </tr>\n",
       "  </thead>\n",
       "  <tbody>\n",
       "    <tr>\n",
       "      <th>RETFound-Green</th>\n",
       "      <td>RETFound-Green</td>\n",
       "      <td>0.9491</td>\n",
       "      <td>0.8644</td>\n",
       "      <td>0.8903</td>\n",
       "      <td>0.9189</td>\n",
       "      <td>0.9773</td>\n",
       "      <td>0.9635</td>\n",
       "      <td>0.9617</td>\n",
       "    </tr>\n",
       "    <tr>\n",
       "      <th>DinoV2</th>\n",
       "      <td>DinoV2</td>\n",
       "      <td>0.9353</td>\n",
       "      <td>0.7987</td>\n",
       "      <td>0.8730</td>\n",
       "      <td>0.8963</td>\n",
       "      <td>0.9563</td>\n",
       "      <td>0.9518</td>\n",
       "      <td>0.9427</td>\n",
       "    </tr>\n",
       "  </tbody>\n",
       "</table>\n",
       "</div>"
      ],
      "text/plain": [
       "                          Name  DR Grade 0  DR Grade 1  DR Grade 2  \\\n",
       "RETFound-Green  RETFound-Green      0.9491      0.8644      0.8903   \n",
       "DinoV2                  DinoV2      0.9353      0.7987      0.8730   \n",
       "\n",
       "                DR Grade 3  DR Grade 4  No/Mild vs rest   AnyDR  \n",
       "RETFound-Green      0.9189      0.9773           0.9635  0.9617  \n",
       "DinoV2              0.8963      0.9563           0.9518  0.9427  "
      ]
     },
     "metadata": {},
     "output_type": "display_data"
    },
    {
     "data": {
      "image/png": "[encoded data removed]",
      "text/plain": [
       "<Figure size 450x400 with 2 Axes>"
      ]
     },
     "metadata": {},
     "output_type": "display_data"
    },
    {
     "name": "stdout",
     "output_type": "stream",
     "text": [
      "Statistically significant wins:  {'RETFound-Green': 7, 'DinoV2': 0}\n",
      "Ties for first place:  {'RETFound-Green': 0, 'DinoV2': 0}\n"
     ]
    }
   ],
   "source": [
    "run_brset_exp(name_X_list, models, colors, diab_only=False,\n",
    "              figsize=(4.5, 4), dashed_line_offsets=(-0.25, 1.1), xtick_loc_scaling=0.5, title_size='medium')"
   ]
  },
  {
   "cell_type": "code",
   "execution_count": 9,
   "id": "447a3184-5782-4228-b187-175c7d343d1e",
   "metadata": {},
   "outputs": [
    {
     "data": {
      "application/vnd.jupyter.widget-view+json": {
       "model_id": "efccebb6a5f14fd8900fd012bd1d23ba",
       "version_major": 2,
       "version_minor": 0
      },
      "text/plain": [
       "  0%|          | 0/2 [00:00<?, ?it/s]"
      ]
     },
     "metadata": {},
     "output_type": "display_data"
    },
    {
     "data": {
      "application/vnd.jupyter.widget-view+json": {
       "model_id": "a42aa068c81a436c8cf0f38c9d58b751",
       "version_major": 2,
       "version_minor": 0
      },
      "text/plain": [
       "  0%|          | 0/3 [00:00<?, ?it/s]"
      ]
     },
     "metadata": {},
     "output_type": "display_data"
    },
    {
     "name": "stdout",
     "output_type": "stream",
     "text": [
      "  RETFound-Green@224:DR Grade:0.8889\tNo/Mild vs rest:0.6757\tAnyDR:0.8110\n",
      "Total time: 0.4714s / mean time: 0.1571s\n"
     ]
    },
    {
     "data": {
      "application/vnd.jupyter.widget-view+json": {
       "model_id": "93f21d4dfbbd4285b8dd3a10d4918a5f",
       "version_major": 2,
       "version_minor": 0
      },
      "text/plain": [
       "  0%|          | 0/3 [00:00<?, ?it/s]"
      ]
     },
     "metadata": {},
     "output_type": "display_data"
    },
    {
     "name": "stdout",
     "output_type": "stream",
     "text": [
      "          DinoV2@224:DR Grade:0.8614\tNo/Mild vs rest:0.6799\tAnyDR:0.7596\n",
      "Total time: 1.6851s / mean time: 0.5617s\n"
     ]
    },
    {
     "data": {
      "text/html": [
       "<div>\n",
       "<style scoped>\n",
       "    .dataframe tbody tr th:only-of-type {\n",
       "        vertical-align: middle;\n",
       "    }\n",
       "\n",
       "    .dataframe tbody tr th {\n",
       "        vertical-align: top;\n",
       "    }\n",
       "\n",
       "    .dataframe thead th {\n",
       "        text-align: right;\n",
       "    }\n",
       "</style>\n",
       "<table border=\"1\" class=\"dataframe\">\n",
       "  <thead>\n",
       "    <tr style=\"text-align: right;\">\n",
       "      <th></th>\n",
       "      <th>Name</th>\n",
       "      <th>DR Grade 0</th>\n",
       "      <th>DR Grade 1</th>\n",
       "      <th>DR Grade 2</th>\n",
       "      <th>DR Grade 3</th>\n",
       "      <th>DR Grade 4</th>\n",
       "      <th>No/Mild vs rest</th>\n",
       "      <th>AnyDR</th>\n",
       "    </tr>\n",
       "  </thead>\n",
       "  <tbody>\n",
       "    <tr>\n",
       "      <th>RETFound-Green@224</th>\n",
       "      <td>RETFound-Green@224</td>\n",
       "      <td>0.8889</td>\n",
       "      <td>0.6757</td>\n",
       "      <td>0.8110</td>\n",
       "      <td>0.8072</td>\n",
       "      <td>0.9675</td>\n",
       "      <td>0.9161</td>\n",
       "      <td>0.8862</td>\n",
       "    </tr>\n",
       "    <tr>\n",
       "      <th>DinoV2@224</th>\n",
       "      <td>DinoV2@224</td>\n",
       "      <td>0.8614</td>\n",
       "      <td>0.6799</td>\n",
       "      <td>0.7596</td>\n",
       "      <td>0.7744</td>\n",
       "      <td>0.9511</td>\n",
       "      <td>0.8973</td>\n",
       "      <td>0.8646</td>\n",
       "    </tr>\n",
       "  </tbody>\n",
       "</table>\n",
       "</div>"
      ],
      "text/plain": [
       "                                  Name  DR Grade 0  DR Grade 1  DR Grade 2  \\\n",
       "RETFound-Green@224  RETFound-Green@224      0.8889      0.6757      0.8110   \n",
       "DinoV2@224                  DinoV2@224      0.8614      0.6799      0.7596   \n",
       "\n",
       "                    DR Grade 3  DR Grade 4  No/Mild vs rest   AnyDR  \n",
       "RETFound-Green@224      0.8072      0.9675           0.9161  0.8862  \n",
       "DinoV2@224              0.7744      0.9511           0.8973  0.8646  "
      ]
     },
     "metadata": {},
     "output_type": "display_data"
    },
    {
     "data": {
      "image/png": "[encoded data removed]",
      "text/plain": [
       "<Figure size 450x400 with 2 Axes>"
      ]
     },
     "metadata": {},
     "output_type": "display_data"
    },
    {
     "name": "stdout",
     "output_type": "stream",
     "text": [
      "Statistically significant wins:  {'RETFound-Green@224': 6, 'DinoV2@224': 0}\n",
      "Ties for first place:  {'RETFound-Green@224': 1, 'DinoV2@224': 1}\n"
     ]
    }
   ],
   "source": [
    "name_X_list = [\n",
    "    ('RETFound-Green@224', 'X_ours_brset_224.npy'),\n",
    "    ('DinoV2@224', 'X_original_dinov2_224_brset.npy'),\n",
    "]\n",
    "\n",
    "\n",
    "models = ['RETFound-Green@224', 'DinoV2@224']\n",
    "colors = ['#B8FF3D', '#6EA6D1']\n",
    "\n",
    "run_brset_exp(name_X_list, models, colors, diab_only=True,\n",
    "              figsize=(4.5, 4), dashed_line_offsets=(-0.25, 1.5), xtick_loc_scaling=0.5, title_size='medium')"
   ]
  },
  {
   "cell_type": "code",
   "execution_count": 10,
   "id": "e9b84772-78df-4e55-a20c-75460fc22196",
   "metadata": {},
   "outputs": [
    {
     "data": {
      "application/vnd.jupyter.widget-view+json": {
       "model_id": "a01d043f76864e2196c60890bc7e37d7",
       "version_major": 2,
       "version_minor": 0
      },
      "text/plain": [
       "  0%|          | 0/2 [00:00<?, ?it/s]"
      ]
     },
     "metadata": {},
     "output_type": "display_data"
    },
    {
     "data": {
      "application/vnd.jupyter.widget-view+json": {
       "model_id": "221826eb6c5b414a80676214c1ea20a6",
       "version_major": 2,
       "version_minor": 0
      },
      "text/plain": [
       "  0%|          | 0/3 [00:00<?, ?it/s]"
      ]
     },
     "metadata": {},
     "output_type": "display_data"
    },
    {
     "name": "stdout",
     "output_type": "stream",
     "text": [
      "  RETFound-Green@224:DR Grade:0.9227\tNo/Mild vs rest:0.7967\tAnyDR:0.8890\n",
      "Total time: 2.6891s / mean time: 0.8964s\n"
     ]
    },
    {
     "data": {
      "application/vnd.jupyter.widget-view+json": {
       "model_id": "fb1e0cc2c05a438aa02b22b25b3cdb3a",
       "version_major": 2,
       "version_minor": 0
      },
      "text/plain": [
       "  0%|          | 0/3 [00:00<?, ?it/s]"
      ]
     },
     "metadata": {},
     "output_type": "display_data"
    },
    {
     "name": "stdout",
     "output_type": "stream",
     "text": [
      "          DinoV2@224:DR Grade:0.9232\tNo/Mild vs rest:0.7569\tAnyDR:0.8833\n",
      "Total time: 3.7883s / mean time: 1.2628s\n"
     ]
    },
    {
     "data": {
      "text/html": [
       "<div>\n",
       "<style scoped>\n",
       "    .dataframe tbody tr th:only-of-type {\n",
       "        vertical-align: middle;\n",
       "    }\n",
       "\n",
       "    .dataframe tbody tr th {\n",
       "        vertical-align: top;\n",
       "    }\n",
       "\n",
       "    .dataframe thead th {\n",
       "        text-align: right;\n",
       "    }\n",
       "</style>\n",
       "<table border=\"1\" class=\"dataframe\">\n",
       "  <thead>\n",
       "    <tr style=\"text-align: right;\">\n",
       "      <th></th>\n",
       "      <th>Name</th>\n",
       "      <th>DR Grade 0</th>\n",
       "      <th>DR Grade 1</th>\n",
       "      <th>DR Grade 2</th>\n",
       "      <th>DR Grade 3</th>\n",
       "      <th>DR Grade 4</th>\n",
       "      <th>No/Mild vs rest</th>\n",
       "      <th>AnyDR</th>\n",
       "    </tr>\n",
       "  </thead>\n",
       "  <tbody>\n",
       "    <tr>\n",
       "      <th>RETFound-Green@224</th>\n",
       "      <td>RETFound-Green@224</td>\n",
       "      <td>0.9227</td>\n",
       "      <td>0.7967</td>\n",
       "      <td>0.8890</td>\n",
       "      <td>0.9023</td>\n",
       "      <td>0.9694</td>\n",
       "      <td>0.9499</td>\n",
       "      <td>0.9308</td>\n",
       "    </tr>\n",
       "    <tr>\n",
       "      <th>DinoV2@224</th>\n",
       "      <td>DinoV2@224</td>\n",
       "      <td>0.9232</td>\n",
       "      <td>0.7569</td>\n",
       "      <td>0.8833</td>\n",
       "      <td>0.9030</td>\n",
       "      <td>0.9746</td>\n",
       "      <td>0.9474</td>\n",
       "      <td>0.9263</td>\n",
       "    </tr>\n",
       "  </tbody>\n",
       "</table>\n",
       "</div>"
      ],
      "text/plain": [
       "                                  Name  DR Grade 0  DR Grade 1  DR Grade 2  \\\n",
       "RETFound-Green@224  RETFound-Green@224      0.9227      0.7967      0.8890   \n",
       "DinoV2@224                  DinoV2@224      0.9232      0.7569      0.8833   \n",
       "\n",
       "                    DR Grade 3  DR Grade 4  No/Mild vs rest   AnyDR  \n",
       "RETFound-Green@224      0.9023      0.9694           0.9499  0.9308  \n",
       "DinoV2@224              0.9030      0.9746           0.9474  0.9263  "
      ]
     },
     "metadata": {},
     "output_type": "display_data"
    },
    {
     "data": {
      "image/png": "[encoded data removed]",
      "text/plain": [
       "<Figure size 450x400 with 2 Axes>"
      ]
     },
     "metadata": {},
     "output_type": "display_data"
    },
    {
     "name": "stdout",
     "output_type": "stream",
     "text": [
      "Statistically significant wins:  {'RETFound-Green@224': 3, 'DinoV2@224': 2}\n",
      "Ties for first place:  {'RETFound-Green@224': 2, 'DinoV2@224': 2}\n"
     ]
    }
   ],
   "source": [
    "run_brset_exp(name_X_list, models, colors, diab_only=False,\n",
    "              figsize=(4.5, 4), dashed_line_offsets=(-0.25, 1.5), xtick_loc_scaling=0.5, title_size='medium')"
   ]
  }
 ],
 "metadata": {
  "kernelspec": {
   "display_name": "Python 3 (ipykernel)",
   "language": "python",
   "name": "python3"
  },
  "language_info": {
   "codemirror_mode": {
    "name": "ipython",
    "version": 3
   },
   "file_extension": ".py",
   "mimetype": "text/x-python",
   "name": "python",
   "nbconvert_exporter": "python",
   "pygments_lexer": "ipython3",
   "version": "3.10.13"
  }
 },
 "nbformat": 4,
 "nbformat_minor": 5
}
