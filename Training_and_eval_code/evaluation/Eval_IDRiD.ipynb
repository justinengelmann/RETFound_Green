{
 "cells": [
  {
   "cell_type": "code",
   "execution_count": 1,
   "id": "15e9f663-9d92-4c17-ae08-bd958084b722",
   "metadata": {},
   "outputs": [],
   "source": [
    "import pandas as pd\n",
    "import numpy as np\n",
    "\n",
    "from sklearn.linear_model import LogisticRegression\n",
    "from sklearn.pipeline import make_pipeline\n",
    "from sklearn.preprocessing import StandardScaler\n",
    "from sklearn.metrics import roc_auc_score\n",
    "\n",
    "import joblib\n",
    "\n",
    "# optional, for progress bars\n",
    "from tqdm.notebook import tqdm\n",
    "import time\n",
    "\n",
    "import matplotlib.pyplot as plt\n",
    "import seaborn as sns\n",
    "\n",
    "from scipy.stats import wilcoxon\n",
    "\n",
    "\n",
    "def get_bootstrap_aucs(y_true, y_pred, bootstrap_iters=100):\n",
    "    rng = np.random.RandomState(seed=42)\n",
    "    idxs = list(range(y_pred.shape[0]))\n",
    "\n",
    "    bootstrap_aucs = []\n",
    "    for _ in range(bootstrap_iters):\n",
    "        curr_idxs = rng.choice(idxs, size=len(idxs), replace=True)\n",
    "        bootstrap_aucs.append(roc_auc_score(y_true[curr_idxs], y_pred[curr_idxs],\n",
    "                                            multi_class='ovr', average='macro'))\n",
    "\n",
    "    return np.median(bootstrap_aucs), bootstrap_aucs\n",
    "\n",
    "\n",
    "def get_p_values(all_aucs):\n",
    "    all_aucs = np.vstack(all_aucs)\n",
    "    median_aucs = np.median(all_aucs, -1)\n",
    "    second_best_idx, best_idx = median_aucs.argsort()[-2:]\n",
    "    p_val = wilcoxon(all_aucs[best_idx], all_aucs[second_best_idx])[1]\n",
    "    return p_val, (best_idx, second_best_idx)\n",
    "\n",
    "\n",
    "def pval_to_str(p_val):\n",
    "    if p_val < 0.0001:\n",
    "        p_val = 'p<0.0001'\n",
    "        p_val = '***'\n",
    "    else:\n",
    "        p_val = f'p={p_val:.4f}'\n",
    "    return p_val\n",
    "\n",
    "\n",
    "def darken_hex(hex_color, factor=0.5):\n",
    "    # Ensure the factor is between 0 and 1\n",
    "    factor = max(0, min(factor, 1))\n",
    "\n",
    "    # Remove the hash symbol if present\n",
    "    hex_color = hex_color.lstrip('#')\n",
    "\n",
    "    # Convert hex to RGB\n",
    "    rgb = tuple(int(hex_color[i:i + 2], 16) for i in (0, 2, 4))\n",
    "\n",
    "    # Darken the RGB values by multiplying by the factor\n",
    "    darkened_rgb = tuple(int(c * factor) for c in rgb)\n",
    "\n",
    "    # Convert the RGB values back to hex\n",
    "    darkened_hex = '#{:02x}{:02x}{:02x}'.format(*darkened_rgb)\n",
    "\n",
    "    return darkened_hex\n",
    "\n",
    "\n",
    "dftrain = pd.read_csv('/mnt/e/IDRiD_B_DiseaseGrading/B. Disease Grading/2. Groundtruths/a. IDRiD_Disease Grading_Training Labels.csv')\n",
    "dftest = pd.read_csv('/mnt/e/IDRiD_B_DiseaseGrading/B. Disease Grading/2. Groundtruths/b. IDRiD_Disease Grading_Testing Labels.csv')\n",
    "name_X_list = [\n",
    "    ('RETFound-MEH', \n",
    "     '/home/justin/RETFound_MAE/IRID_Train_RETFound_Feature_latent.npy',\n",
    "     '/home/justin/RETFound_MAE/IRID_Test_RETFound_Feature_latent.npy'),\n",
    "    ('DERETFound', \n",
    "     '/home/justin/RETFound_MAE/IRID_Train_DERETFound_Feature_latent.npy',\n",
    "     '/home/justin/RETFound_MAE/IRID_Test_DERETFound_Feature_latent.npy'),\n",
    "    ('RETFound-Green', \n",
    "     'IRID_Train_X_ours.npy',\n",
    "     'IRID_Test_X_ours.npy'),\n",
    "]\n",
    "models = ['RETFound-MEH', 'DERETFound', 'RETFound-Green']\n",
    "colors = ['#ff595e', '#ffca3a', '#8ac926']\n"
   ]
  },
  {
   "cell_type": "code",
   "execution_count": 2,
   "id": "2fb03de7-827e-44b9-a713-da3310f040a9",
   "metadata": {},
   "outputs": [
    {
     "data": {
      "application/vnd.jupyter.widget-view+json": {
       "model_id": "817fbc1de7684c2e83027e42c96bd615",
       "version_major": 2,
       "version_minor": 0
      },
      "text/plain": [
       "  0%|          | 0/3 [00:00<?, ?it/s]"
      ]
     },
     "metadata": {},
     "output_type": "display_data"
    },
    {
     "data": {
      "application/vnd.jupyter.widget-view+json": {
       "model_id": "a2a72f9196464ebf9f5bdbcaf1e6df39",
       "version_major": 2,
       "version_minor": 0
      },
      "text/plain": [
       "  0%|          | 0/5 [00:00<?, ?it/s]"
      ]
     },
     "metadata": {},
     "output_type": "display_data"
    },
    {
     "name": "stdout",
     "output_type": "stream",
     "text": [
      "        RETFound-MEH:DR Grade:0.8622\tMac. Edema:0.5361\tNo/Mild vs rest:0.7631\tAnyDR:0.7982\tAnyDME:0.8313\n",
      "Total time: 0.6323s / mean time: 0.1265s\n"
     ]
    },
    {
     "data": {
      "application/vnd.jupyter.widget-view+json": {
       "model_id": "627dafe046db4bb3ad727b7f97377f65",
       "version_major": 2,
       "version_minor": 0
      },
      "text/plain": [
       "  0%|          | 0/5 [00:00<?, ?it/s]"
      ]
     },
     "metadata": {},
     "output_type": "display_data"
    },
    {
     "name": "stdout",
     "output_type": "stream",
     "text": [
      "          DERETFound:DR Grade:0.8661\tMac. Edema:0.5709\tNo/Mild vs rest:0.6566\tAnyDR:0.8168\tAnyDME:0.9047\n",
      "Total time: 0.4808s / mean time: 0.0962s\n"
     ]
    },
    {
     "data": {
      "application/vnd.jupyter.widget-view+json": {
       "model_id": "7a57b8dce6ec48d7b777f3d458cc5128",
       "version_major": 2,
       "version_minor": 0
      },
      "text/plain": [
       "  0%|          | 0/5 [00:00<?, ?it/s]"
      ]
     },
     "metadata": {},
     "output_type": "display_data"
    },
    {
     "name": "stdout",
     "output_type": "stream",
     "text": [
      "      RETFound-Green:DR Grade:0.8900\tMac. Edema:0.5609\tNo/Mild vs rest:0.7671\tAnyDR:0.8197\tAnyDME:0.8833\n",
      "Total time: 0.1521s / mean time: 0.0304s\n"
     ]
    },
    {
     "data": {
      "text/html": [
       "<div>\n",
       "<style scoped>\n",
       "    .dataframe tbody tr th:only-of-type {\n",
       "        vertical-align: middle;\n",
       "    }\n",
       "\n",
       "    .dataframe tbody tr th {\n",
       "        vertical-align: top;\n",
       "    }\n",
       "\n",
       "    .dataframe thead th {\n",
       "        text-align: right;\n",
       "    }\n",
       "</style>\n",
       "<table border=\"1\" class=\"dataframe\">\n",
       "  <thead>\n",
       "    <tr style=\"text-align: right;\">\n",
       "      <th></th>\n",
       "      <th>Name</th>\n",
       "      <th>DR Grade 0</th>\n",
       "      <th>DR Grade 1</th>\n",
       "      <th>DR Grade 2</th>\n",
       "      <th>DR Grade 3</th>\n",
       "      <th>DR Grade 4</th>\n",
       "      <th>Mac. Edema Grade 0</th>\n",
       "      <th>Mac. Edema Grade 1</th>\n",
       "      <th>Mac. Edema Grade 2</th>\n",
       "      <th>No/Mild vs rest</th>\n",
       "      <th>AnyDR</th>\n",
       "      <th>AnyDME</th>\n",
       "    </tr>\n",
       "  </thead>\n",
       "  <tbody>\n",
       "    <tr>\n",
       "      <th>RETFound-MEH</th>\n",
       "      <td>RETFound-MEH</td>\n",
       "      <td>0.8622</td>\n",
       "      <td>0.5361</td>\n",
       "      <td>0.7631</td>\n",
       "      <td>0.7982</td>\n",
       "      <td>0.8313</td>\n",
       "      <td>0.8834</td>\n",
       "      <td>0.7117</td>\n",
       "      <td>0.8888</td>\n",
       "      <td>0.9240</td>\n",
       "      <td>0.8687</td>\n",
       "      <td>0.8922</td>\n",
       "    </tr>\n",
       "    <tr>\n",
       "      <th>DERETFound</th>\n",
       "      <td>DERETFound</td>\n",
       "      <td>0.8661</td>\n",
       "      <td>0.5709</td>\n",
       "      <td>0.6566</td>\n",
       "      <td>0.8168</td>\n",
       "      <td>0.9047</td>\n",
       "      <td>0.8781</td>\n",
       "      <td>0.7583</td>\n",
       "      <td>0.8706</td>\n",
       "      <td>0.9046</td>\n",
       "      <td>0.8721</td>\n",
       "      <td>0.8737</td>\n",
       "    </tr>\n",
       "    <tr>\n",
       "      <th>RETFound-Green</th>\n",
       "      <td>RETFound-Green</td>\n",
       "      <td>0.8900</td>\n",
       "      <td>0.5609</td>\n",
       "      <td>0.7671</td>\n",
       "      <td>0.8197</td>\n",
       "      <td>0.8833</td>\n",
       "      <td>0.9131</td>\n",
       "      <td>0.7278</td>\n",
       "      <td>0.8772</td>\n",
       "      <td>0.9160</td>\n",
       "      <td>0.9017</td>\n",
       "      <td>0.9168</td>\n",
       "    </tr>\n",
       "  </tbody>\n",
       "</table>\n",
       "</div>"
      ],
      "text/plain": [
       "                          Name  DR Grade 0  DR Grade 1  DR Grade 2  \\\n",
       "RETFound-MEH      RETFound-MEH      0.8622      0.5361      0.7631   \n",
       "DERETFound          DERETFound      0.8661      0.5709      0.6566   \n",
       "RETFound-Green  RETFound-Green      0.8900      0.5609      0.7671   \n",
       "\n",
       "                DR Grade 3  DR Grade 4  Mac. Edema Grade 0  \\\n",
       "RETFound-MEH        0.7982      0.8313              0.8834   \n",
       "DERETFound          0.8168      0.9047              0.8781   \n",
       "RETFound-Green      0.8197      0.8833              0.9131   \n",
       "\n",
       "                Mac. Edema Grade 1  Mac. Edema Grade 2  No/Mild vs rest  \\\n",
       "RETFound-MEH                0.7117              0.8888           0.9240   \n",
       "DERETFound                  0.7583              0.8706           0.9046   \n",
       "RETFound-Green              0.7278              0.8772           0.9160   \n",
       "\n",
       "                 AnyDR  AnyDME  \n",
       "RETFound-MEH    0.8687  0.8922  \n",
       "DERETFound      0.8721  0.8737  \n",
       "RETFound-Green  0.9017  0.9168  "
      ]
     },
     "metadata": {},
     "output_type": "display_data"
    },
    {
     "data": {
      "image/png": "[encoded data removed]",
      "text/plain": [
       "<Figure size 1200x400 with 3 Axes>"
      ]
     },
     "metadata": {},
     "output_type": "display_data"
    },
    {
     "name": "stdout",
     "output_type": "stream",
     "text": [
      "Statistically significant wins:  {'RETFound-MEH': 1, 'DERETFound': 2, 'RETFound-Green': 4}\n",
      "Ties for first place:  {'RETFound-MEH': 2, 'DERETFound': 2, 'RETFound-Green': 4}\n"
     ]
    }
   ],
   "source": [
    "def run_idrid_exp(name_X_list, models, colors,\n",
    "                  figsize=(12, 4), dashed_line_offsets=(-2.75, 0.25), xtick_loc_scaling=1, title_size='large'):\n",
    "    targets = ['DR Grade', 'Mac. Edema', 'No/Mild vs rest', 'AnyDR', 'AnyDME']\n",
    "\n",
    "    results_df = pd.DataFrame(\n",
    "        columns=['Name'] + [f'DR Grade {_}' for _ in range(5)] \n",
    "                + [f'Mac. Edema Grade {_}' for _ in range(3)] \n",
    "                + ['No/Mild vs rest', 'AnyDR', 'AnyDME'])\n",
    "    name_bootstrap_aucs_dict = {}\n",
    "    name_times_dict = {}\n",
    "    for name, X_train_fname, X_test_fname in tqdm(name_X_list):\n",
    "        np.random.seed(42)\n",
    "\n",
    "        name_times_dict[name] = []\n",
    "        median_aucs = []\n",
    "\n",
    "        X_train = np.load(X_train_fname)\n",
    "        X_test = np.load(X_test_fname)\n",
    "\n",
    "        perf_str = f'{name:>20}:'\n",
    "        for target_col in tqdm(targets, leave=True):\n",
    "\n",
    "            if target_col.startswith('DR Grade'):\n",
    "                y_train = dftrain['Retinopathy grade']\n",
    "                y_test = dftest['Retinopathy grade']\n",
    "\n",
    "                start = time.time()\n",
    "                clf = make_pipeline(StandardScaler(), LogisticRegression(max_iter=20_000, random_state=42))\n",
    "                clf.fit(X_train, y_train)\n",
    "                preds = clf.predict_proba(X_test)\n",
    "                stop = time.time()\n",
    "                delta = stop - start\n",
    "                name_times_dict[name].append(delta)\n",
    "\n",
    "                for grade in range(5):\n",
    "                    curr_median_auc, curr_bootstrap_aucs = get_bootstrap_aucs(y_test == grade, preds[:, grade])\n",
    "                    name_bootstrap_aucs_dict[f'{name}-DR Grade {grade}'] = curr_bootstrap_aucs\n",
    "                    median_aucs.append(curr_median_auc)\n",
    "\n",
    "\n",
    "            elif target_col.startswith('Mac. Edema'):\n",
    "                y_train = dftrain['Risk of macular edema ']\n",
    "                y_test = dftest['Risk of macular edema ']\n",
    "\n",
    "                start = time.time()\n",
    "                clf = make_pipeline(StandardScaler(), LogisticRegression(max_iter=20_000, random_state=42))\n",
    "                clf.fit(X_train, y_train)\n",
    "                preds = clf.predict_proba(X_test)\n",
    "                stop = time.time()\n",
    "                delta = stop - start\n",
    "                name_times_dict[name].append(delta)\n",
    "\n",
    "                for grade in range(3):\n",
    "                    curr_median_auc, curr_bootstrap_aucs = get_bootstrap_aucs(y_test == grade, preds[:, grade])\n",
    "                    name_bootstrap_aucs_dict[f'{name}-Mac. Edema Grade {grade}'] = curr_bootstrap_aucs\n",
    "                    median_aucs.append(curr_median_auc)\n",
    "\n",
    "            elif target_col.startswith('No/Mild vs rest'):\n",
    "                y_train = dftrain['Retinopathy grade'].apply(lambda x: x > 1).values\n",
    "                y_test = dftest['Retinopathy grade'].apply(lambda x: x > 1).values\n",
    "\n",
    "                start = time.time()\n",
    "                clf = make_pipeline(StandardScaler(), LogisticRegression(max_iter=20_000, random_state=42))\n",
    "                clf.fit(X_train, y_train)\n",
    "                preds = clf.predict_proba(X_test)[:, 1]\n",
    "                stop = time.time()\n",
    "                delta = stop - start\n",
    "                name_times_dict[name].append(delta)\n",
    "\n",
    "                curr_median_auc, curr_bootstrap_aucs = get_bootstrap_aucs(y_test, preds)\n",
    "                name_bootstrap_aucs_dict[f'{name}-{target_col}'] = curr_bootstrap_aucs\n",
    "                median_aucs.append(curr_median_auc)\n",
    "                \n",
    "            elif target_col.startswith('AnyDR'):\n",
    "                y_train = dftrain['Retinopathy grade'].apply(lambda x: x > 0).values\n",
    "                y_test = dftest['Retinopathy grade'].apply(lambda x: x > 0).values\n",
    "\n",
    "                start = time.time()\n",
    "                clf = make_pipeline(StandardScaler(), LogisticRegression(max_iter=20_000, random_state=42))\n",
    "                clf.fit(X_train, y_train)\n",
    "                preds = clf.predict_proba(X_test)[:, 1]\n",
    "                stop = time.time()\n",
    "                delta = stop - start\n",
    "                name_times_dict[name].append(delta)\n",
    "\n",
    "                curr_median_auc, curr_bootstrap_aucs = get_bootstrap_aucs(y_test, preds)\n",
    "                name_bootstrap_aucs_dict[f'{name}-{target_col}'] = curr_bootstrap_aucs\n",
    "                median_aucs.append(curr_median_auc)\n",
    "\n",
    "            elif target_col.startswith('AnyDME'):\n",
    "                y_train = dftrain['Risk of macular edema '].apply(lambda x: x > 0).values\n",
    "                y_test = dftest['Risk of macular edema '].apply(lambda x: x > 0).values\n",
    "\n",
    "                start = time.time()\n",
    "                clf = make_pipeline(StandardScaler(), LogisticRegression(max_iter=20_000, random_state=42))\n",
    "                clf.fit(X_train, y_train)\n",
    "                preds = clf.predict_proba(X_test)[:, 1]\n",
    "                stop = time.time()\n",
    "                delta = stop - start\n",
    "                name_times_dict[name].append(delta)\n",
    "\n",
    "                curr_median_auc, curr_bootstrap_aucs = get_bootstrap_aucs(y_test, preds)\n",
    "                name_bootstrap_aucs_dict[f'{name}-{target_col}'] = curr_bootstrap_aucs\n",
    "                median_aucs.append(curr_median_auc)\n",
    "\n",
    "            else:\n",
    "                raise ValueError\n",
    "\n",
    "        perf_str += '\\t'.join([f'{c}:{v:.4f}' for c, v in zip(targets, median_aucs)])\n",
    "        print(perf_str)\n",
    "        print(f'Total time: {sum(name_times_dict[name]):.4f}s / mean time: {np.mean(name_times_dict[name]):.4f}s')\n",
    "\n",
    "        results_df.loc[name] = [name] + median_aucs\n",
    "\n",
    "    display(results_df.round(4))\n",
    "\n",
    "    fig, axes = plt.subplots(1, 3, figsize=figsize, gridspec_kw={'width_ratios': [3, 5, 3]})\n",
    "    axes = axes.flat\n",
    "\n",
    "    width = 0.25\n",
    "\n",
    "    target_groups = {\n",
    "        'Primary classifications': ['No/Mild vs rest', 'AnyDR', 'AnyDME'],\n",
    "        'Diabetic Retinopathy Grading': [f'DR Grade {_}' for _ in range(5)],\n",
    "        'Macular Edema': [f'Mac. Edema Grade {_}' for _ in range(3)]\n",
    "    }\n",
    "\n",
    "    wins = {_: 0 for _ in models}\n",
    "    ties = {_: 0 for _ in models}\n",
    "\n",
    "    for target_group, ax in zip(target_groups, axes):\n",
    "        targets = target_groups[target_group]\n",
    "        x = np.arange(len(targets))\n",
    "\n",
    "        for i, model in enumerate(models):\n",
    "            values = [results_df.loc[model, target] for target in targets]\n",
    "            locs = x + i * width\n",
    "            ax.bar(locs, values, width, label=model, color=colors[i], edgecolor=darken_hex(colors[i]))\n",
    "            if model == 'RETFound-Green':\n",
    "                for _idx in range(len(values)):\n",
    "                    _left = locs[_idx] + dashed_line_offsets[0] * width\n",
    "                    _right = locs[_idx] + dashed_line_offsets[1] * width\n",
    "                    _val = values[_idx]\n",
    "                    ax.plot([_left, _right], [_val, _val], c=colors[i], linewidth=1.5, alpha=0.8, linestyle=':')\n",
    "\n",
    "        # plot stat significance\n",
    "        for t_idx, target in enumerate(targets):\n",
    "            target_str = target.replace(\" vs Rest\", \"\")\n",
    "            aucs = [name_bootstrap_aucs_dict[f'{name}-{target}'] for name in models]\n",
    "            p_val, (best_idx, second_best_idx) = get_p_values(aucs)\n",
    "            best_val = np.median(np.vstack(aucs), axis=-1).max()\n",
    "\n",
    "            if p_val < 0.05:\n",
    "                wins[models[best_idx]] += 1\n",
    "            else:\n",
    "                ties[models[best_idx]] += 1\n",
    "                ties[models[second_best_idx]] += 1\n",
    "\n",
    "            start_loc = t_idx + best_idx * width\n",
    "            end_loc = t_idx + second_best_idx * width\n",
    "\n",
    "            ax.plot([start_loc, start_loc, end_loc, end_loc],\n",
    "                    [best_val + 0.001, best_val + 0.012, best_val + 0.012, best_val + 0.001],\n",
    "                    c='black', lw=0.8)\n",
    "            text_loc_height_offset = 0.015 if not p_val < 0.0001 else 0.01\n",
    "            ax.text((start_loc + end_loc) / 2, best_val + text_loc_height_offset, pval_to_str(p_val), ha='center',\n",
    "                    fontsize='x-small',\n",
    "                    weight=None if not p_val < 0.05 else 'bold')\n",
    "\n",
    "            ax.set_xticks(x + width * xtick_loc_scaling)\n",
    "            targets_display = [_.replace('_', ' ').title() for _ in targets]\n",
    "            targets_display = [_.replace('Dr', \" \").replace('Mac. Edema ', '')\n",
    "                               for _ in targets_display]\n",
    "            targets_display = [_.replace('Anydr', \"Any DR\").replace('Anydme', \"Any Mac. Edema\").replace('Vs Rest', 'DR')\n",
    "                               for _ in targets_display]\n",
    "            if title_size=='medium':\n",
    "                targets_display = [_.replace('Mac. Edema', \"ME\")\n",
    "                                   for _ in targets_display]\n",
    "            ax.set_xticklabels(targets_display, rotation=0, ha='center', fontsize='medium' if title_size=='large' else 10)\n",
    "            ax.set_ylim(0.5, 1.03)\n",
    "            ax.set_title(target_group, fontsize=title_size)\n",
    "\n",
    "    axes[0].set_ylabel('AUC on test set')\n",
    "    axes[1].set_yticklabels([])\n",
    "    axes[2].set_yticklabels([])\n",
    "    plt.tight_layout()\n",
    "    plt.show()\n",
    "\n",
    "    print('Statistically significant wins: ', wins)\n",
    "    print('Ties for first place: ', ties)\n",
    "\n",
    "\n",
    "run_idrid_exp(name_X_list, models, colors)\n"
   ]
  },
  {
   "cell_type": "code",
   "execution_count": 3,
   "id": "8c64b2c9-927c-4cba-81f7-7d79b2e06438",
   "metadata": {},
   "outputs": [
    {
     "data": {
      "application/vnd.jupyter.widget-view+json": {
       "model_id": "3dd26475979e493890883d6183296039",
       "version_major": 2,
       "version_minor": 0
      },
      "text/plain": [
       "  0%|          | 0/2 [00:00<?, ?it/s]"
      ]
     },
     "metadata": {},
     "output_type": "display_data"
    },
    {
     "data": {
      "application/vnd.jupyter.widget-view+json": {
       "model_id": "1eb61df35b4944329c0ac05134eaa140",
       "version_major": 2,
       "version_minor": 0
      },
      "text/plain": [
       "  0%|          | 0/5 [00:00<?, ?it/s]"
      ]
     },
     "metadata": {},
     "output_type": "display_data"
    },
    {
     "name": "stdout",
     "output_type": "stream",
     "text": [
      "      RETFound-Green:DR Grade:0.8900\tMac. Edema:0.5609\tNo/Mild vs rest:0.7671\tAnyDR:0.8197\tAnyDME:0.8833\n",
      "Total time: 0.1387s / mean time: 0.0277s\n"
     ]
    },
    {
     "data": {
      "application/vnd.jupyter.widget-view+json": {
       "model_id": "22a3f294f43b4656a0971eb9de02e57e",
       "version_major": 2,
       "version_minor": 0
      },
      "text/plain": [
       "  0%|          | 0/5 [00:00<?, ?it/s]"
      ]
     },
     "metadata": {},
     "output_type": "display_data"
    },
    {
     "name": "stdout",
     "output_type": "stream",
     "text": [
      "              DinoV2:DR Grade:0.8687\tMac. Edema:0.6274\tNo/Mild vs rest:0.7404\tAnyDR:0.8132\tAnyDME:0.8396\n",
      "Total time: 0.1970s / mean time: 0.0394s\n"
     ]
    },
    {
     "data": {
      "text/html": [
       "<div>\n",
       "<style scoped>\n",
       "    .dataframe tbody tr th:only-of-type {\n",
       "        vertical-align: middle;\n",
       "    }\n",
       "\n",
       "    .dataframe tbody tr th {\n",
       "        vertical-align: top;\n",
       "    }\n",
       "\n",
       "    .dataframe thead th {\n",
       "        text-align: right;\n",
       "    }\n",
       "</style>\n",
       "<table border=\"1\" class=\"dataframe\">\n",
       "  <thead>\n",
       "    <tr style=\"text-align: right;\">\n",
       "      <th></th>\n",
       "      <th>Name</th>\n",
       "      <th>DR Grade 0</th>\n",
       "      <th>DR Grade 1</th>\n",
       "      <th>DR Grade 2</th>\n",
       "      <th>DR Grade 3</th>\n",
       "      <th>DR Grade 4</th>\n",
       "      <th>Mac. Edema Grade 0</th>\n",
       "      <th>Mac. Edema Grade 1</th>\n",
       "      <th>Mac. Edema Grade 2</th>\n",
       "      <th>No/Mild vs rest</th>\n",
       "      <th>AnyDR</th>\n",
       "      <th>AnyDME</th>\n",
       "    </tr>\n",
       "  </thead>\n",
       "  <tbody>\n",
       "    <tr>\n",
       "      <th>RETFound-Green</th>\n",
       "      <td>RETFound-Green</td>\n",
       "      <td>0.8900</td>\n",
       "      <td>0.5609</td>\n",
       "      <td>0.7671</td>\n",
       "      <td>0.8197</td>\n",
       "      <td>0.8833</td>\n",
       "      <td>0.9131</td>\n",
       "      <td>0.7278</td>\n",
       "      <td>0.8772</td>\n",
       "      <td>0.9160</td>\n",
       "      <td>0.9017</td>\n",
       "      <td>0.9168</td>\n",
       "    </tr>\n",
       "    <tr>\n",
       "      <th>DinoV2</th>\n",
       "      <td>DinoV2</td>\n",
       "      <td>0.8687</td>\n",
       "      <td>0.6274</td>\n",
       "      <td>0.7404</td>\n",
       "      <td>0.8132</td>\n",
       "      <td>0.8396</td>\n",
       "      <td>0.9150</td>\n",
       "      <td>0.7128</td>\n",
       "      <td>0.9022</td>\n",
       "      <td>0.9101</td>\n",
       "      <td>0.8721</td>\n",
       "      <td>0.9209</td>\n",
       "    </tr>\n",
       "  </tbody>\n",
       "</table>\n",
       "</div>"
      ],
      "text/plain": [
       "                          Name  DR Grade 0  DR Grade 1  DR Grade 2  \\\n",
       "RETFound-Green  RETFound-Green      0.8900      0.5609      0.7671   \n",
       "DinoV2                  DinoV2      0.8687      0.6274      0.7404   \n",
       "\n",
       "                DR Grade 3  DR Grade 4  Mac. Edema Grade 0  \\\n",
       "RETFound-Green      0.8197      0.8833              0.9131   \n",
       "DinoV2              0.8132      0.8396              0.9150   \n",
       "\n",
       "                Mac. Edema Grade 1  Mac. Edema Grade 2  No/Mild vs rest  \\\n",
       "RETFound-Green              0.7278              0.8772           0.9160   \n",
       "DinoV2                      0.7128              0.9022           0.9101   \n",
       "\n",
       "                 AnyDR  AnyDME  \n",
       "RETFound-Green  0.9017  0.9168  \n",
       "DinoV2          0.8721  0.9209  "
      ]
     },
     "metadata": {},
     "output_type": "display_data"
    },
    {
     "data": {
      "image/png": "[encoded data removed]",
      "text/plain": [
       "<Figure size 850x400 with 3 Axes>"
      ]
     },
     "metadata": {},
     "output_type": "display_data"
    },
    {
     "name": "stdout",
     "output_type": "stream",
     "text": [
      "Statistically significant wins:  {'RETFound-Green': 6, 'DinoV2': 3}\n",
      "Ties for first place:  {'RETFound-Green': 2, 'DinoV2': 2}\n"
     ]
    }
   ],
   "source": [
    "name_X_list = [\n",
    "    ('RETFound-Green', \n",
    "     'IRID_Train_X_ours.npy',\n",
    "     'IRID_Test_X_ours.npy'),\n",
    "    ('DinoV2', \n",
    "     'IRID_Train_X_dino392.npy',\n",
    "     'IRID_Test_X_dino392.npy'),\n",
    "]\n",
    "\n",
    "models = ['RETFound-Green', 'DinoV2']\n",
    "colors = ['#8ac926', '#4d759a']\n",
    "\n",
    "run_idrid_exp(name_X_list, models, colors,\n",
    "              figsize=(8.5, 4), dashed_line_offsets=(-0.25, 1.5), xtick_loc_scaling=0.5, title_size='medium')"
   ]
  },
  {
   "cell_type": "code",
   "execution_count": 4,
   "id": "0e8b9645-657a-4dfa-9572-7954aa7c9262",
   "metadata": {},
   "outputs": [
    {
     "data": {
      "application/vnd.jupyter.widget-view+json": {
       "model_id": "3bf2208e67464feba7b0956e1b6cbca7",
       "version_major": 2,
       "version_minor": 0
      },
      "text/plain": [
       "  0%|          | 0/3 [00:00<?, ?it/s]"
      ]
     },
     "metadata": {},
     "output_type": "display_data"
    },
    {
     "data": {
      "application/vnd.jupyter.widget-view+json": {
       "model_id": "09b65870710e4e1ebe0c0a931eebe20b",
       "version_major": 2,
       "version_minor": 0
      },
      "text/plain": [
       "  0%|          | 0/5 [00:00<?, ?it/s]"
      ]
     },
     "metadata": {},
     "output_type": "display_data"
    },
    {
     "name": "stdout",
     "output_type": "stream",
     "text": [
      "        RETFound-MEH:DR Grade:0.8622\tMac. Edema:0.5361\tNo/Mild vs rest:0.7631\tAnyDR:0.7982\tAnyDME:0.8313\n",
      "Total time: 0.3792s / mean time: 0.0758s\n"
     ]
    },
    {
     "data": {
      "application/vnd.jupyter.widget-view+json": {
       "model_id": "c84c76a754174946a7c0bad2e3e88175",
       "version_major": 2,
       "version_minor": 0
      },
      "text/plain": [
       "  0%|          | 0/5 [00:00<?, ?it/s]"
      ]
     },
     "metadata": {},
     "output_type": "display_data"
    },
    {
     "name": "stdout",
     "output_type": "stream",
     "text": [
      "          DERETFound:DR Grade:0.8661\tMac. Edema:0.5709\tNo/Mild vs rest:0.6566\tAnyDR:0.8168\tAnyDME:0.9047\n",
      "Total time: 0.3810s / mean time: 0.0762s\n"
     ]
    },
    {
     "data": {
      "application/vnd.jupyter.widget-view+json": {
       "model_id": "28927d3f861343fdabc1951b1cc30468",
       "version_major": 2,
       "version_minor": 0
      },
      "text/plain": [
       "  0%|          | 0/5 [00:00<?, ?it/s]"
      ]
     },
     "metadata": {},
     "output_type": "display_data"
    },
    {
     "name": "stdout",
     "output_type": "stream",
     "text": [
      "  RETFound-Green@224:DR Grade:0.8696\tMac. Edema:0.7500\tNo/Mild vs rest:0.6392\tAnyDR:0.7770\tAnyDME:0.7857\n",
      "Total time: 0.4451s / mean time: 0.0890s\n"
     ]
    },
    {
     "data": {
      "text/html": [
       "<div>\n",
       "<style scoped>\n",
       "    .dataframe tbody tr th:only-of-type {\n",
       "        vertical-align: middle;\n",
       "    }\n",
       "\n",
       "    .dataframe tbody tr th {\n",
       "        vertical-align: top;\n",
       "    }\n",
       "\n",
       "    .dataframe thead th {\n",
       "        text-align: right;\n",
       "    }\n",
       "</style>\n",
       "<table border=\"1\" class=\"dataframe\">\n",
       "  <thead>\n",
       "    <tr style=\"text-align: right;\">\n",
       "      <th></th>\n",
       "      <th>Name</th>\n",
       "      <th>DR Grade 0</th>\n",
       "      <th>DR Grade 1</th>\n",
       "      <th>DR Grade 2</th>\n",
       "      <th>DR Grade 3</th>\n",
       "      <th>DR Grade 4</th>\n",
       "      <th>Mac. Edema Grade 0</th>\n",
       "      <th>Mac. Edema Grade 1</th>\n",
       "      <th>Mac. Edema Grade 2</th>\n",
       "      <th>No/Mild vs rest</th>\n",
       "      <th>AnyDR</th>\n",
       "      <th>AnyDME</th>\n",
       "    </tr>\n",
       "  </thead>\n",
       "  <tbody>\n",
       "    <tr>\n",
       "      <th>RETFound-MEH</th>\n",
       "      <td>RETFound-MEH</td>\n",
       "      <td>0.8622</td>\n",
       "      <td>0.5361</td>\n",
       "      <td>0.7631</td>\n",
       "      <td>0.7982</td>\n",
       "      <td>0.8313</td>\n",
       "      <td>0.8834</td>\n",
       "      <td>0.7117</td>\n",
       "      <td>0.8888</td>\n",
       "      <td>0.9240</td>\n",
       "      <td>0.8687</td>\n",
       "      <td>0.8922</td>\n",
       "    </tr>\n",
       "    <tr>\n",
       "      <th>DERETFound</th>\n",
       "      <td>DERETFound</td>\n",
       "      <td>0.8661</td>\n",
       "      <td>0.5709</td>\n",
       "      <td>0.6566</td>\n",
       "      <td>0.8168</td>\n",
       "      <td>0.9047</td>\n",
       "      <td>0.8781</td>\n",
       "      <td>0.7583</td>\n",
       "      <td>0.8706</td>\n",
       "      <td>0.9046</td>\n",
       "      <td>0.8721</td>\n",
       "      <td>0.8737</td>\n",
       "    </tr>\n",
       "    <tr>\n",
       "      <th>RETFound-Green@224</th>\n",
       "      <td>RETFound-Green@224</td>\n",
       "      <td>0.8696</td>\n",
       "      <td>0.7500</td>\n",
       "      <td>0.6392</td>\n",
       "      <td>0.7770</td>\n",
       "      <td>0.7857</td>\n",
       "      <td>0.9044</td>\n",
       "      <td>0.7032</td>\n",
       "      <td>0.8687</td>\n",
       "      <td>0.9245</td>\n",
       "      <td>0.8708</td>\n",
       "      <td>0.8879</td>\n",
       "    </tr>\n",
       "  </tbody>\n",
       "</table>\n",
       "</div>"
      ],
      "text/plain": [
       "                                  Name  DR Grade 0  DR Grade 1  DR Grade 2  \\\n",
       "RETFound-MEH              RETFound-MEH      0.8622      0.5361      0.7631   \n",
       "DERETFound                  DERETFound      0.8661      0.5709      0.6566   \n",
       "RETFound-Green@224  RETFound-Green@224      0.8696      0.7500      0.6392   \n",
       "\n",
       "                    DR Grade 3  DR Grade 4  Mac. Edema Grade 0  \\\n",
       "RETFound-MEH            0.7982      0.8313              0.8834   \n",
       "DERETFound              0.8168      0.9047              0.8781   \n",
       "RETFound-Green@224      0.7770      0.7857              0.9044   \n",
       "\n",
       "                    Mac. Edema Grade 1  Mac. Edema Grade 2  No/Mild vs rest  \\\n",
       "RETFound-MEH                    0.7117              0.8888           0.9240   \n",
       "DERETFound                      0.7583              0.8706           0.9046   \n",
       "RETFound-Green@224              0.7032              0.8687           0.9245   \n",
       "\n",
       "                     AnyDR  AnyDME  \n",
       "RETFound-MEH        0.8687  0.8922  \n",
       "DERETFound          0.8721  0.8737  \n",
       "RETFound-Green@224  0.8708  0.8879  "
      ]
     },
     "metadata": {},
     "output_type": "display_data"
    },
    {
     "data": {
      "image/png": "[encoded data removed]",
      "text/plain": [
       "<Figure size 1200x400 with 3 Axes>"
      ]
     },
     "metadata": {},
     "output_type": "display_data"
    },
    {
     "name": "stdout",
     "output_type": "stream",
     "text": [
      "Statistically significant wins:  {'RETFound-MEH': 2, 'DERETFound': 3, 'RETFound-Green@224': 2}\n",
      "Ties for first place:  {'RETFound-MEH': 2, 'DERETFound': 2, 'RETFound-Green@224': 4}\n"
     ]
    }
   ],
   "source": [
    "name_X_list = [\n",
    "    ('RETFound-MEH', \n",
    "     '/home/justin/RETFound_MAE/IRID_Train_RETFound_Feature_latent.npy',\n",
    "     '/home/justin/RETFound_MAE/IRID_Test_RETFound_Feature_latent.npy'),\n",
    "    ('DERETFound', \n",
    "     '/home/justin/RETFound_MAE/IRID_Train_DERETFound_Feature_latent.npy',\n",
    "     '/home/justin/RETFound_MAE/IRID_Test_DERETFound_Feature_latent.npy'),\n",
    "    ('RETFound-Green@224', \n",
    "     'IRID_Train_X_ours224.npy',\n",
    "     'IRID_Test_X_ours224.npy'),\n",
    "]\n",
    "models = ['RETFound-MEH', 'DERETFound', 'RETFound-Green@224']\n",
    "colors = ['#ff595e', '#ffca3a', '#B8FF3D']\n",
    "\n",
    "run_idrid_exp(name_X_list, models, colors)"
   ]
  },
  {
   "cell_type": "code",
   "execution_count": 5,
   "id": "f5f37b81-c423-4a43-93bc-cf8fd51dbe13",
   "metadata": {},
   "outputs": [
    {
     "data": {
      "application/vnd.jupyter.widget-view+json": {
       "model_id": "98268116deef45f39adaf87ba7a848d7",
       "version_major": 2,
       "version_minor": 0
      },
      "text/plain": [
       "  0%|          | 0/2 [00:00<?, ?it/s]"
      ]
     },
     "metadata": {},
     "output_type": "display_data"
    },
    {
     "data": {
      "application/vnd.jupyter.widget-view+json": {
       "model_id": "01cb5bdd016c44a09936915aa45cfa28",
       "version_major": 2,
       "version_minor": 0
      },
      "text/plain": [
       "  0%|          | 0/5 [00:00<?, ?it/s]"
      ]
     },
     "metadata": {},
     "output_type": "display_data"
    },
    {
     "name": "stdout",
     "output_type": "stream",
     "text": [
      "  RETFound-Green@224:DR Grade:0.8696\tMac. Edema:0.7500\tNo/Mild vs rest:0.6392\tAnyDR:0.7770\tAnyDME:0.7857\n",
      "Total time: 0.2110s / mean time: 0.0422s\n"
     ]
    },
    {
     "data": {
      "application/vnd.jupyter.widget-view+json": {
       "model_id": "5c0e6fa9d68b40278dac8dd85c031e06",
       "version_major": 2,
       "version_minor": 0
      },
      "text/plain": [
       "  0%|          | 0/5 [00:00<?, ?it/s]"
      ]
     },
     "metadata": {},
     "output_type": "display_data"
    },
    {
     "name": "stdout",
     "output_type": "stream",
     "text": [
      "          DinoV2@224:DR Grade:0.8277\tMac. Edema:0.7104\tNo/Mild vs rest:0.5799\tAnyDR:0.7663\tAnyDME:0.8907\n",
      "Total time: 0.1920s / mean time: 0.0384s\n"
     ]
    },
    {
     "data": {
      "text/html": [
       "<div>\n",
       "<style scoped>\n",
       "    .dataframe tbody tr th:only-of-type {\n",
       "        vertical-align: middle;\n",
       "    }\n",
       "\n",
       "    .dataframe tbody tr th {\n",
       "        vertical-align: top;\n",
       "    }\n",
       "\n",
       "    .dataframe thead th {\n",
       "        text-align: right;\n",
       "    }\n",
       "</style>\n",
       "<table border=\"1\" class=\"dataframe\">\n",
       "  <thead>\n",
       "    <tr style=\"text-align: right;\">\n",
       "      <th></th>\n",
       "      <th>Name</th>\n",
       "      <th>DR Grade 0</th>\n",
       "      <th>DR Grade 1</th>\n",
       "      <th>DR Grade 2</th>\n",
       "      <th>DR Grade 3</th>\n",
       "      <th>DR Grade 4</th>\n",
       "      <th>Mac. Edema Grade 0</th>\n",
       "      <th>Mac. Edema Grade 1</th>\n",
       "      <th>Mac. Edema Grade 2</th>\n",
       "      <th>No/Mild vs rest</th>\n",
       "      <th>AnyDR</th>\n",
       "      <th>AnyDME</th>\n",
       "    </tr>\n",
       "  </thead>\n",
       "  <tbody>\n",
       "    <tr>\n",
       "      <th>RETFound-Green@224</th>\n",
       "      <td>RETFound-Green@224</td>\n",
       "      <td>0.8696</td>\n",
       "      <td>0.7500</td>\n",
       "      <td>0.6392</td>\n",
       "      <td>0.7770</td>\n",
       "      <td>0.7857</td>\n",
       "      <td>0.9044</td>\n",
       "      <td>0.7032</td>\n",
       "      <td>0.8687</td>\n",
       "      <td>0.9245</td>\n",
       "      <td>0.8708</td>\n",
       "      <td>0.8879</td>\n",
       "    </tr>\n",
       "    <tr>\n",
       "      <th>DinoV2@224</th>\n",
       "      <td>DinoV2@224</td>\n",
       "      <td>0.8277</td>\n",
       "      <td>0.7104</td>\n",
       "      <td>0.5799</td>\n",
       "      <td>0.7663</td>\n",
       "      <td>0.8907</td>\n",
       "      <td>0.8755</td>\n",
       "      <td>0.6361</td>\n",
       "      <td>0.8737</td>\n",
       "      <td>0.8911</td>\n",
       "      <td>0.8058</td>\n",
       "      <td>0.8791</td>\n",
       "    </tr>\n",
       "  </tbody>\n",
       "</table>\n",
       "</div>"
      ],
      "text/plain": [
       "                                  Name  DR Grade 0  DR Grade 1  DR Grade 2  \\\n",
       "RETFound-Green@224  RETFound-Green@224      0.8696      0.7500      0.6392   \n",
       "DinoV2@224                  DinoV2@224      0.8277      0.7104      0.5799   \n",
       "\n",
       "                    DR Grade 3  DR Grade 4  Mac. Edema Grade 0  \\\n",
       "RETFound-Green@224      0.7770      0.7857              0.9044   \n",
       "DinoV2@224              0.7663      0.8907              0.8755   \n",
       "\n",
       "                    Mac. Edema Grade 1  Mac. Edema Grade 2  No/Mild vs rest  \\\n",
       "RETFound-Green@224              0.7032              0.8687           0.9245   \n",
       "DinoV2@224                      0.6361              0.8737           0.8911   \n",
       "\n",
       "                     AnyDR  AnyDME  \n",
       "RETFound-Green@224  0.8708  0.8879  \n",
       "DinoV2@224          0.8058  0.8791  "
      ]
     },
     "metadata": {},
     "output_type": "display_data"
    },
    {
     "data": {
      "image/png": "[encoded data removed]",
      "text/plain": [
       "<Figure size 850x400 with 3 Axes>"
      ]
     },
     "metadata": {},
     "output_type": "display_data"
    },
    {
     "name": "stdout",
     "output_type": "stream",
     "text": [
      "Statistically significant wins:  {'RETFound-Green@224': 9, 'DinoV2@224': 2}\n",
      "Ties for first place:  {'RETFound-Green@224': 0, 'DinoV2@224': 0}\n"
     ]
    }
   ],
   "source": [
    "name_X_list = [\n",
    "    ('RETFound-Green@224', \n",
    "     'IRID_Train_X_ours224.npy',\n",
    "     'IRID_Test_X_ours224.npy'),\n",
    "    ('DinoV2@224', \n",
    "     'IRID_Train_X_dino224.npy',\n",
    "     'IRID_Test_X_dino224.npy'),\n",
    "]\n",
    "\n",
    "models = ['RETFound-Green@224', 'DinoV2@224']\n",
    "colors = ['#B8FF3D', '#6EA6D1']\n",
    "\n",
    "run_idrid_exp(name_X_list, models, colors,\n",
    "              figsize=(8.5, 4), dashed_line_offsets=(-0.25, 1.5), xtick_loc_scaling=0.5, title_size='medium')"
   ]
  }
 ],
 "metadata": {
  "kernelspec": {
   "display_name": "Python 3 (ipykernel)",
   "language": "python",
   "name": "python3"
  },
  "language_info": {
   "codemirror_mode": {
    "name": "ipython",
    "version": 3
   },
   "file_extension": ".py",
   "mimetype": "text/x-python",
   "name": "python",
   "nbconvert_exporter": "python",
   "pygments_lexer": "ipython3",
   "version": "3.10.13"
  }
 },
 "nbformat": 4,
 "nbformat_minor": 5
}
