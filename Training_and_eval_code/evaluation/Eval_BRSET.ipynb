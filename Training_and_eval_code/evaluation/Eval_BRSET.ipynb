{
 "cells": [
  {
   "cell_type": "code",
   "execution_count": 1,
   "id": "b4f20e5b-82cf-40da-bce1-e6456c73afb5",
   "metadata": {},
   "outputs": [],
   "source": [
    "import pandas as pd\n",
    "import numpy as np\n",
    "\n",
    "from sklearn.linear_model import LogisticRegression\n",
    "from sklearn.pipeline import make_pipeline\n",
    "from sklearn.preprocessing import StandardScaler\n",
    "from sklearn.metrics import roc_auc_score\n",
    "\n",
    "import joblib\n",
    "\n",
    "# optional, for progress bars\n",
    "from tqdm.notebook import tqdm\n",
    "import time\n",
    "\n",
    "import matplotlib.pyplot as plt\n",
    "import seaborn as sns\n",
    "\n",
    "from scipy.stats import wilcoxon\n",
    "\n",
    "\n",
    "def get_bootstrap_aucs(y_true, y_pred, bootstrap_iters=100):\n",
    "    rng = np.random.RandomState(seed=42)\n",
    "    idxs = list(range(y_pred.shape[0]))\n",
    "\n",
    "    bootstrap_aucs = []\n",
    "    for _ in range(bootstrap_iters):\n",
    "        curr_idxs = rng.choice(idxs, size=len(idxs), replace=True)\n",
    "        bootstrap_aucs.append(roc_auc_score(y_true[curr_idxs], y_pred[curr_idxs],\n",
    "                                            multi_class='ovr', average='macro'))\n",
    "\n",
    "    return np.median(bootstrap_aucs), bootstrap_aucs\n",
    "\n",
    "\n",
    "def get_p_values(all_aucs):\n",
    "    all_aucs = np.vstack(all_aucs)\n",
    "    median_aucs = np.median(all_aucs, -1)\n",
    "    second_best_idx, best_idx = median_aucs.argsort()[-2:]\n",
    "    p_val = wilcoxon(all_aucs[best_idx], all_aucs[second_best_idx])[1]\n",
    "    return p_val, (best_idx, second_best_idx)\n",
    "\n",
    "\n",
    "def pval_to_str(p_val):\n",
    "    if p_val < 0.0001:\n",
    "        p_val = 'p<0.0001'\n",
    "        p_val = '***'\n",
    "    else:\n",
    "        p_val = f'p={p_val:.4f}'\n",
    "    return p_val\n",
    "\n",
    "\n",
    "def darken_hex(hex_color, factor=0.5):\n",
    "    # Ensure the factor is between 0 and 1\n",
    "    factor = max(0, min(factor, 1))\n",
    "\n",
    "    # Remove the hash symbol if present\n",
    "    hex_color = hex_color.lstrip('#')\n",
    "\n",
    "    # Convert hex to RGB\n",
    "    rgb = tuple(int(hex_color[i:i + 2], 16) for i in (0, 2, 4))\n",
    "\n",
    "    # Darken the RGB values by multiplying by the factor\n",
    "    darkened_rgb = tuple(int(c * factor) for c in rgb)\n",
    "\n",
    "    # Convert the RGB values back to hex\n",
    "    darkened_hex = '#{:02x}{:02x}{:02x}'.format(*darkened_rgb)\n",
    "\n",
    "    return darkened_hex\n",
    "\n",
    "\n",
    "targets = ['macula', 'optic_disc', 'vessels',  # abnormalities\n",
    "           'diabetic_retinopathy', 'amd', 'macular_edema',  # retinal disease\n",
    "           'quality',  # technical\n",
    "           'insuline', 'diabetes']  # systemic\n",
    "\n",
    "df = pd.read_csv('/mnt/c/Users/Justin/Desktop/labels.csv')\n",
    "train_ids, test_ids = joblib.load('brset_train_test_split.pkl')\n",
    "train_mask = df.patient_id.isin(train_ids).values\n",
    "dftrain = df[train_mask]\n",
    "dftest = df[~train_mask]\n",
    "\n",
    "name_X_list = [\n",
    "    ('RETFound-MEH', '/home/justin/RETFound_MAE/BRSET_RETFound_Feature_latent.npy'),\n",
    "    ('DERETFound', '/home/justin/RETFound_MAE/BRSET_DERETFound_Feature_latent.npy'),\n",
    "    ('RETFound-Green', 'X_ours_brset.npy'),\n",
    "]\n",
    "models = ['RETFound-MEH', 'DERETFound', 'RETFound-Green']\n",
    "colors = ['#ff595e', '#ffca3a', '#8ac926']\n"
   ]
  },
  {
   "cell_type": "code",
   "execution_count": 2,
   "id": "a5b75a8e-255f-4db6-b28f-04c3a1cc12fe",
   "metadata": {},
   "outputs": [],
   "source": [
    "def run_brset_exp(name_X_list, models, colors,\n",
    "                  figsize=(12, 4), dashed_line_offsets=(-2.75, 0.25), xtick_loc_scaling=1):\n",
    "    targets = ['macula', 'optic_disc', 'vessels',  # abnormalities\n",
    "               'diabetic_retinopathy', 'amd', 'macular_edema',  # retinal disease\n",
    "               'quality',  # technical\n",
    "               'insuline', 'diabetes']  # systemic\n",
    "\n",
    "    results_df = pd.DataFrame(columns=['Name'] + targets)\n",
    "    name_bootstrap_aucs_dict = {}\n",
    "    name_times_dict = {}\n",
    "    for name, Xfname in tqdm(name_X_list):\n",
    "        np.random.seed(42)\n",
    "\n",
    "        name_times_dict[name] = []\n",
    "        median_aucs = []\n",
    "\n",
    "        X = np.load(Xfname)\n",
    "        X_train = X[train_mask]\n",
    "        X_test = X[~train_mask]\n",
    "\n",
    "        perf_str = f'{name:>20}:'\n",
    "        for target_col in tqdm(targets, leave=True):\n",
    "            y_train = dftrain[target_col].values\n",
    "            y_test = dftest[target_col].values\n",
    "\n",
    "            if target_col == 'optic_disc':\n",
    "                # replace 'bv' with np.nan\n",
    "                y_train = np.where(y_train == 'bv', np.nan, y_train)\n",
    "                y_test = np.where(y_test == 'bv', np.nan, y_test)\n",
    "            elif target_col == 'quality':\n",
    "                # replace 'Adequate' with 0 and 'Inadequate' with 1\n",
    "                y_train = np.array([dict(Adequate=0, Inadequate=1)[x] for x in y_train])\n",
    "                y_test = np.array([dict(Adequate=0, Inadequate=1)[x] for x in y_test])\n",
    "\n",
    "            train_non_missing_mask = pd.notnull(y_train)\n",
    "            test_non_missing_mask = pd.notnull(y_test)\n",
    "\n",
    "            y_train = y_train[train_non_missing_mask]\n",
    "            X_train_current = X_train[train_non_missing_mask]\n",
    "\n",
    "            y_test = y_test[test_non_missing_mask]\n",
    "            X_test_current = X_test[test_non_missing_mask]\n",
    "\n",
    "            if y_train[0] in ['yes', 'no']:\n",
    "                y_train = np.array([dict(yes=1, no=0)[x] for x in y_train])\n",
    "                y_test = np.array([dict(yes=1, no=0)[x] for x in y_test])\n",
    "\n",
    "            y_train = y_train.astype(int)\n",
    "            y_test = y_test.astype(int)\n",
    "\n",
    "            if y_train.max() == 2 or y_test.max() == 2:\n",
    "                y_train = y_train - 1\n",
    "                y_test = y_test - 1\n",
    "\n",
    "            start = time.time()\n",
    "            clf = make_pipeline(StandardScaler(), LogisticRegression(max_iter=20_000, random_state=42))\n",
    "            clf.fit(X_train_current, y_train)\n",
    "            preds = clf.predict_proba(X_test_current)[:, 1]\n",
    "            stop = time.time()\n",
    "            delta = stop - start\n",
    "            name_times_dict[name].append(delta)\n",
    "\n",
    "            curr_median_auc, curr_bootstrap_aucs = get_bootstrap_aucs(y_test, preds)\n",
    "            name_bootstrap_aucs_dict[f'{name}-{target_col}'] = curr_bootstrap_aucs\n",
    "            median_aucs.append(curr_median_auc)\n",
    "\n",
    "        perf_str += '\\t'.join([f'{c}:{v:.4f}' for c, v in zip(targets, median_aucs)])\n",
    "        print(perf_str)\n",
    "        print(f'Total time: {sum(name_times_dict[name]):.4f}s / mean time: {np.mean(name_times_dict[name]):.4f}s')\n",
    "\n",
    "        results_df.loc[name] = [name] + median_aucs\n",
    "\n",
    "    display(results_df.round(4))\n",
    "\n",
    "    fig, axes = plt.subplots(1, 3, figsize=figsize)\n",
    "    axes = axes.flat\n",
    "\n",
    "    width = 0.25\n",
    "\n",
    "    target_groups = {\n",
    "        'Abnormalities of retinal landmarks': ['macula', 'optic_disc', 'vessels', ],\n",
    "        'Retinal disease detection': ['diabetic_retinopathy', 'amd', 'macular_edema', ],\n",
    "        'Non-retinal disease tasks': ['quality', 'insuline', 'diabetes', ],\n",
    "    }\n",
    "\n",
    "    wins = {_: 0 for _ in models}\n",
    "    ties = {_: 0 for _ in models}\n",
    "\n",
    "    for target_group, ax in zip(target_groups, axes):\n",
    "        targets = target_groups[target_group]\n",
    "        x = np.arange(len(targets))\n",
    "\n",
    "        for i, model in enumerate(models):\n",
    "            values = [results_df.loc[model, target] for target in targets]\n",
    "            locs = x + i * width\n",
    "            ax.bar(locs, values, width, label=model, color=colors[i], edgecolor=darken_hex(colors[i]))\n",
    "            if model == 'RETFound-Green':\n",
    "                for _idx in range(len(values)):\n",
    "                    _left = locs[_idx] + dashed_line_offsets[0] * width\n",
    "                    _right = locs[_idx] + dashed_line_offsets[1] * width\n",
    "                    _val = values[_idx]\n",
    "                    ax.plot([_left, _right], [_val, _val], c=colors[i], linewidth=1.5, alpha=0.8, linestyle=':')\n",
    "\n",
    "        # plot stat significance\n",
    "        for t_idx, target in enumerate(targets):\n",
    "            target_str = target.replace(\" vs Rest\", \"\")\n",
    "            aucs = [name_bootstrap_aucs_dict[f'{name}-{target}'] for name in models]\n",
    "            p_val, (best_idx, second_best_idx) = get_p_values(aucs)\n",
    "            best_val = np.median(np.vstack(aucs), axis=-1).max()\n",
    "\n",
    "            if p_val < 0.05:\n",
    "                wins[models[best_idx]] += 1\n",
    "            else:\n",
    "                ties[models[best_idx]] += 1\n",
    "                ties[models[second_best_idx]] += 1\n",
    "\n",
    "            start_loc = t_idx + best_idx * width\n",
    "            end_loc = t_idx + second_best_idx * width\n",
    "\n",
    "            ax.plot([start_loc, start_loc, end_loc, end_loc],\n",
    "                    [best_val + 0.001, best_val + 0.012, best_val + 0.012, best_val + 0.001],\n",
    "                    c='black', lw=0.8)\n",
    "            text_loc_height_offset = 0.015 if not p_val < 0.0001 else 0.01\n",
    "            ax.text((start_loc + end_loc) / 2, best_val + text_loc_height_offset, pval_to_str(p_val), ha='center',\n",
    "                    fontsize='x-small',\n",
    "                    weight=None if not p_val < 0.05 else 'bold')\n",
    "\n",
    "            ax.set_xticks(x + width * xtick_loc_scaling)\n",
    "            targets_display = [_.replace('_', ' ').title().replace('Insuline', 'Insulin') for _ in targets]\n",
    "            targets_display = [_.replace('Amd', \"AMD\").replace('Diabetic Retinopathy', 'DR').replace('Macular', 'Mac.')\n",
    "                               for _ in targets_display]\n",
    "            ax.set_xticklabels(targets_display, rotation=0, ha='center')\n",
    "            ax.set_ylim(0.5, 1.03)\n",
    "            ax.set_title(target_group)\n",
    "\n",
    "    axes[0].set_ylabel('AUC on test set')\n",
    "    axes[1].set_yticklabels([])\n",
    "    axes[2].set_yticklabels([])\n",
    "    plt.tight_layout()\n",
    "    plt.show()\n",
    "\n",
    "    print('Statistically significant wins: ', wins)\n",
    "    print('Ties for first place: ', ties)\n"
   ]
  },
  {
   "cell_type": "code",
   "execution_count": 3,
   "id": "a6b46365-6212-43b8-9792-b5d2ede3171f",
   "metadata": {},
   "outputs": [
    {
     "data": {
      "application/vnd.jupyter.widget-view+json": {
       "model_id": "42dbc15e3b4d4224915f5234cbfd4440",
       "version_major": 2,
       "version_minor": 0
      },
      "text/plain": [
       "  0%|          | 0/3 [00:00<?, ?it/s]"
      ]
     },
     "metadata": {},
     "output_type": "display_data"
    },
    {
     "data": {
      "application/vnd.jupyter.widget-view+json": {
       "model_id": "51d0e227e70d4e5490ab0c197c3a02ef",
       "version_major": 2,
       "version_minor": 0
      },
      "text/plain": [
       "  0%|          | 0/9 [00:00<?, ?it/s]"
      ]
     },
     "metadata": {},
     "output_type": "display_data"
    },
    {
     "name": "stdout",
     "output_type": "stream",
     "text": [
      "        RETFound-MEH:macula:0.8442\toptic_disc:0.8487\tvessels:0.7990\tdiabetic_retinopathy:0.9205\tamd:0.9079\tmacular_edema:0.9201\tquality:0.8784\tinsuline:0.7959\tdiabetes:0.8575\n",
      "Total time: 19.4282s / mean time: 2.1587s\n"
     ]
    },
    {
     "data": {
      "application/vnd.jupyter.widget-view+json": {
       "model_id": "e2ac4fbe6bc241a78ae7e29b6af068bd",
       "version_major": 2,
       "version_minor": 0
      },
      "text/plain": [
       "  0%|          | 0/9 [00:00<?, ?it/s]"
      ]
     },
     "metadata": {},
     "output_type": "display_data"
    },
    {
     "name": "stdout",
     "output_type": "stream",
     "text": [
      "          DERETFound:macula:0.8551\toptic_disc:0.8873\tvessels:0.7924\tdiabetic_retinopathy:0.9379\tamd:0.9155\tmacular_edema:0.9382\tquality:0.8962\tinsuline:0.8671\tdiabetes:0.8624\n",
      "Total time: 19.0831s / mean time: 2.1203s\n"
     ]
    },
    {
     "data": {
      "application/vnd.jupyter.widget-view+json": {
       "model_id": "9c5a16a8758c46b5bf21931970fd5b83",
       "version_major": 2,
       "version_minor": 0
      },
      "text/plain": [
       "  0%|          | 0/9 [00:00<?, ?it/s]"
      ]
     },
     "metadata": {},
     "output_type": "display_data"
    },
    {
     "name": "stdout",
     "output_type": "stream",
     "text": [
      "      RETFound-Green:macula:0.8922\toptic_disc:0.8561\tvessels:0.8296\tdiabetic_retinopathy:0.9624\tamd:0.9482\tmacular_edema:0.9751\tquality:0.8855\tinsuline:0.8306\tdiabetes:0.8503\n",
      "Total time: 5.8532s / mean time: 0.6504s\n"
     ]
    },
    {
     "data": {
      "text/html": [
       "<div>\n",
       "<style scoped>\n",
       "    .dataframe tbody tr th:only-of-type {\n",
       "        vertical-align: middle;\n",
       "    }\n",
       "\n",
       "    .dataframe tbody tr th {\n",
       "        vertical-align: top;\n",
       "    }\n",
       "\n",
       "    .dataframe thead th {\n",
       "        text-align: right;\n",
       "    }\n",
       "</style>\n",
       "<table border=\"1\" class=\"dataframe\">\n",
       "  <thead>\n",
       "    <tr style=\"text-align: right;\">\n",
       "      <th></th>\n",
       "      <th>Name</th>\n",
       "      <th>macula</th>\n",
       "      <th>optic_disc</th>\n",
       "      <th>vessels</th>\n",
       "      <th>diabetic_retinopathy</th>\n",
       "      <th>amd</th>\n",
       "      <th>macular_edema</th>\n",
       "      <th>quality</th>\n",
       "      <th>insuline</th>\n",
       "      <th>diabetes</th>\n",
       "    </tr>\n",
       "  </thead>\n",
       "  <tbody>\n",
       "    <tr>\n",
       "      <th>RETFound-MEH</th>\n",
       "      <td>RETFound-MEH</td>\n",
       "      <td>0.8442</td>\n",
       "      <td>0.8487</td>\n",
       "      <td>0.7990</td>\n",
       "      <td>0.9205</td>\n",
       "      <td>0.9079</td>\n",
       "      <td>0.9201</td>\n",
       "      <td>0.8784</td>\n",
       "      <td>0.7959</td>\n",
       "      <td>0.8575</td>\n",
       "    </tr>\n",
       "    <tr>\n",
       "      <th>DERETFound</th>\n",
       "      <td>DERETFound</td>\n",
       "      <td>0.8551</td>\n",
       "      <td>0.8873</td>\n",
       "      <td>0.7924</td>\n",
       "      <td>0.9379</td>\n",
       "      <td>0.9155</td>\n",
       "      <td>0.9382</td>\n",
       "      <td>0.8962</td>\n",
       "      <td>0.8671</td>\n",
       "      <td>0.8624</td>\n",
       "    </tr>\n",
       "    <tr>\n",
       "      <th>RETFound-Green</th>\n",
       "      <td>RETFound-Green</td>\n",
       "      <td>0.8922</td>\n",
       "      <td>0.8561</td>\n",
       "      <td>0.8296</td>\n",
       "      <td>0.9624</td>\n",
       "      <td>0.9482</td>\n",
       "      <td>0.9751</td>\n",
       "      <td>0.8855</td>\n",
       "      <td>0.8306</td>\n",
       "      <td>0.8503</td>\n",
       "    </tr>\n",
       "  </tbody>\n",
       "</table>\n",
       "</div>"
      ],
      "text/plain": [
       "                          Name  macula  optic_disc  vessels  \\\n",
       "RETFound-MEH      RETFound-MEH  0.8442      0.8487   0.7990   \n",
       "DERETFound          DERETFound  0.8551      0.8873   0.7924   \n",
       "RETFound-Green  RETFound-Green  0.8922      0.8561   0.8296   \n",
       "\n",
       "                diabetic_retinopathy     amd  macular_edema  quality  \\\n",
       "RETFound-MEH                  0.9205  0.9079         0.9201   0.8784   \n",
       "DERETFound                    0.9379  0.9155         0.9382   0.8962   \n",
       "RETFound-Green                0.9624  0.9482         0.9751   0.8855   \n",
       "\n",
       "                insuline  diabetes  \n",
       "RETFound-MEH      0.7959    0.8575  \n",
       "DERETFound        0.8671    0.8624  \n",
       "RETFound-Green    0.8306    0.8503  "
      ]
     },
     "metadata": {},
     "output_type": "display_data"
    },
    {
     "data": {
      "image/png": "[encoded data removed]",
      "text/plain": [
       "<Figure size 1200x400 with 3 Axes>"
      ]
     },
     "metadata": {},
     "output_type": "display_data"
    },
    {
     "name": "stdout",
     "output_type": "stream",
     "text": [
      "Statistically significant wins:  {'RETFound-MEH': 0, 'DERETFound': 4, 'RETFound-Green': 5}\n",
      "Ties for first place:  {'RETFound-MEH': 0, 'DERETFound': 0, 'RETFound-Green': 0}\n"
     ]
    }
   ],
   "source": [
    "run_brset_exp(name_X_list, models, colors)"
   ]
  },
  {
   "cell_type": "code",
   "execution_count": 4,
   "id": "d263b656-6300-42f8-9771-3542ff6cec12",
   "metadata": {},
   "outputs": [
    {
     "data": {
      "application/vnd.jupyter.widget-view+json": {
       "model_id": "d965d40e55e64ba9ae8e2c81c23f7730",
       "version_major": 2,
       "version_minor": 0
      },
      "text/plain": [
       "  0%|          | 0/2 [00:00<?, ?it/s]"
      ]
     },
     "metadata": {},
     "output_type": "display_data"
    },
    {
     "data": {
      "application/vnd.jupyter.widget-view+json": {
       "model_id": "dea5d79786154e8f8b769362a6041dc0",
       "version_major": 2,
       "version_minor": 0
      },
      "text/plain": [
       "  0%|          | 0/9 [00:00<?, ?it/s]"
      ]
     },
     "metadata": {},
     "output_type": "display_data"
    },
    {
     "name": "stdout",
     "output_type": "stream",
     "text": [
      "      RETFound-Green:macula:0.8922\toptic_disc:0.8561\tvessels:0.8296\tdiabetic_retinopathy:0.9624\tamd:0.9482\tmacular_edema:0.9751\tquality:0.8855\tinsuline:0.8306\tdiabetes:0.8503\n",
      "Total time: 5.4951s / mean time: 0.6106s\n"
     ]
    },
    {
     "data": {
      "application/vnd.jupyter.widget-view+json": {
       "model_id": "599ab0f9822d48699003e04f42b13df6",
       "version_major": 2,
       "version_minor": 0
      },
      "text/plain": [
       "  0%|          | 0/9 [00:00<?, ?it/s]"
      ]
     },
     "metadata": {},
     "output_type": "display_data"
    },
    {
     "name": "stdout",
     "output_type": "stream",
     "text": [
      "              DinoV2:macula:0.8852\toptic_disc:0.8340\tvessels:0.8314\tdiabetic_retinopathy:0.9416\tamd:0.9332\tmacular_edema:0.9692\tquality:0.8761\tinsuline:0.8274\tdiabetes:0.8549\n",
      "Total time: 6.1372s / mean time: 0.6819s\n"
     ]
    },
    {
     "data": {
      "text/html": [
       "<div>\n",
       "<style scoped>\n",
       "    .dataframe tbody tr th:only-of-type {\n",
       "        vertical-align: middle;\n",
       "    }\n",
       "\n",
       "    .dataframe tbody tr th {\n",
       "        vertical-align: top;\n",
       "    }\n",
       "\n",
       "    .dataframe thead th {\n",
       "        text-align: right;\n",
       "    }\n",
       "</style>\n",
       "<table border=\"1\" class=\"dataframe\">\n",
       "  <thead>\n",
       "    <tr style=\"text-align: right;\">\n",
       "      <th></th>\n",
       "      <th>Name</th>\n",
       "      <th>macula</th>\n",
       "      <th>optic_disc</th>\n",
       "      <th>vessels</th>\n",
       "      <th>diabetic_retinopathy</th>\n",
       "      <th>amd</th>\n",
       "      <th>macular_edema</th>\n",
       "      <th>quality</th>\n",
       "      <th>insuline</th>\n",
       "      <th>diabetes</th>\n",
       "    </tr>\n",
       "  </thead>\n",
       "  <tbody>\n",
       "    <tr>\n",
       "      <th>RETFound-Green</th>\n",
       "      <td>RETFound-Green</td>\n",
       "      <td>0.8922</td>\n",
       "      <td>0.8561</td>\n",
       "      <td>0.8296</td>\n",
       "      <td>0.9624</td>\n",
       "      <td>0.9482</td>\n",
       "      <td>0.9751</td>\n",
       "      <td>0.8855</td>\n",
       "      <td>0.8306</td>\n",
       "      <td>0.8503</td>\n",
       "    </tr>\n",
       "    <tr>\n",
       "      <th>DinoV2</th>\n",
       "      <td>DinoV2</td>\n",
       "      <td>0.8852</td>\n",
       "      <td>0.8340</td>\n",
       "      <td>0.8314</td>\n",
       "      <td>0.9416</td>\n",
       "      <td>0.9332</td>\n",
       "      <td>0.9692</td>\n",
       "      <td>0.8761</td>\n",
       "      <td>0.8274</td>\n",
       "      <td>0.8549</td>\n",
       "    </tr>\n",
       "  </tbody>\n",
       "</table>\n",
       "</div>"
      ],
      "text/plain": [
       "                          Name  macula  optic_disc  vessels  \\\n",
       "RETFound-Green  RETFound-Green  0.8922      0.8561   0.8296   \n",
       "DinoV2                  DinoV2  0.8852      0.8340   0.8314   \n",
       "\n",
       "                diabetic_retinopathy     amd  macular_edema  quality  \\\n",
       "RETFound-Green                0.9624  0.9482         0.9751   0.8855   \n",
       "DinoV2                        0.9416  0.9332         0.9692   0.8761   \n",
       "\n",
       "                insuline  diabetes  \n",
       "RETFound-Green    0.8306    0.8503  \n",
       "DinoV2            0.8274    0.8549  "
      ]
     },
     "metadata": {},
     "output_type": "display_data"
    },
    {
     "data": {
      "image/png": "[encoded data removed]",
      "text/plain": [
       "<Figure size 850x400 with 3 Axes>"
      ]
     },
     "metadata": {},
     "output_type": "display_data"
    },
    {
     "name": "stdout",
     "output_type": "stream",
     "text": [
      "Statistically significant wins:  {'RETFound-Green': 7, 'DinoV2': 2}\n",
      "Ties for first place:  {'RETFound-Green': 0, 'DinoV2': 0}\n"
     ]
    }
   ],
   "source": [
    "name_X_list = [\n",
    "    ('RETFound-Green', 'X_ours_brset.npy'),\n",
    "    ('DinoV2', 'X_ViTSDinov2_brset.npy'),\n",
    "]\n",
    "\n",
    "models = ['RETFound-Green', 'DinoV2']\n",
    "colors = ['#8ac926', '#4d759a']\n",
    "\n",
    "run_brset_exp(name_X_list, models, colors,\n",
    "              figsize=(8.5, 4), dashed_line_offsets=(-0.25, 1.5), xtick_loc_scaling=0.5)"
   ]
  },
  {
   "cell_type": "code",
   "execution_count": 5,
   "id": "72fce7c0-5012-4f96-8938-c405c126754a",
   "metadata": {},
   "outputs": [
    {
     "data": {
      "application/vnd.jupyter.widget-view+json": {
       "model_id": "020beb73afd24ffaaa92299c9a56f4e1",
       "version_major": 2,
       "version_minor": 0
      },
      "text/plain": [
       "  0%|          | 0/3 [00:00<?, ?it/s]"
      ]
     },
     "metadata": {},
     "output_type": "display_data"
    },
    {
     "data": {
      "application/vnd.jupyter.widget-view+json": {
       "model_id": "f01d5952066b420486197cf780511b85",
       "version_major": 2,
       "version_minor": 0
      },
      "text/plain": [
       "  0%|          | 0/9 [00:00<?, ?it/s]"
      ]
     },
     "metadata": {},
     "output_type": "display_data"
    },
    {
     "name": "stdout",
     "output_type": "stream",
     "text": [
      "        RETFound-MEH:macula:0.8442\toptic_disc:0.8487\tvessels:0.7990\tdiabetic_retinopathy:0.9205\tamd:0.9079\tmacular_edema:0.9201\tquality:0.8784\tinsuline:0.7959\tdiabetes:0.8575\n",
      "Total time: 21.9130s / mean time: 2.4348s\n"
     ]
    },
    {
     "data": {
      "application/vnd.jupyter.widget-view+json": {
       "model_id": "41a63b48edec4b10ae84d702ebd306ee",
       "version_major": 2,
       "version_minor": 0
      },
      "text/plain": [
       "  0%|          | 0/9 [00:00<?, ?it/s]"
      ]
     },
     "metadata": {},
     "output_type": "display_data"
    },
    {
     "name": "stdout",
     "output_type": "stream",
     "text": [
      "          DERETFound:macula:0.8551\toptic_disc:0.8873\tvessels:0.7924\tdiabetic_retinopathy:0.9379\tamd:0.9155\tmacular_edema:0.9382\tquality:0.8962\tinsuline:0.8671\tdiabetes:0.8624\n",
      "Total time: 18.4859s / mean time: 2.0540s\n"
     ]
    },
    {
     "data": {
      "application/vnd.jupyter.widget-view+json": {
       "model_id": "061ca23e143845a697b8a31d3284a6f9",
       "version_major": 2,
       "version_minor": 0
      },
      "text/plain": [
       "  0%|          | 0/9 [00:00<?, ?it/s]"
      ]
     },
     "metadata": {},
     "output_type": "display_data"
    },
    {
     "name": "stdout",
     "output_type": "stream",
     "text": [
      "  RETFound-Green@224:macula:0.8686\toptic_disc:0.8448\tvessels:0.8249\tdiabetic_retinopathy:0.9307\tamd:0.9473\tmacular_edema:0.9644\tquality:0.8832\tinsuline:0.8146\tdiabetes:0.8449\n",
      "Total time: 6.9400s / mean time: 0.7711s\n"
     ]
    },
    {
     "data": {
      "text/html": [
       "<div>\n",
       "<style scoped>\n",
       "    .dataframe tbody tr th:only-of-type {\n",
       "        vertical-align: middle;\n",
       "    }\n",
       "\n",
       "    .dataframe tbody tr th {\n",
       "        vertical-align: top;\n",
       "    }\n",
       "\n",
       "    .dataframe thead th {\n",
       "        text-align: right;\n",
       "    }\n",
       "</style>\n",
       "<table border=\"1\" class=\"dataframe\">\n",
       "  <thead>\n",
       "    <tr style=\"text-align: right;\">\n",
       "      <th></th>\n",
       "      <th>Name</th>\n",
       "      <th>macula</th>\n",
       "      <th>optic_disc</th>\n",
       "      <th>vessels</th>\n",
       "      <th>diabetic_retinopathy</th>\n",
       "      <th>amd</th>\n",
       "      <th>macular_edema</th>\n",
       "      <th>quality</th>\n",
       "      <th>insuline</th>\n",
       "      <th>diabetes</th>\n",
       "    </tr>\n",
       "  </thead>\n",
       "  <tbody>\n",
       "    <tr>\n",
       "      <th>RETFound-MEH</th>\n",
       "      <td>RETFound-MEH</td>\n",
       "      <td>0.8442</td>\n",
       "      <td>0.8487</td>\n",
       "      <td>0.7990</td>\n",
       "      <td>0.9205</td>\n",
       "      <td>0.9079</td>\n",
       "      <td>0.9201</td>\n",
       "      <td>0.8784</td>\n",
       "      <td>0.7959</td>\n",
       "      <td>0.8575</td>\n",
       "    </tr>\n",
       "    <tr>\n",
       "      <th>DERETFound</th>\n",
       "      <td>DERETFound</td>\n",
       "      <td>0.8551</td>\n",
       "      <td>0.8873</td>\n",
       "      <td>0.7924</td>\n",
       "      <td>0.9379</td>\n",
       "      <td>0.9155</td>\n",
       "      <td>0.9382</td>\n",
       "      <td>0.8962</td>\n",
       "      <td>0.8671</td>\n",
       "      <td>0.8624</td>\n",
       "    </tr>\n",
       "    <tr>\n",
       "      <th>RETFound-Green@224</th>\n",
       "      <td>RETFound-Green@224</td>\n",
       "      <td>0.8686</td>\n",
       "      <td>0.8448</td>\n",
       "      <td>0.8249</td>\n",
       "      <td>0.9307</td>\n",
       "      <td>0.9473</td>\n",
       "      <td>0.9644</td>\n",
       "      <td>0.8832</td>\n",
       "      <td>0.8146</td>\n",
       "      <td>0.8449</td>\n",
       "    </tr>\n",
       "  </tbody>\n",
       "</table>\n",
       "</div>"
      ],
      "text/plain": [
       "                                  Name  macula  optic_disc  vessels  \\\n",
       "RETFound-MEH              RETFound-MEH  0.8442      0.8487   0.7990   \n",
       "DERETFound                  DERETFound  0.8551      0.8873   0.7924   \n",
       "RETFound-Green@224  RETFound-Green@224  0.8686      0.8448   0.8249   \n",
       "\n",
       "                    diabetic_retinopathy     amd  macular_edema  quality  \\\n",
       "RETFound-MEH                      0.9205  0.9079         0.9201   0.8784   \n",
       "DERETFound                        0.9379  0.9155         0.9382   0.8962   \n",
       "RETFound-Green@224                0.9307  0.9473         0.9644   0.8832   \n",
       "\n",
       "                    insuline  diabetes  \n",
       "RETFound-MEH          0.7959    0.8575  \n",
       "DERETFound            0.8671    0.8624  \n",
       "RETFound-Green@224    0.8146    0.8449  "
      ]
     },
     "metadata": {},
     "output_type": "display_data"
    },
    {
     "data": {
      "image/png": "[encoded data removed]",
      "text/plain": [
       "<Figure size 1200x400 with 3 Axes>"
      ]
     },
     "metadata": {},
     "output_type": "display_data"
    },
    {
     "name": "stdout",
     "output_type": "stream",
     "text": [
      "Statistically significant wins:  {'RETFound-MEH': 0, 'DERETFound': 5, 'RETFound-Green@224': 4}\n",
      "Ties for first place:  {'RETFound-MEH': 0, 'DERETFound': 0, 'RETFound-Green@224': 0}\n"
     ]
    }
   ],
   "source": [
    "name_X_list = [\n",
    "    ('RETFound-MEH', '/home/justin/RETFound_MAE/BRSET_RETFound_Feature_latent.npy'),\n",
    "    ('DERETFound', '/home/justin/RETFound_MAE/BRSET_DERETFound_Feature_latent.npy'),\n",
    "    ('RETFound-Green@224', 'X_ours_brset_224.npy'),\n",
    "]\n",
    "models = ['RETFound-MEH', 'DERETFound', 'RETFound-Green@224']\n",
    "colors = ['#ff595e', '#ffca3a', '#B8FF3D']\n",
    "\n",
    "run_brset_exp(name_X_list, models, colors)"
   ]
  },
  {
   "cell_type": "code",
   "execution_count": 6,
   "id": "3169902a-5e3d-447b-b99b-36016bcc1010",
   "metadata": {},
   "outputs": [
    {
     "data": {
      "application/vnd.jupyter.widget-view+json": {
       "model_id": "6066b3f48a084877a479899f00a979d8",
       "version_major": 2,
       "version_minor": 0
      },
      "text/plain": [
       "  0%|          | 0/2 [00:00<?, ?it/s]"
      ]
     },
     "metadata": {},
     "output_type": "display_data"
    },
    {
     "data": {
      "application/vnd.jupyter.widget-view+json": {
       "model_id": "24b5d9b349c44314b646a8942637f78e",
       "version_major": 2,
       "version_minor": 0
      },
      "text/plain": [
       "  0%|          | 0/9 [00:00<?, ?it/s]"
      ]
     },
     "metadata": {},
     "output_type": "display_data"
    },
    {
     "name": "stdout",
     "output_type": "stream",
     "text": [
      "  RETFound-Green@224:macula:0.8686\toptic_disc:0.8448\tvessels:0.8249\tdiabetic_retinopathy:0.9307\tamd:0.9473\tmacular_edema:0.9644\tquality:0.8832\tinsuline:0.8146\tdiabetes:0.8449\n",
      "Total time: 7.5828s / mean time: 0.8425s\n"
     ]
    },
    {
     "data": {
      "application/vnd.jupyter.widget-view+json": {
       "model_id": "19c7f83c777f4f4488e363991e2e8620",
       "version_major": 2,
       "version_minor": 0
      },
      "text/plain": [
       "  0%|          | 0/9 [00:00<?, ?it/s]"
      ]
     },
     "metadata": {},
     "output_type": "display_data"
    },
    {
     "name": "stdout",
     "output_type": "stream",
     "text": [
      "          DinoV2@224:macula:0.8699\toptic_disc:0.8201\tvessels:0.8187\tdiabetic_retinopathy:0.9240\tamd:0.9377\tmacular_edema:0.9575\tquality:0.8778\tinsuline:0.8247\tdiabetes:0.8407\n",
      "Total time: 6.9053s / mean time: 0.7673s\n"
     ]
    },
    {
     "data": {
      "text/html": [
       "<div>\n",
       "<style scoped>\n",
       "    .dataframe tbody tr th:only-of-type {\n",
       "        vertical-align: middle;\n",
       "    }\n",
       "\n",
       "    .dataframe tbody tr th {\n",
       "        vertical-align: top;\n",
       "    }\n",
       "\n",
       "    .dataframe thead th {\n",
       "        text-align: right;\n",
       "    }\n",
       "</style>\n",
       "<table border=\"1\" class=\"dataframe\">\n",
       "  <thead>\n",
       "    <tr style=\"text-align: right;\">\n",
       "      <th></th>\n",
       "      <th>Name</th>\n",
       "      <th>macula</th>\n",
       "      <th>optic_disc</th>\n",
       "      <th>vessels</th>\n",
       "      <th>diabetic_retinopathy</th>\n",
       "      <th>amd</th>\n",
       "      <th>macular_edema</th>\n",
       "      <th>quality</th>\n",
       "      <th>insuline</th>\n",
       "      <th>diabetes</th>\n",
       "    </tr>\n",
       "  </thead>\n",
       "  <tbody>\n",
       "    <tr>\n",
       "      <th>RETFound-Green@224</th>\n",
       "      <td>RETFound-Green@224</td>\n",
       "      <td>0.8686</td>\n",
       "      <td>0.8448</td>\n",
       "      <td>0.8249</td>\n",
       "      <td>0.9307</td>\n",
       "      <td>0.9473</td>\n",
       "      <td>0.9644</td>\n",
       "      <td>0.8832</td>\n",
       "      <td>0.8146</td>\n",
       "      <td>0.8449</td>\n",
       "    </tr>\n",
       "    <tr>\n",
       "      <th>DinoV2@224</th>\n",
       "      <td>DinoV2@224</td>\n",
       "      <td>0.8699</td>\n",
       "      <td>0.8201</td>\n",
       "      <td>0.8187</td>\n",
       "      <td>0.9240</td>\n",
       "      <td>0.9377</td>\n",
       "      <td>0.9575</td>\n",
       "      <td>0.8778</td>\n",
       "      <td>0.8247</td>\n",
       "      <td>0.8407</td>\n",
       "    </tr>\n",
       "  </tbody>\n",
       "</table>\n",
       "</div>"
      ],
      "text/plain": [
       "                                  Name  macula  optic_disc  vessels  \\\n",
       "RETFound-Green@224  RETFound-Green@224  0.8686      0.8448   0.8249   \n",
       "DinoV2@224                  DinoV2@224  0.8699      0.8201   0.8187   \n",
       "\n",
       "                    diabetic_retinopathy     amd  macular_edema  quality  \\\n",
       "RETFound-Green@224                0.9307  0.9473         0.9644   0.8832   \n",
       "DinoV2@224                        0.9240  0.9377         0.9575   0.8778   \n",
       "\n",
       "                    insuline  diabetes  \n",
       "RETFound-Green@224    0.8146    0.8449  \n",
       "DinoV2@224            0.8247    0.8407  "
      ]
     },
     "metadata": {},
     "output_type": "display_data"
    },
    {
     "data": {
      "image/png": "[encoded data removed]",
      "text/plain": [
       "<Figure size 850x400 with 3 Axes>"
      ]
     },
     "metadata": {},
     "output_type": "display_data"
    },
    {
     "name": "stdout",
     "output_type": "stream",
     "text": [
      "Statistically significant wins:  {'RETFound-Green@224': 7, 'DinoV2@224': 2}\n",
      "Ties for first place:  {'RETFound-Green@224': 0, 'DinoV2@224': 0}\n"
     ]
    }
   ],
   "source": [
    "name_X_list = [\n",
    "    ('RETFound-Green@224', 'X_ours_brset_224.npy'),\n",
    "    ('DinoV2@224', 'X_original_dinov2_224_brset.npy'),\n",
    "]\n",
    "\n",
    "\n",
    "models = ['RETFound-Green@224', 'DinoV2@224']\n",
    "colors = ['#B8FF3D', '#6EA6D1']\n",
    "\n",
    "run_brset_exp(name_X_list, models, colors,\n",
    "              figsize=(8.5, 4), dashed_line_offsets=(-0.25, 1.5), xtick_loc_scaling=0.5)"
   ]
  }
 ],
 "metadata": {
  "kernelspec": {
   "display_name": "Python 3 (ipykernel)",
   "language": "python",
   "name": "python3"
  },
  "language_info": {
   "codemirror_mode": {
    "name": "ipython",
    "version": 3
   },
   "file_extension": ".py",
   "mimetype": "text/x-python",
   "name": "python",
   "nbconvert_exporter": "python",
   "pygments_lexer": "ipython3",
   "version": "3.10.13"
  }
 },
 "nbformat": 4,
 "nbformat_minor": 5
}
