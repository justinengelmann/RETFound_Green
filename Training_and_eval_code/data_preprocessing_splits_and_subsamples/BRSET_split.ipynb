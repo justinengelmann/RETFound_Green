{
 "cells": [
  {
   "cell_type": "code",
   "execution_count": 1,
   "id": "a1c5bd01-6f13-46af-8c6a-5f9e55370dc9",
   "metadata": {},
   "outputs": [
    {
     "data": {
      "text/plain": [
       "['brset_datasplit.pkl']"
      ]
     },
     "execution_count": 1,
     "metadata": {},
     "output_type": "execute_result"
    }
   ],
   "source": [
    "import pandas as pd\n",
    "import numpy as np\n",
    "\n",
    "from sklearn.model_selection import KFold\n",
    "\n",
    "import joblib\n",
    "\n",
    "np.random.seed(42)\n",
    "df = pd.read_csv('/mnt/e/a-brazilian-multilabel-ophthalmological-dataset-brset-1.0.0/'\\\n",
    "                 'a-brazilian-multilabel-ophthalmological-dataset-brset-1.0.0/labels.csv')\n",
    "\n",
    "cv = 5\n",
    "splitter = KFold(n_splits=cv, shuffle=True, random_state=42)\n",
    "\n",
    "fold_ids_dict = {}\n",
    "for split_idx, (train_ids, test_ids) in enumerate(splitter.split(df.patient_id.unique())):\n",
    "    assert set(train_ids).intersection(set(test_ids)) == set() # fails if there's any overlap between sets\n",
    "    fold_ids_dict[split_idx] = (train_ids, test_ids)\n",
    "\n",
    "joblib.dump(fold_ids_dict, 'brset_datasplit.pkl')\n"
   ]
  }
 ],
 "metadata": {
  "kernelspec": {
   "display_name": "Python 3 (ipykernel)",
   "language": "python",
   "name": "python3"
  },
  "language_info": {
   "codemirror_mode": {
    "name": "ipython",
    "version": 3
   },
   "file_extension": ".py",
   "mimetype": "text/x-python",
   "name": "python",
   "nbconvert_exporter": "python",
   "pygments_lexer": "ipython3",
   "version": "3.10.13"
  }
 },
 "nbformat": 4,
 "nbformat_minor": 5
}
