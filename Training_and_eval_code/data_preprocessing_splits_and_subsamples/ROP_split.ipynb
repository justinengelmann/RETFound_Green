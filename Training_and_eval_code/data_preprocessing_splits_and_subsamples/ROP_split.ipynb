{
 "cells": [
  {
   "cell_type": "code",
   "execution_count": null,
   "id": "8427b75f-7cdf-4cc3-b90f-2d6bf97b6836",
   "metadata": {},
   "outputs": [],
   "source": [
    "import pandas as pd\n",
    "import numpy as np\n",
    "from sklearn.model_selection import train_test_split\n",
    "\n",
    "df = pd.read_excel('/mnt/c/Users/Justin/Desktop/retina_imaging_datasets/ROP_dataset/zip information.xlsx')\n",
    "df_meta = pd.read_excel('/mnt/c/Users/Justin/Desktop/retina_imaging_datasets/ROP_dataset/zip information.xlsx', sheet_name='Sheet2')\n",
    "\n",
    "df = df.join(df_meta.set_index('ID'), on='ID', lsuffix='_l')\n",
    "\n",
    "df['class'] = df['img_name'].apply(lambda x: '_'.join(x.split('_')[:-1]))\n",
    "\n",
    "trainids, testids = train_test_split(df_meta.ID, test_size=0.2, random_state=42, stratify=df_meta.Gender)\n",
    "\n",
    "dftrain = df[df.ID.isin(trainids)].copy()\n",
    "dftest = df[df.ID.isin(testids)].copy()\n",
    "\n",
    "dftrain.to_csv('/mnt/c/Users/Justin/Desktop/retina_imaging_datasets/ROP_dataset/dftrain.csv', index=None)\n",
    "dftest.to_csv('/mnt/c/Users/Justin/Desktop/retina_imaging_datasets/ROP_dataset/dftest.csv', index=None)"
   ]
  }
 ],
 "metadata": {
  "kernelspec": {
   "display_name": "Python 3 (ipykernel)",
   "language": "python",
   "name": "python3"
  },
  "language_info": {
   "codemirror_mode": {
    "name": "ipython",
    "version": 3
   },
   "file_extension": ".py",
   "mimetype": "text/x-python",
   "name": "python",
   "nbconvert_exporter": "python",
   "pygments_lexer": "ipython3",
   "version": "3.10.13"
  }
 },
 "nbformat": 4,
 "nbformat_minor": 5
}
